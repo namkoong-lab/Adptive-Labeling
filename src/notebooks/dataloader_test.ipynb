{
  "nbformat": 4,
  "nbformat_minor": 0,
  "metadata": {
    "colab": {
      "provenance": []
    },
    "kernelspec": {
      "name": "python3",
      "display_name": "Python 3"
    },
    "language_info": {
      "name": "python"
    }
  },
  "cells": [
    {
      "cell_type": "code",
      "source": [
        "import torch\n",
        "from torch.utils.data import Dataset, DataLoader\n",
        "import pandas as pd"
      ],
      "metadata": {
        "id": "GGal7mhxbytj"
      },
      "execution_count": null,
      "outputs": []
    },
    {
      "cell_type": "code",
      "execution_count": null,
      "metadata": {
        "id": "9EfMU59BXqEv"
      },
      "outputs": [],
      "source": [
        "class TabularDataset(Dataset):\n",
        "    def __init__(self, csv_file, y_column):\n",
        "        \"\"\"\n",
        "        Args:\n",
        "            csv_file (string): Path to the csv file with data.\n",
        "            y_column (string): Name of the column to be used as the target variable.\n",
        "        \"\"\"\n",
        "        self.data_frame = pd.read_csv(csv_file)\n",
        "        self.y_column = y_column\n",
        "\n",
        "    def __len__(self):\n",
        "        return len(self.data_frame)\n",
        "\n",
        "    def __getitem__(self, idx):\n",
        "        if torch.is_tensor(idx):\n",
        "            idx = idx.tolist()\n",
        "\n",
        "        # Split data into features and target\n",
        "        x = self.data_frame.drop(self.y_column, axis=1).iloc[idx].values\n",
        "        y = self.data_frame[self.y_column].iloc[idx]\n",
        "\n",
        "        # If idx is a list or slice, y will be DataFrames and we can use .values\n",
        "        # If idx is a single value,y will be scalars, and we should not use .values\n",
        "        if isinstance(idx, int):\n",
        "            # Converty to 1D arrays with a single value each\n",
        "            y = np.array([y])\n",
        "        else:\n",
        "            # Convert DataFrame to numpy array\n",
        "            y = y.values\n",
        "\n",
        "        # Convert to tensor\n",
        "        x = torch.tensor(x, dtype=torch.float32)\n",
        "        y = torch.tensor(y, dtype=torch.float32)\n",
        "\n",
        "        return x, y\n"
      ]
    },
    {
      "cell_type": "code",
      "source": [
        "class TabularDatasetPool(Dataset):\n",
        "    def __init__(self, csv_file, y_column):\n",
        "        \"\"\"\n",
        "        Args:\n",
        "            csv_file (string): Path to the csv file with data.\n",
        "            y_column (string): Name of the column to be used as the target variable.\n",
        "        \"\"\"\n",
        "        self.data_frame = pd.read_csv(csv_file)\n",
        "        self.y_column = y_column\n",
        "\n",
        "    def __len__(self):\n",
        "        return len(self.data_frame)\n",
        "\n",
        "    def __getitem__(self, idx):\n",
        "        if torch.is_tensor(idx):\n",
        "            idx = idx.tolist()\n",
        "\n",
        "        # Split data into features and target\n",
        "        x = self.data_frame.drop(self.y_column, axis=1).iloc[idx].values\n",
        "        y = self.data_frame[self.y_column].iloc[idx]\n",
        "\n",
        "        # If idx is a list or slice, y will be DataFrames and we can use .values\n",
        "        # If idx is a single value, y will be scalars, and we should not use .values\n",
        "        if isinstance(idx, int):\n",
        "            # y to 1D arrays with a single value each\n",
        "            y = np.array([y])\n",
        "        else:\n",
        "            # Convert DataFrame to numpy array\n",
        "            y = y.values\n",
        "\n",
        "        # Convert to tensor\n",
        "        x = torch.tensor(x, dtype=torch.float32)\n",
        "        y = torch.tensor(y, dtype=torch.float32)\n",
        "\n",
        "        return idx, x, y\n"
      ],
      "metadata": {
        "id": "lfXwZlwhXx0O"
      },
      "execution_count": null,
      "outputs": []
    },
    {
      "cell_type": "code",
      "source": [
        "class SquareDataset(Dataset):\n",
        "    def __init__(self, size):\n",
        "        self.size = size\n",
        "\n",
        "    def __len__(self):\n",
        "        return self.size\n",
        "\n",
        "    def __getitem__(self, idx):\n",
        "        return idx, idx ** 2"
      ],
      "metadata": {
        "id": "LzWPQwBT5YEu"
      },
      "execution_count": null,
      "outputs": []
    },
    {
      "cell_type": "code",
      "source": [
        "dataset = SquareDataset(10)"
      ],
      "metadata": {
        "id": "qD0Wiu3c5YpY"
      },
      "execution_count": null,
      "outputs": []
    },
    {
      "cell_type": "code",
      "source": [
        "dataloader = DataLoader(dataset, batch_size=4, shuffle=True)"
      ],
      "metadata": {
        "id": "89L_0xIq5adJ"
      },
      "execution_count": null,
      "outputs": []
    },
    {
      "cell_type": "code",
      "source": [
        "for i in range(10):\n",
        "  for indices, data in dataloader:\n",
        "      print(f\"Indices: {indices} \\t Squares: {data}\")"
      ],
      "metadata": {
        "colab": {
          "base_uri": "https://localhost:8080/"
        },
        "id": "ZH3CbmuQ5gj9",
        "outputId": "ec26af6e-c307-4ab1-a541-83ae0eabee0d"
      },
      "execution_count": null,
      "outputs": [
        {
          "output_type": "stream",
          "name": "stdout",
          "text": [
            "Indices: tensor([0, 3, 6, 2]) \t Squares: tensor([ 0,  9, 36,  4])\n",
            "Indices: tensor([4, 7, 9, 8]) \t Squares: tensor([16, 49, 81, 64])\n",
            "Indices: tensor([5, 1]) \t Squares: tensor([25,  1])\n",
            "Indices: tensor([7, 8, 0, 3]) \t Squares: tensor([49, 64,  0,  9])\n",
            "Indices: tensor([2, 9, 4, 6]) \t Squares: tensor([ 4, 81, 16, 36])\n",
            "Indices: tensor([5, 1]) \t Squares: tensor([25,  1])\n",
            "Indices: tensor([0, 4, 1, 8]) \t Squares: tensor([ 0, 16,  1, 64])\n",
            "Indices: tensor([3, 6, 9, 5]) \t Squares: tensor([ 9, 36, 81, 25])\n",
            "Indices: tensor([2, 7]) \t Squares: tensor([ 4, 49])\n",
            "Indices: tensor([0, 7, 8, 3]) \t Squares: tensor([ 0, 49, 64,  9])\n",
            "Indices: tensor([1, 2, 5, 9]) \t Squares: tensor([ 1,  4, 25, 81])\n",
            "Indices: tensor([4, 6]) \t Squares: tensor([16, 36])\n",
            "Indices: tensor([4, 9, 1, 6]) \t Squares: tensor([16, 81,  1, 36])\n",
            "Indices: tensor([2, 3, 5, 7]) \t Squares: tensor([ 4,  9, 25, 49])\n",
            "Indices: tensor([0, 8]) \t Squares: tensor([ 0, 64])\n",
            "Indices: tensor([6, 1, 7, 0]) \t Squares: tensor([36,  1, 49,  0])\n",
            "Indices: tensor([5, 9, 2, 8]) \t Squares: tensor([25, 81,  4, 64])\n",
            "Indices: tensor([4, 3]) \t Squares: tensor([16,  9])\n",
            "Indices: tensor([5, 6, 0, 9]) \t Squares: tensor([25, 36,  0, 81])\n",
            "Indices: tensor([1, 8, 4, 2]) \t Squares: tensor([ 1, 64, 16,  4])\n",
            "Indices: tensor([7, 3]) \t Squares: tensor([49,  9])\n",
            "Indices: tensor([3, 4, 7, 8]) \t Squares: tensor([ 9, 16, 49, 64])\n",
            "Indices: tensor([0, 5, 9, 1]) \t Squares: tensor([ 0, 25, 81,  1])\n",
            "Indices: tensor([2, 6]) \t Squares: tensor([ 4, 36])\n",
            "Indices: tensor([9, 4, 0, 6]) \t Squares: tensor([81, 16,  0, 36])\n",
            "Indices: tensor([1, 7, 2, 5]) \t Squares: tensor([ 1, 49,  4, 25])\n",
            "Indices: tensor([3, 8]) \t Squares: tensor([ 9, 64])\n",
            "Indices: tensor([8, 0, 6, 4]) \t Squares: tensor([64,  0, 36, 16])\n",
            "Indices: tensor([5, 2, 1, 7]) \t Squares: tensor([25,  4,  1, 49])\n",
            "Indices: tensor([3, 9]) \t Squares: tensor([ 9, 81])\n"
          ]
        }
      ]
    },
    {
      "cell_type": "code",
      "source": [],
      "metadata": {
        "id": "C-t-EB1Y6Iiz"
      },
      "execution_count": null,
      "outputs": []
    },
    {
      "cell_type": "code",
      "source": [
        "for i in range(10):\n",
        "  data_iterator = iter(dataloader)\n",
        "  try:\n",
        "      while True:\n",
        "          indices, data = next(data_iterator)\n",
        "          print(f\"Indices: {indices} \\t Squares: {data}\")\n",
        "  except StopIteration:\n",
        "      # Iterator is exhausted\n",
        "      print(\"All batches have been processed.\")"
      ],
      "metadata": {
        "colab": {
          "base_uri": "https://localhost:8080/"
        },
        "id": "FjYGo6sI6Kdp",
        "outputId": "6ac3a97a-611f-405b-96f5-1538c7e751b2"
      },
      "execution_count": null,
      "outputs": [
        {
          "output_type": "stream",
          "name": "stdout",
          "text": [
            "Indices: tensor([6, 5, 4, 3]) \t Squares: tensor([36, 25, 16,  9])\n",
            "Indices: tensor([9, 0, 7, 8]) \t Squares: tensor([81,  0, 49, 64])\n",
            "Indices: tensor([1, 2]) \t Squares: tensor([1, 4])\n",
            "All batches have been processed.\n",
            "Indices: tensor([5, 0, 6, 4]) \t Squares: tensor([25,  0, 36, 16])\n",
            "Indices: tensor([9, 2, 8, 1]) \t Squares: tensor([81,  4, 64,  1])\n",
            "Indices: tensor([7, 3]) \t Squares: tensor([49,  9])\n",
            "All batches have been processed.\n",
            "Indices: tensor([9, 6, 1, 5]) \t Squares: tensor([81, 36,  1, 25])\n",
            "Indices: tensor([3, 0, 8, 7]) \t Squares: tensor([ 9,  0, 64, 49])\n",
            "Indices: tensor([2, 4]) \t Squares: tensor([ 4, 16])\n",
            "All batches have been processed.\n",
            "Indices: tensor([8, 3, 7, 5]) \t Squares: tensor([64,  9, 49, 25])\n",
            "Indices: tensor([4, 6, 2, 9]) \t Squares: tensor([16, 36,  4, 81])\n",
            "Indices: tensor([0, 1]) \t Squares: tensor([0, 1])\n",
            "All batches have been processed.\n",
            "Indices: tensor([3, 9, 5, 4]) \t Squares: tensor([ 9, 81, 25, 16])\n",
            "Indices: tensor([7, 0, 6, 1]) \t Squares: tensor([49,  0, 36,  1])\n",
            "Indices: tensor([8, 2]) \t Squares: tensor([64,  4])\n",
            "All batches have been processed.\n",
            "Indices: tensor([2, 4, 9, 3]) \t Squares: tensor([ 4, 16, 81,  9])\n",
            "Indices: tensor([5, 0, 6, 7]) \t Squares: tensor([25,  0, 36, 49])\n",
            "Indices: tensor([1, 8]) \t Squares: tensor([ 1, 64])\n",
            "All batches have been processed.\n",
            "Indices: tensor([5, 7, 9, 2]) \t Squares: tensor([25, 49, 81,  4])\n",
            "Indices: tensor([4, 0, 8, 6]) \t Squares: tensor([16,  0, 64, 36])\n",
            "Indices: tensor([1, 3]) \t Squares: tensor([1, 9])\n",
            "All batches have been processed.\n",
            "Indices: tensor([6, 9, 5, 7]) \t Squares: tensor([36, 81, 25, 49])\n",
            "Indices: tensor([3, 2, 0, 4]) \t Squares: tensor([ 9,  4,  0, 16])\n",
            "Indices: tensor([8, 1]) \t Squares: tensor([64,  1])\n",
            "All batches have been processed.\n",
            "Indices: tensor([5, 9, 4, 1]) \t Squares: tensor([25, 81, 16,  1])\n",
            "Indices: tensor([0, 3, 2, 8]) \t Squares: tensor([ 0,  9,  4, 64])\n",
            "Indices: tensor([7, 6]) \t Squares: tensor([49, 36])\n",
            "All batches have been processed.\n",
            "Indices: tensor([7, 8, 2, 4]) \t Squares: tensor([49, 64,  4, 16])\n",
            "Indices: tensor([5, 3, 9, 1]) \t Squares: tensor([25,  9, 81,  1])\n",
            "Indices: tensor([0, 6]) \t Squares: tensor([ 0, 36])\n",
            "All batches have been processed.\n"
          ]
        }
      ]
    },
    {
      "cell_type": "code",
      "source": [
        "from google.colab import drive\n",
        "drive.mount('/content/drive')"
      ],
      "metadata": {
        "colab": {
          "base_uri": "https://localhost:8080/"
        },
        "id": "KjeMmTAD7NVh",
        "outputId": "95481ebc-4fcb-4c2d-9b18-dfff4137f955"
      },
      "execution_count": null,
      "outputs": [
        {
          "output_type": "stream",
          "name": "stdout",
          "text": [
            "Mounted at /content/drive\n"
          ]
        }
      ]
    },
    {
      "cell_type": "code",
      "source": [
        "import pandas as pd\n",
        "import numpy as np\n",
        "\n",
        "# Generating random data for the CSV file\n",
        "np.random.seed(0)  # For reproducibility\n",
        "data_size = 10 # Number of rows\n",
        "\n",
        "# Generating random features (3 features) and target values\n",
        "features = np.random.rand(data_size, 1)  # Random values between 0 and 1\n",
        "target = np.random.randint(0, 2, data_size)  # Random binary target\n",
        "\n",
        "# Creating a DataFrame\n",
        "df = pd.DataFrame(features, columns=['feature1'])\n",
        "df['target'] = target\n",
        "\n",
        "# Saving the DataFrame to a CSV file\n",
        "csv_file_path = '/content/drive/MyDrive/example_data.csv'\n",
        "df.to_csv(csv_file_path, index=False)"
      ],
      "metadata": {
        "id": "s9cfdxoJ7Muh"
      },
      "execution_count": null,
      "outputs": []
    },
    {
      "cell_type": "code",
      "source": [
        "dataset = TabularDatasetPool(csv_file='/content/drive/MyDrive/example_data.csv', y_column='target')\n",
        "\n",
        "# Create a DataLoader\n",
        "dataloader = DataLoader(dataset, batch_size=3, shuffle=True)"
      ],
      "metadata": {
        "id": "EUkUr0fs76su"
      },
      "execution_count": null,
      "outputs": []
    },
    {
      "cell_type": "code",
      "source": [
        "for i in range(10):\n",
        "  # Iterate over the DataLoader\n",
        "  for idx, features, target in dataloader:\n",
        "      print(f\"Index: {idx}, Features: {features}, Target: {target}\")"
      ],
      "metadata": {
        "colab": {
          "base_uri": "https://localhost:8080/"
        },
        "id": "hotnHl6c8Kpa",
        "outputId": "c428b0fd-9653-4a14-d581-23f9089447e9"
      },
      "execution_count": null,
      "outputs": [
        {
          "output_type": "stream",
          "name": "stdout",
          "text": [
            "Index: tensor([3, 9, 0]), Features: tensor([[0.5449],\n",
            "        [0.3834],\n",
            "        [0.5488]]), Target: tensor([[0.],\n",
            "        [0.],\n",
            "        [0.]])\n",
            "Index: tensor([1, 6, 2]), Features: tensor([[0.7152],\n",
            "        [0.4376],\n",
            "        [0.6028]]), Target: tensor([[1.],\n",
            "        [1.],\n",
            "        [1.]])\n",
            "Index: tensor([7, 8, 4]), Features: tensor([[0.8918],\n",
            "        [0.9637],\n",
            "        [0.4237]]), Target: tensor([[1.],\n",
            "        [1.],\n",
            "        [0.]])\n",
            "Index: tensor([5]), Features: tensor([[0.6459]]), Target: tensor([[1.]])\n",
            "Index: tensor([5, 8, 9]), Features: tensor([[0.6459],\n",
            "        [0.9637],\n",
            "        [0.3834]]), Target: tensor([[1.],\n",
            "        [1.],\n",
            "        [0.]])\n",
            "Index: tensor([0, 7, 4]), Features: tensor([[0.5488],\n",
            "        [0.8918],\n",
            "        [0.4237]]), Target: tensor([[0.],\n",
            "        [1.],\n",
            "        [0.]])\n",
            "Index: tensor([1, 6, 2]), Features: tensor([[0.7152],\n",
            "        [0.4376],\n",
            "        [0.6028]]), Target: tensor([[1.],\n",
            "        [1.],\n",
            "        [1.]])\n",
            "Index: tensor([3]), Features: tensor([[0.5449]]), Target: tensor([[0.]])\n",
            "Index: tensor([3, 4, 5]), Features: tensor([[0.5449],\n",
            "        [0.4237],\n",
            "        [0.6459]]), Target: tensor([[0.],\n",
            "        [0.],\n",
            "        [1.]])\n",
            "Index: tensor([7, 2, 6]), Features: tensor([[0.8918],\n",
            "        [0.6028],\n",
            "        [0.4376]]), Target: tensor([[1.],\n",
            "        [1.],\n",
            "        [1.]])\n",
            "Index: tensor([0, 8, 9]), Features: tensor([[0.5488],\n",
            "        [0.9637],\n",
            "        [0.3834]]), Target: tensor([[0.],\n",
            "        [1.],\n",
            "        [0.]])\n",
            "Index: tensor([1]), Features: tensor([[0.7152]]), Target: tensor([[1.]])\n",
            "Index: tensor([1, 3, 6]), Features: tensor([[0.7152],\n",
            "        [0.5449],\n",
            "        [0.4376]]), Target: tensor([[1.],\n",
            "        [0.],\n",
            "        [1.]])\n",
            "Index: tensor([4, 2, 8]), Features: tensor([[0.4237],\n",
            "        [0.6028],\n",
            "        [0.9637]]), Target: tensor([[0.],\n",
            "        [1.],\n",
            "        [1.]])\n",
            "Index: tensor([9, 5, 0]), Features: tensor([[0.3834],\n",
            "        [0.6459],\n",
            "        [0.5488]]), Target: tensor([[0.],\n",
            "        [1.],\n",
            "        [0.]])\n",
            "Index: tensor([7]), Features: tensor([[0.8918]]), Target: tensor([[1.]])\n",
            "Index: tensor([8, 0, 4]), Features: tensor([[0.9637],\n",
            "        [0.5488],\n",
            "        [0.4237]]), Target: tensor([[1.],\n",
            "        [0.],\n",
            "        [0.]])\n",
            "Index: tensor([3, 6, 2]), Features: tensor([[0.5449],\n",
            "        [0.4376],\n",
            "        [0.6028]]), Target: tensor([[0.],\n",
            "        [1.],\n",
            "        [1.]])\n",
            "Index: tensor([1, 7, 9]), Features: tensor([[0.7152],\n",
            "        [0.8918],\n",
            "        [0.3834]]), Target: tensor([[1.],\n",
            "        [1.],\n",
            "        [0.]])\n",
            "Index: tensor([5]), Features: tensor([[0.6459]]), Target: tensor([[1.]])\n",
            "Index: tensor([9, 3, 6]), Features: tensor([[0.3834],\n",
            "        [0.5449],\n",
            "        [0.4376]]), Target: tensor([[0.],\n",
            "        [0.],\n",
            "        [1.]])\n",
            "Index: tensor([8, 2, 7]), Features: tensor([[0.9637],\n",
            "        [0.6028],\n",
            "        [0.8918]]), Target: tensor([[1.],\n",
            "        [1.],\n",
            "        [1.]])\n",
            "Index: tensor([4, 0, 1]), Features: tensor([[0.4237],\n",
            "        [0.5488],\n",
            "        [0.7152]]), Target: tensor([[0.],\n",
            "        [0.],\n",
            "        [1.]])\n",
            "Index: tensor([5]), Features: tensor([[0.6459]]), Target: tensor([[1.]])\n",
            "Index: tensor([0, 1, 3]), Features: tensor([[0.5488],\n",
            "        [0.7152],\n",
            "        [0.5449]]), Target: tensor([[0.],\n",
            "        [1.],\n",
            "        [0.]])\n",
            "Index: tensor([8, 5, 4]), Features: tensor([[0.9637],\n",
            "        [0.6459],\n",
            "        [0.4237]]), Target: tensor([[1.],\n",
            "        [1.],\n",
            "        [0.]])\n",
            "Index: tensor([6, 7, 2]), Features: tensor([[0.4376],\n",
            "        [0.8918],\n",
            "        [0.6028]]), Target: tensor([[1.],\n",
            "        [1.],\n",
            "        [1.]])\n",
            "Index: tensor([9]), Features: tensor([[0.3834]]), Target: tensor([[0.]])\n",
            "Index: tensor([8, 5, 7]), Features: tensor([[0.9637],\n",
            "        [0.6459],\n",
            "        [0.8918]]), Target: tensor([[1.],\n",
            "        [1.],\n",
            "        [1.]])\n",
            "Index: tensor([1, 4, 9]), Features: tensor([[0.7152],\n",
            "        [0.4237],\n",
            "        [0.3834]]), Target: tensor([[1.],\n",
            "        [0.],\n",
            "        [0.]])\n",
            "Index: tensor([0, 6, 2]), Features: tensor([[0.5488],\n",
            "        [0.4376],\n",
            "        [0.6028]]), Target: tensor([[0.],\n",
            "        [1.],\n",
            "        [1.]])\n",
            "Index: tensor([3]), Features: tensor([[0.5449]]), Target: tensor([[0.]])\n",
            "Index: tensor([8, 2, 6]), Features: tensor([[0.9637],\n",
            "        [0.6028],\n",
            "        [0.4376]]), Target: tensor([[1.],\n",
            "        [1.],\n",
            "        [1.]])\n",
            "Index: tensor([1, 4, 7]), Features: tensor([[0.7152],\n",
            "        [0.4237],\n",
            "        [0.8918]]), Target: tensor([[1.],\n",
            "        [0.],\n",
            "        [1.]])\n",
            "Index: tensor([5, 9, 0]), Features: tensor([[0.6459],\n",
            "        [0.3834],\n",
            "        [0.5488]]), Target: tensor([[1.],\n",
            "        [0.],\n",
            "        [0.]])\n",
            "Index: tensor([3]), Features: tensor([[0.5449]]), Target: tensor([[0.]])\n",
            "Index: tensor([0, 8, 6]), Features: tensor([[0.5488],\n",
            "        [0.9637],\n",
            "        [0.4376]]), Target: tensor([[0.],\n",
            "        [1.],\n",
            "        [1.]])\n",
            "Index: tensor([4, 9, 1]), Features: tensor([[0.4237],\n",
            "        [0.3834],\n",
            "        [0.7152]]), Target: tensor([[0.],\n",
            "        [0.],\n",
            "        [1.]])\n",
            "Index: tensor([3, 5, 7]), Features: tensor([[0.5449],\n",
            "        [0.6459],\n",
            "        [0.8918]]), Target: tensor([[0.],\n",
            "        [1.],\n",
            "        [1.]])\n",
            "Index: tensor([2]), Features: tensor([[0.6028]]), Target: tensor([[1.]])\n"
          ]
        }
      ]
    },
    {
      "cell_type": "code",
      "source": [
        "for i in range(10):\n",
        "  data_iterator = iter(dataloader)\n",
        "  try:\n",
        "      while True:\n",
        "          indices, x, y = next(data_iterator)\n",
        "          print(f\"Indices: {indices} \\t Squares: {x} \\t Squares: {y}\")\n",
        "          print(type(indices))\n",
        "          print(indices.shape)\n",
        "          print(x.shape)\n",
        "  except StopIteration:\n",
        "      # Iterator is exhausted\n",
        "      print(\"All batches have been processed.\")"
      ],
      "metadata": {
        "colab": {
          "base_uri": "https://localhost:8080/"
        },
        "id": "FbE63sSU8Qdj",
        "outputId": "c3962295-d1a9-4c4b-8d7f-b168dc321201"
      },
      "execution_count": null,
      "outputs": [
        {
          "output_type": "stream",
          "name": "stdout",
          "text": [
            "Indices: tensor([4, 1, 6]) \t Squares: tensor([[0.4237],\n",
            "        [0.7152],\n",
            "        [0.4376]]) \t Squares: tensor([[0.],\n",
            "        [1.],\n",
            "        [1.]])\n",
            "<class 'torch.Tensor'>\n",
            "torch.Size([3])\n",
            "torch.Size([3, 1])\n",
            "Indices: tensor([2, 9, 8]) \t Squares: tensor([[0.6028],\n",
            "        [0.3834],\n",
            "        [0.9637]]) \t Squares: tensor([[1.],\n",
            "        [0.],\n",
            "        [1.]])\n",
            "<class 'torch.Tensor'>\n",
            "torch.Size([3])\n",
            "torch.Size([3, 1])\n",
            "Indices: tensor([7, 5, 0]) \t Squares: tensor([[0.8918],\n",
            "        [0.6459],\n",
            "        [0.5488]]) \t Squares: tensor([[1.],\n",
            "        [1.],\n",
            "        [0.]])\n",
            "<class 'torch.Tensor'>\n",
            "torch.Size([3])\n",
            "torch.Size([3, 1])\n",
            "Indices: tensor([3]) \t Squares: tensor([[0.5449]]) \t Squares: tensor([[0.]])\n",
            "<class 'torch.Tensor'>\n",
            "torch.Size([1])\n",
            "torch.Size([1, 1])\n",
            "All batches have been processed.\n",
            "Indices: tensor([0, 7, 9]) \t Squares: tensor([[0.5488],\n",
            "        [0.8918],\n",
            "        [0.3834]]) \t Squares: tensor([[0.],\n",
            "        [1.],\n",
            "        [0.]])\n",
            "<class 'torch.Tensor'>\n",
            "torch.Size([3])\n",
            "torch.Size([3, 1])\n",
            "Indices: tensor([2, 4, 8]) \t Squares: tensor([[0.6028],\n",
            "        [0.4237],\n",
            "        [0.9637]]) \t Squares: tensor([[1.],\n",
            "        [0.],\n",
            "        [1.]])\n",
            "<class 'torch.Tensor'>\n",
            "torch.Size([3])\n",
            "torch.Size([3, 1])\n",
            "Indices: tensor([6, 3, 1]) \t Squares: tensor([[0.4376],\n",
            "        [0.5449],\n",
            "        [0.7152]]) \t Squares: tensor([[1.],\n",
            "        [0.],\n",
            "        [1.]])\n",
            "<class 'torch.Tensor'>\n",
            "torch.Size([3])\n",
            "torch.Size([3, 1])\n",
            "Indices: tensor([5]) \t Squares: tensor([[0.6459]]) \t Squares: tensor([[1.]])\n",
            "<class 'torch.Tensor'>\n",
            "torch.Size([1])\n",
            "torch.Size([1, 1])\n",
            "All batches have been processed.\n",
            "Indices: tensor([0, 6, 8]) \t Squares: tensor([[0.5488],\n",
            "        [0.4376],\n",
            "        [0.9637]]) \t Squares: tensor([[0.],\n",
            "        [1.],\n",
            "        [1.]])\n",
            "<class 'torch.Tensor'>\n",
            "torch.Size([3])\n",
            "torch.Size([3, 1])\n",
            "Indices: tensor([9, 1, 5]) \t Squares: tensor([[0.3834],\n",
            "        [0.7152],\n",
            "        [0.6459]]) \t Squares: tensor([[0.],\n",
            "        [1.],\n",
            "        [1.]])\n",
            "<class 'torch.Tensor'>\n",
            "torch.Size([3])\n",
            "torch.Size([3, 1])\n",
            "Indices: tensor([2, 4, 7]) \t Squares: tensor([[0.6028],\n",
            "        [0.4237],\n",
            "        [0.8918]]) \t Squares: tensor([[1.],\n",
            "        [0.],\n",
            "        [1.]])\n",
            "<class 'torch.Tensor'>\n",
            "torch.Size([3])\n",
            "torch.Size([3, 1])\n",
            "Indices: tensor([3]) \t Squares: tensor([[0.5449]]) \t Squares: tensor([[0.]])\n",
            "<class 'torch.Tensor'>\n",
            "torch.Size([1])\n",
            "torch.Size([1, 1])\n",
            "All batches have been processed.\n",
            "Indices: tensor([5, 8, 2]) \t Squares: tensor([[0.6459],\n",
            "        [0.9637],\n",
            "        [0.6028]]) \t Squares: tensor([[1.],\n",
            "        [1.],\n",
            "        [1.]])\n",
            "<class 'torch.Tensor'>\n",
            "torch.Size([3])\n",
            "torch.Size([3, 1])\n",
            "Indices: tensor([6, 3, 7]) \t Squares: tensor([[0.4376],\n",
            "        [0.5449],\n",
            "        [0.8918]]) \t Squares: tensor([[1.],\n",
            "        [0.],\n",
            "        [1.]])\n",
            "<class 'torch.Tensor'>\n",
            "torch.Size([3])\n",
            "torch.Size([3, 1])\n",
            "Indices: tensor([9, 0, 4]) \t Squares: tensor([[0.3834],\n",
            "        [0.5488],\n",
            "        [0.4237]]) \t Squares: tensor([[0.],\n",
            "        [0.],\n",
            "        [0.]])\n",
            "<class 'torch.Tensor'>\n",
            "torch.Size([3])\n",
            "torch.Size([3, 1])\n",
            "Indices: tensor([1]) \t Squares: tensor([[0.7152]]) \t Squares: tensor([[1.]])\n",
            "<class 'torch.Tensor'>\n",
            "torch.Size([1])\n",
            "torch.Size([1, 1])\n",
            "All batches have been processed.\n",
            "Indices: tensor([3, 2, 0]) \t Squares: tensor([[0.5449],\n",
            "        [0.6028],\n",
            "        [0.5488]]) \t Squares: tensor([[0.],\n",
            "        [1.],\n",
            "        [0.]])\n",
            "<class 'torch.Tensor'>\n",
            "torch.Size([3])\n",
            "torch.Size([3, 1])\n",
            "Indices: tensor([4, 9, 7]) \t Squares: tensor([[0.4237],\n",
            "        [0.3834],\n",
            "        [0.8918]]) \t Squares: tensor([[0.],\n",
            "        [0.],\n",
            "        [1.]])\n",
            "<class 'torch.Tensor'>\n",
            "torch.Size([3])\n",
            "torch.Size([3, 1])\n",
            "Indices: tensor([8, 6, 1]) \t Squares: tensor([[0.9637],\n",
            "        [0.4376],\n",
            "        [0.7152]]) \t Squares: tensor([[1.],\n",
            "        [1.],\n",
            "        [1.]])\n",
            "<class 'torch.Tensor'>\n",
            "torch.Size([3])\n",
            "torch.Size([3, 1])\n",
            "Indices: tensor([5]) \t Squares: tensor([[0.6459]]) \t Squares: tensor([[1.]])\n",
            "<class 'torch.Tensor'>\n",
            "torch.Size([1])\n",
            "torch.Size([1, 1])\n",
            "All batches have been processed.\n",
            "Indices: tensor([1, 0, 3]) \t Squares: tensor([[0.7152],\n",
            "        [0.5488],\n",
            "        [0.5449]]) \t Squares: tensor([[1.],\n",
            "        [0.],\n",
            "        [0.]])\n",
            "<class 'torch.Tensor'>\n",
            "torch.Size([3])\n",
            "torch.Size([3, 1])\n",
            "Indices: tensor([7, 9, 4]) \t Squares: tensor([[0.8918],\n",
            "        [0.3834],\n",
            "        [0.4237]]) \t Squares: tensor([[1.],\n",
            "        [0.],\n",
            "        [0.]])\n",
            "<class 'torch.Tensor'>\n",
            "torch.Size([3])\n",
            "torch.Size([3, 1])\n",
            "Indices: tensor([5, 6, 8]) \t Squares: tensor([[0.6459],\n",
            "        [0.4376],\n",
            "        [0.9637]]) \t Squares: tensor([[1.],\n",
            "        [1.],\n",
            "        [1.]])\n",
            "<class 'torch.Tensor'>\n",
            "torch.Size([3])\n",
            "torch.Size([3, 1])\n",
            "Indices: tensor([2]) \t Squares: tensor([[0.6028]]) \t Squares: tensor([[1.]])\n",
            "<class 'torch.Tensor'>\n",
            "torch.Size([1])\n",
            "torch.Size([1, 1])\n",
            "All batches have been processed.\n",
            "Indices: tensor([0, 8, 7]) \t Squares: tensor([[0.5488],\n",
            "        [0.9637],\n",
            "        [0.8918]]) \t Squares: tensor([[0.],\n",
            "        [1.],\n",
            "        [1.]])\n",
            "<class 'torch.Tensor'>\n",
            "torch.Size([3])\n",
            "torch.Size([3, 1])\n",
            "Indices: tensor([2, 9, 1]) \t Squares: tensor([[0.6028],\n",
            "        [0.3834],\n",
            "        [0.7152]]) \t Squares: tensor([[1.],\n",
            "        [0.],\n",
            "        [1.]])\n",
            "<class 'torch.Tensor'>\n",
            "torch.Size([3])\n",
            "torch.Size([3, 1])\n",
            "Indices: tensor([5, 4, 3]) \t Squares: tensor([[0.6459],\n",
            "        [0.4237],\n",
            "        [0.5449]]) \t Squares: tensor([[1.],\n",
            "        [0.],\n",
            "        [0.]])\n",
            "<class 'torch.Tensor'>\n",
            "torch.Size([3])\n",
            "torch.Size([3, 1])\n",
            "Indices: tensor([6]) \t Squares: tensor([[0.4376]]) \t Squares: tensor([[1.]])\n",
            "<class 'torch.Tensor'>\n",
            "torch.Size([1])\n",
            "torch.Size([1, 1])\n",
            "All batches have been processed.\n",
            "Indices: tensor([8, 1, 6]) \t Squares: tensor([[0.9637],\n",
            "        [0.7152],\n",
            "        [0.4376]]) \t Squares: tensor([[1.],\n",
            "        [1.],\n",
            "        [1.]])\n",
            "<class 'torch.Tensor'>\n",
            "torch.Size([3])\n",
            "torch.Size([3, 1])\n",
            "Indices: tensor([9, 3, 5]) \t Squares: tensor([[0.3834],\n",
            "        [0.5449],\n",
            "        [0.6459]]) \t Squares: tensor([[0.],\n",
            "        [0.],\n",
            "        [1.]])\n",
            "<class 'torch.Tensor'>\n",
            "torch.Size([3])\n",
            "torch.Size([3, 1])\n",
            "Indices: tensor([4, 2, 7]) \t Squares: tensor([[0.4237],\n",
            "        [0.6028],\n",
            "        [0.8918]]) \t Squares: tensor([[0.],\n",
            "        [1.],\n",
            "        [1.]])\n",
            "<class 'torch.Tensor'>\n",
            "torch.Size([3])\n",
            "torch.Size([3, 1])\n",
            "Indices: tensor([0]) \t Squares: tensor([[0.5488]]) \t Squares: tensor([[0.]])\n",
            "<class 'torch.Tensor'>\n",
            "torch.Size([1])\n",
            "torch.Size([1, 1])\n",
            "All batches have been processed.\n",
            "Indices: tensor([1, 3, 6]) \t Squares: tensor([[0.7152],\n",
            "        [0.5449],\n",
            "        [0.4376]]) \t Squares: tensor([[1.],\n",
            "        [0.],\n",
            "        [1.]])\n",
            "<class 'torch.Tensor'>\n",
            "torch.Size([3])\n",
            "torch.Size([3, 1])\n",
            "Indices: tensor([8, 0, 4]) \t Squares: tensor([[0.9637],\n",
            "        [0.5488],\n",
            "        [0.4237]]) \t Squares: tensor([[1.],\n",
            "        [0.],\n",
            "        [0.]])\n",
            "<class 'torch.Tensor'>\n",
            "torch.Size([3])\n",
            "torch.Size([3, 1])\n",
            "Indices: tensor([5, 7, 9]) \t Squares: tensor([[0.6459],\n",
            "        [0.8918],\n",
            "        [0.3834]]) \t Squares: tensor([[1.],\n",
            "        [1.],\n",
            "        [0.]])\n",
            "<class 'torch.Tensor'>\n",
            "torch.Size([3])\n",
            "torch.Size([3, 1])\n",
            "Indices: tensor([2]) \t Squares: tensor([[0.6028]]) \t Squares: tensor([[1.]])\n",
            "<class 'torch.Tensor'>\n",
            "torch.Size([1])\n",
            "torch.Size([1, 1])\n",
            "All batches have been processed.\n",
            "Indices: tensor([1, 9, 7]) \t Squares: tensor([[0.7152],\n",
            "        [0.3834],\n",
            "        [0.8918]]) \t Squares: tensor([[1.],\n",
            "        [0.],\n",
            "        [1.]])\n",
            "<class 'torch.Tensor'>\n",
            "torch.Size([3])\n",
            "torch.Size([3, 1])\n",
            "Indices: tensor([8, 5, 2]) \t Squares: tensor([[0.9637],\n",
            "        [0.6459],\n",
            "        [0.6028]]) \t Squares: tensor([[1.],\n",
            "        [1.],\n",
            "        [1.]])\n",
            "<class 'torch.Tensor'>\n",
            "torch.Size([3])\n",
            "torch.Size([3, 1])\n",
            "Indices: tensor([6, 0, 4]) \t Squares: tensor([[0.4376],\n",
            "        [0.5488],\n",
            "        [0.4237]]) \t Squares: tensor([[1.],\n",
            "        [0.],\n",
            "        [0.]])\n",
            "<class 'torch.Tensor'>\n",
            "torch.Size([3])\n",
            "torch.Size([3, 1])\n",
            "Indices: tensor([3]) \t Squares: tensor([[0.5449]]) \t Squares: tensor([[0.]])\n",
            "<class 'torch.Tensor'>\n",
            "torch.Size([1])\n",
            "torch.Size([1, 1])\n",
            "All batches have been processed.\n"
          ]
        }
      ]
    },
    {
      "cell_type": "code",
      "source": [
        "\n",
        "dataset = TabularDatasetPool(csv_file='/content/drive/MyDrive/example_data.csv', y_column='target')\n",
        "\n",
        "# Create a DataLoader\n",
        "dataloader = DataLoader(dataset, batch_size=3, shuffle=True)"
      ],
      "metadata": {
        "id": "gmGldce2BBMc"
      },
      "execution_count": null,
      "outputs": []
    },
    {
      "cell_type": "code",
      "source": [
        "data_frame = pd.read_csv('/content/drive/MyDrive/example_data.csv')\n",
        "y_column = 'target'\n"
      ],
      "metadata": {
        "id": "92MQaCKRAg3d"
      },
      "execution_count": null,
      "outputs": []
    },
    {
      "cell_type": "code",
      "source": [
        "print(data_frame)"
      ],
      "metadata": {
        "colab": {
          "base_uri": "https://localhost:8080/"
        },
        "id": "2QsITajXBC0Y",
        "outputId": "faf1a827-c972-4caf-fa5a-a13b535a5060"
      },
      "execution_count": null,
      "outputs": [
        {
          "output_type": "stream",
          "name": "stdout",
          "text": [
            "   feature1  target\n",
            "0  0.548814       0\n",
            "1  0.715189       1\n",
            "2  0.602763       1\n",
            "3  0.544883       0\n",
            "4  0.423655       0\n",
            "5  0.645894       1\n",
            "6  0.437587       1\n",
            "7  0.891773       1\n",
            "8  0.963663       1\n",
            "9  0.383442       0\n"
          ]
        }
      ]
    },
    {
      "cell_type": "code",
      "source": [
        "def ok(idx):\n",
        "        data_frame = pd.read_csv('/content/drive/MyDrive/example_data.csv')\n",
        "        y_column = 'target'\n",
        "        if torch.is_tensor(idx):\n",
        "            idx = idx.tolist()\n",
        "\n",
        "        # Split data into features and target\n",
        "        x = data_frame.drop(y_column, axis=1).iloc[idx].values\n",
        "        print(x)\n",
        "        y = data_frame[y_column].iloc[idx]\n",
        "        print(y)\n",
        "\n",
        "        z=data_frame[y_column][idx]\n",
        "        print(z)\n",
        "\n",
        "        # If idx is a list or slice, y will be DataFrames and we can use .values\n",
        "        # If idx is a single value, y will be scalars, and we should not use .values\n",
        "        if isinstance(idx, int):\n",
        "            # y to 1D arrays with a single value each\n",
        "            y = np.array([y])\n",
        "        else:\n",
        "            # Convert DataFrame to numpy array\n",
        "            y = y.values\n",
        "\n",
        "        # Convert to tensor\n",
        "        x = torch.tensor(x, dtype=torch.float32)\n",
        "        y = torch.tensor(y, dtype=torch.float32)\n",
        "\n",
        "        return idx, x, y"
      ],
      "metadata": {
        "id": "wU-zVKtLBUHW"
      },
      "execution_count": null,
      "outputs": []
    },
    {
      "cell_type": "code",
      "source": [
        "ok(1)    #same if we put torch.tensor(1)"
      ],
      "metadata": {
        "colab": {
          "base_uri": "https://localhost:8080/"
        },
        "id": "435vfLSBB46Z",
        "outputId": "12ed26a9-2327-4b1e-b06d-12ace48d271d"
      },
      "execution_count": null,
      "outputs": [
        {
          "output_type": "stream",
          "name": "stdout",
          "text": [
            "[0.71518937]\n",
            "1\n",
            "1\n"
          ]
        },
        {
          "output_type": "execute_result",
          "data": {
            "text/plain": [
              "(1, tensor([0.7152]), tensor([1.]))"
            ]
          },
          "metadata": {},
          "execution_count": 59
        }
      ]
    },
    {
      "cell_type": "code",
      "source": [
        "ok([1])    #same if we put torch.tensor([1])"
      ],
      "metadata": {
        "colab": {
          "base_uri": "https://localhost:8080/"
        },
        "id": "opnS3TZsCFfN",
        "outputId": "8a0cb0af-a31a-4d00-fd5f-ad0eb5395783"
      },
      "execution_count": null,
      "outputs": [
        {
          "output_type": "stream",
          "name": "stdout",
          "text": [
            "[[0.71518937]]\n",
            "1    1\n",
            "Name: target, dtype: int64\n",
            "1    1\n",
            "Name: target, dtype: int64\n"
          ]
        },
        {
          "output_type": "execute_result",
          "data": {
            "text/plain": [
              "([1], tensor([[0.7152]]), tensor([1.]))"
            ]
          },
          "metadata": {},
          "execution_count": 60
        }
      ]
    },
    {
      "cell_type": "code",
      "source": [
        "ok([1,2])    #same if we put torch.tensor([1,2])"
      ],
      "metadata": {
        "colab": {
          "base_uri": "https://localhost:8080/"
        },
        "id": "yZr2wOVrCJJv",
        "outputId": "11bd8732-b18c-4134-c9e0-c744a8531f72"
      },
      "execution_count": null,
      "outputs": [
        {
          "output_type": "stream",
          "name": "stdout",
          "text": [
            "[[0.71518937]\n",
            " [0.60276338]]\n",
            "1    1\n",
            "2    1\n",
            "Name: target, dtype: int64\n",
            "1    1\n",
            "2    1\n",
            "Name: target, dtype: int64\n"
          ]
        },
        {
          "output_type": "execute_result",
          "data": {
            "text/plain": [
              "([1, 2],\n",
              " tensor([[0.7152],\n",
              "         [0.6028]]),\n",
              " tensor([1., 1.]))"
            ]
          },
          "metadata": {},
          "execution_count": 61
        }
      ]
    },
    {
      "cell_type": "code",
      "source": [
        "a=torch.tensor([1])"
      ],
      "metadata": {
        "id": "nZfWknqPCc2h"
      },
      "execution_count": null,
      "outputs": []
    },
    {
      "cell_type": "code",
      "source": [
        "b=torch.tensor(1)"
      ],
      "metadata": {
        "id": "OwnwqMugC4j9"
      },
      "execution_count": null,
      "outputs": []
    },
    {
      "cell_type": "code",
      "source": [
        "d=b.tolist()"
      ],
      "metadata": {
        "id": "6ZQdOAxBE58T"
      },
      "execution_count": null,
      "outputs": []
    },
    {
      "cell_type": "code",
      "source": [
        "d"
      ],
      "metadata": {
        "colab": {
          "base_uri": "https://localhost:8080/"
        },
        "id": "aL7pBSx5E-2q",
        "outputId": "68a13af6-2438-4537-a84f-1085f41fa572"
      },
      "execution_count": null,
      "outputs": [
        {
          "output_type": "execute_result",
          "data": {
            "text/plain": [
              "1"
            ]
          },
          "metadata": {},
          "execution_count": 83
        }
      ]
    },
    {
      "cell_type": "code",
      "source": [
        "c=torch.tensor([1,2])"
      ],
      "metadata": {
        "id": "7sCRimG9DKnR"
      },
      "execution_count": null,
      "outputs": []
    },
    {
      "cell_type": "code",
      "source": [
        "ok(a)"
      ],
      "metadata": {
        "colab": {
          "base_uri": "https://localhost:8080/"
        },
        "id": "6r544571DRbP",
        "outputId": "1f89afcd-3b97-45b6-cef3-f3e0d385ea8e"
      },
      "execution_count": null,
      "outputs": [
        {
          "output_type": "stream",
          "name": "stdout",
          "text": [
            "[[0.71518937]]\n",
            "1    1\n",
            "Name: target, dtype: int64\n",
            "1    1\n",
            "Name: target, dtype: int64\n"
          ]
        },
        {
          "output_type": "execute_result",
          "data": {
            "text/plain": [
              "([1], tensor([[0.7152]]), tensor([1.]))"
            ]
          },
          "metadata": {},
          "execution_count": 65
        }
      ]
    },
    {
      "cell_type": "code",
      "source": [
        "ok(b)"
      ],
      "metadata": {
        "colab": {
          "base_uri": "https://localhost:8080/"
        },
        "id": "3XN401SXDRGQ",
        "outputId": "3e17f175-5eac-4b75-f134-b87a59cd2515"
      },
      "execution_count": null,
      "outputs": [
        {
          "output_type": "stream",
          "name": "stdout",
          "text": [
            "[0.71518937]\n",
            "1\n",
            "1\n"
          ]
        },
        {
          "output_type": "execute_result",
          "data": {
            "text/plain": [
              "(1, tensor([0.7152]), tensor([1.]))"
            ]
          },
          "metadata": {},
          "execution_count": 66
        }
      ]
    },
    {
      "cell_type": "code",
      "source": [
        "l,m,n = ok(c)"
      ],
      "metadata": {
        "colab": {
          "base_uri": "https://localhost:8080/"
        },
        "id": "BW18XeJ8DQwy",
        "outputId": "3cee20a7-4a7a-483e-c50a-edce0023e329"
      },
      "execution_count": null,
      "outputs": [
        {
          "output_type": "stream",
          "name": "stdout",
          "text": [
            "[[0.71518937]\n",
            " [0.60276338]]\n",
            "1    1\n",
            "2    1\n",
            "Name: target, dtype: int64\n",
            "1    1\n",
            "2    1\n",
            "Name: target, dtype: int64\n"
          ]
        }
      ]
    },
    {
      "cell_type": "code",
      "source": [
        "l"
      ],
      "metadata": {
        "colab": {
          "base_uri": "https://localhost:8080/"
        },
        "id": "Qzbe6UMqL50v",
        "outputId": "8d31ab56-a840-46bf-f145-9c3e05a98c6c"
      },
      "execution_count": null,
      "outputs": [
        {
          "output_type": "execute_result",
          "data": {
            "text/plain": [
              "[1, 2]"
            ]
          },
          "metadata": {},
          "execution_count": 95
        }
      ]
    },
    {
      "cell_type": "code",
      "source": [
        "type(l)"
      ],
      "metadata": {
        "colab": {
          "base_uri": "https://localhost:8080/"
        },
        "id": "ahETNy8PL7QR",
        "outputId": "d69a4f51-778a-4f17-de30-9a2e47bda2c2"
      },
      "execution_count": null,
      "outputs": [
        {
          "output_type": "execute_result",
          "data": {
            "text/plain": [
              "list"
            ]
          },
          "metadata": {},
          "execution_count": 96
        }
      ]
    },
    {
      "cell_type": "code",
      "source": [
        "if torch.is_tensor(idx):\n",
        "    idx = idx.tolist()\n",
        "\n",
        "# Split data into features and target\n",
        "x = data_frame.drop(y_column, axis=1).iloc[idx].values\n",
        "y = data_frame[self.y_column].iloc[idx]\n",
        "\n",
        "# If idx is a list or slice, x and y will be DataFrames and we can use .values\n",
        "# If idx is a single value, x and y will be scalars, and we should not use .values\n",
        "if isinstance(idx, int):\n",
        "    # y to 1D arrays with a single value each\n",
        "    y = np.array([y])\n",
        "else:\n",
        "    # Convert DataFrame to numpy array\n",
        "    y = y.values\n",
        "\n",
        "# Convert to tensor\n",
        "x = torch.tensor(x, dtype=torch.float32)\n",
        "y = torch.tensor(y, dtype=torch.float32)\n",
        "\n",
        "return idx, x, y\n"
      ],
      "metadata": {
        "id": "lxLwLdeMAqF7"
      },
      "execution_count": null,
      "outputs": []
    },
    {
      "cell_type": "code",
      "source": [],
      "metadata": {
        "id": "bO4ZiwCJL1Ee"
      },
      "execution_count": null,
      "outputs": []
    }
  ]
}