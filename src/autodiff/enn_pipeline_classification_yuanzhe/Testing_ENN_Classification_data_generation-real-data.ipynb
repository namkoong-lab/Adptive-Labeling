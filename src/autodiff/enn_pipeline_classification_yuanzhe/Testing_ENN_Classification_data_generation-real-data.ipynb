{
 "cells": [
  {
   "cell_type": "markdown",
   "metadata": {
    "id": "9PuRx2ZA4Gat"
   },
   "source": [
    "# **Creating the dataset**"
   ]
  },
  {
   "cell_type": "code",
   "execution_count": 90,
   "metadata": {
    "colab": {
     "base_uri": "https://localhost:8080/",
     "height": 472
    },
    "id": "6qa6lja42PSi",
    "outputId": "bd1d93a0-bf07-41dc-d2b8-db3426247fe3"
   },
   "outputs": [],
   "source": [
    "#run below code twice\n",
    "#from line_profiler import LineProfiler\n",
    "import torch\n",
    "from torch.utils.data import Dataset, DataLoader\n",
    "from scipy.stats import percentileofscore\n",
    "\n",
    "import numpy as np\n",
    "import pandas as pd\n",
    "import plotnine as gg\n",
    "import torch\n",
    "import torch.optim as optim\n",
    "from Dataloader import TabularDataset\n",
    "\n",
    "import higher\n",
    "\n",
    "from torch import nn\n",
    "# from acme.utils.loggers.terminal import TerminalLogger\n",
    "import dataclasses\n",
    "from polyadic_sampler_classification import *\n",
    "#import chex\n",
    "#import haiku as hk\n",
    "#import jax\n",
    "#import jax.numpy as jnp\n",
    "#import optax\n",
    "import pandas as pd\n",
    "#import warnings\n",
    "import gpytorch\n",
    "from torch.distributions.bernoulli import Bernoulli\n",
    "#warnings.filterwarnings('ignore')\n",
    "from enn import *\n",
    "from pipeline import *\n",
    "\n",
    "#import pipeline_var_l2_loss\n",
    "import seaborn as sns\n",
    "#from dataloader import TabularDataset\n",
    "#from var_l2_loss_estimator import *\n",
    "#from ENN import basenet_with_learnable_epinet_and_ensemble_prior\n",
    "import matplotlib.pyplot as plt\n",
    "\n",
    "#wandb.init()\n",
    "import pandas as pd\n",
    "from sklearn.preprocessing import StandardScaler\n",
    "from sklearn.cluster import KMeans\n",
    "import torch.nn.init as init\n",
    "from datetime import datetime\n",
    " \n",
    "#data from https://drive.google.com/drive/u/1/folders/1WuXIzpYLrLNH6pn9zBMx6oRCCQPRz0F1\n",
    "\n",
    "directory = '/shared/share_mala/data/eicu_train_test/'\n",
    "\n",
    "train_csv = 'eicu_train_final.csv'\n",
    "test_csv = 'eicu_test_final.csv'\n",
    "\n",
    "df_train = pd.read_csv(directory + train_csv)\n",
    "df_test = pd.read_csv(directory + test_csv)\n",
    "df = pd.concat([df_train, df_test], axis = 0)\n",
    "X_col = list(df.columns)[:-1]\n",
    "Y = 'EVENT_LABEL'\n",
    "Y_data = np.array(df[Y])"
   ]
  },
  {
   "cell_type": "code",
   "execution_count": 54,
   "metadata": {},
   "outputs": [
    {
     "name": "stderr",
     "output_type": "stream",
     "text": [
      "/user/ym2865/.conda/envs/yuanzhe_new/lib/python3.10/site-packages/sklearn/cluster/_kmeans.py:1412: FutureWarning: The default value of `n_init` will change from 10 to 'auto' in 1.4. Set the value of `n_init` explicitly to suppress the warning\n"
     ]
    },
    {
     "data": {
      "text/html": [
       "<style>#sk-container-id-2 {color: black;}#sk-container-id-2 pre{padding: 0;}#sk-container-id-2 div.sk-toggleable {background-color: white;}#sk-container-id-2 label.sk-toggleable__label {cursor: pointer;display: block;width: 100%;margin-bottom: 0;padding: 0.3em;box-sizing: border-box;text-align: center;}#sk-container-id-2 label.sk-toggleable__label-arrow:before {content: \"▸\";float: left;margin-right: 0.25em;color: #696969;}#sk-container-id-2 label.sk-toggleable__label-arrow:hover:before {color: black;}#sk-container-id-2 div.sk-estimator:hover label.sk-toggleable__label-arrow:before {color: black;}#sk-container-id-2 div.sk-toggleable__content {max-height: 0;max-width: 0;overflow: hidden;text-align: left;background-color: #f0f8ff;}#sk-container-id-2 div.sk-toggleable__content pre {margin: 0.2em;color: black;border-radius: 0.25em;background-color: #f0f8ff;}#sk-container-id-2 input.sk-toggleable__control:checked~div.sk-toggleable__content {max-height: 200px;max-width: 100%;overflow: auto;}#sk-container-id-2 input.sk-toggleable__control:checked~label.sk-toggleable__label-arrow:before {content: \"▾\";}#sk-container-id-2 div.sk-estimator input.sk-toggleable__control:checked~label.sk-toggleable__label {background-color: #d4ebff;}#sk-container-id-2 div.sk-label input.sk-toggleable__control:checked~label.sk-toggleable__label {background-color: #d4ebff;}#sk-container-id-2 input.sk-hidden--visually {border: 0;clip: rect(1px 1px 1px 1px);clip: rect(1px, 1px, 1px, 1px);height: 1px;margin: -1px;overflow: hidden;padding: 0;position: absolute;width: 1px;}#sk-container-id-2 div.sk-estimator {font-family: monospace;background-color: #f0f8ff;border: 1px dotted black;border-radius: 0.25em;box-sizing: border-box;margin-bottom: 0.5em;}#sk-container-id-2 div.sk-estimator:hover {background-color: #d4ebff;}#sk-container-id-2 div.sk-parallel-item::after {content: \"\";width: 100%;border-bottom: 1px solid gray;flex-grow: 1;}#sk-container-id-2 div.sk-label:hover label.sk-toggleable__label {background-color: #d4ebff;}#sk-container-id-2 div.sk-serial::before {content: \"\";position: absolute;border-left: 1px solid gray;box-sizing: border-box;top: 0;bottom: 0;left: 50%;z-index: 0;}#sk-container-id-2 div.sk-serial {display: flex;flex-direction: column;align-items: center;background-color: white;padding-right: 0.2em;padding-left: 0.2em;position: relative;}#sk-container-id-2 div.sk-item {position: relative;z-index: 1;}#sk-container-id-2 div.sk-parallel {display: flex;align-items: stretch;justify-content: center;background-color: white;position: relative;}#sk-container-id-2 div.sk-item::before, #sk-container-id-2 div.sk-parallel-item::before {content: \"\";position: absolute;border-left: 1px solid gray;box-sizing: border-box;top: 0;bottom: 0;left: 50%;z-index: -1;}#sk-container-id-2 div.sk-parallel-item {display: flex;flex-direction: column;z-index: 1;position: relative;background-color: white;}#sk-container-id-2 div.sk-parallel-item:first-child::after {align-self: flex-end;width: 50%;}#sk-container-id-2 div.sk-parallel-item:last-child::after {align-self: flex-start;width: 50%;}#sk-container-id-2 div.sk-parallel-item:only-child::after {width: 0;}#sk-container-id-2 div.sk-dashed-wrapped {border: 1px dashed gray;margin: 0 0.4em 0.5em 0.4em;box-sizing: border-box;padding-bottom: 0.4em;background-color: white;}#sk-container-id-2 div.sk-label label {font-family: monospace;font-weight: bold;display: inline-block;line-height: 1.2em;}#sk-container-id-2 div.sk-label-container {text-align: center;}#sk-container-id-2 div.sk-container {/* jupyter's `normalize.less` sets `[hidden] { display: none; }` but bootstrap.min.css set `[hidden] { display: none !important; }` so we also need the `!important` here to be able to override the default hidden behavior on the sphinx rendered scikit-learn.org. See: https://github.com/scikit-learn/scikit-learn/issues/21755 */display: inline-block !important;position: relative;}#sk-container-id-2 div.sk-text-repr-fallback {display: none;}</style><div id=\"sk-container-id-2\" class=\"sk-top-container\"><div class=\"sk-text-repr-fallback\"><pre>KMeans(n_clusters=10, random_state=1)</pre><b>In a Jupyter environment, please rerun this cell to show the HTML representation or trust the notebook. <br />On GitHub, the HTML representation is unable to render, please try loading this page with nbviewer.org.</b></div><div class=\"sk-container\" hidden><div class=\"sk-item\"><div class=\"sk-estimator sk-toggleable\"><input class=\"sk-toggleable__control sk-hidden--visually\" id=\"sk-estimator-id-2\" type=\"checkbox\" checked><label for=\"sk-estimator-id-2\" class=\"sk-toggleable__label sk-toggleable__label-arrow\">KMeans</label><div class=\"sk-toggleable__content\"><pre>KMeans(n_clusters=10, random_state=1)</pre></div></div></div></div></div>"
      ],
      "text/plain": [
       "KMeans(n_clusters=10, random_state=1)"
      ]
     },
     "execution_count": 54,
     "metadata": {},
     "output_type": "execute_result"
    }
   ],
   "source": [
    "# Normalize data\n",
    "n_cluster = 10\n",
    "data = np.array(df[X_col])\n",
    "scaler = StandardScaler()\n",
    "data_normalized = scaler.fit_transform(data)\n",
    "kmeans = KMeans(n_clusters = n_cluster, random_state = 1)\n",
    "kmeans.fit(data_normalized)"
   ]
  },
  {
   "cell_type": "code",
   "execution_count": 103,
   "metadata": {},
   "outputs": [
    {
     "name": "stdout",
     "output_type": "stream",
     "text": [
      "0 0.05886379192334018\n",
      "1 0.07463663742307189\n",
      "2 0.2145539066690506\n",
      "3 0.06401066844474079\n",
      "4 0.28399493243243246\n",
      "5 0.10300429184549356\n",
      "6 0.7572178477690289\n",
      "7 0.11015490533562823\n",
      "8 0.0477972626176219\n",
      "9 0.03151000177022482\n"
     ]
    }
   ],
   "source": [
    "n = df.shape[0]\n",
    "clusters = kmeans.labels_\n",
    "centers = kmeans.cluster_centers_\n",
    "\n",
    "distances = np.linalg.norm(data_normalized - centers[clusters], axis=1)\n",
    "\n",
    "threshold_list = []\n",
    "threshold_larger_list = []\n",
    "for i in range(kmeans.n_clusters):\n",
    "    cluster_distances = distances[clusters == i]\n",
    "    #center points\n",
    "    threshold_list.append(np.percentile(cluster_distances, 0.05))\n",
    "    threshold_larger_list.append(np.percentile(cluster_distances, 0.5))\n",
    "\n",
    "n_cluster  = 10\n",
    "center_ind_list = [[]] * n_cluster\n",
    "all_data_index_candidate_list = [[]] * n_cluster #candidates, we only want some clusters later\n",
    "\n",
    "\n",
    "for j in range(n):\n",
    "    cluster = clusters[j] #retrieve cluster #\n",
    "    if distances[j] <= threshold_list[cluster]:\n",
    "        center_ind_list[cluster].append(j)\n",
    "    if distances[j] <= threshold_larger_list[cluster]:\n",
    "        all_data_index_candidate_list[cluster].append(j)\n",
    "        \n",
    "#compare each cluster\n",
    "for i in range(kmeans.n_clusters):\n",
    "    print(i, np.mean(Y_data[clusters == i]))\n",
    "    \n",
    "    \n",
    "train_cluster = [0, 1, 2, 3, 4, 5, 6, 7, 8, 9] #[0]\n",
    "test_cluster = [0,6,3,4,2]\n",
    "pool_cluster = [0, 1, 2, 3, 4, 5, 6, 7, 8, 9]\n",
    "\n",
    "def get_whole_index(List, subset):\n",
    "    res = []\n",
    "    for j in subset:\n",
    "        res += List[j]\n",
    "    return res\n",
    "\n",
    "train_index = get_whole_index(all_data_index_candidate_list, train_cluster)\n",
    "test_index = get_whole_index(all_data_index_candidate_list, test_cluster)\n",
    "pool_index = get_whole_index(all_data_index_candidate_list, pool_cluster)\n"
   ]
  },
  {
   "cell_type": "code",
   "execution_count": 104,
   "metadata": {
    "scrolled": true
   },
   "outputs": [
    {
     "name": "stdout",
     "output_type": "stream",
     "text": [
      "Epoch 0, Loss: 0.5295292735099792\n",
      "Epoch 10, Loss: 0.427507609128952\n",
      "Epoch 20, Loss: 0.22512461245059967\n",
      "Epoch 30, Loss: 0.2086227983236313\n",
      "Epoch 40, Loss: 0.19963735342025757\n",
      "Epoch 50, Loss: 0.20323722064495087\n",
      "Epoch 60, Loss: 0.1994781345129013\n",
      "Epoch 70, Loss: 0.1954740732908249\n",
      "Epoch 80, Loss: 0.19198310375213623\n",
      "Epoch 90, Loss: 0.1857200413942337\n",
      "Epoch 100, Loss: 0.17860546708106995\n",
      "Epoch 110, Loss: 0.1781260073184967\n",
      "Epoch 120, Loss: 0.1726360321044922\n",
      "Epoch 130, Loss: 0.16692723333835602\n",
      "Epoch 140, Loss: 0.15772239863872528\n",
      "Epoch 150, Loss: 0.1539110541343689\n",
      "Epoch 160, Loss: 0.1511954814195633\n",
      "Epoch 170, Loss: 0.15908893942832947\n",
      "Epoch 180, Loss: 0.1486889272928238\n",
      "Epoch 190, Loss: 0.14558281004428864\n",
      "Epoch 200, Loss: 0.13926784694194794\n",
      "Epoch 210, Loss: 0.1311279684305191\n",
      "Epoch 220, Loss: 0.1381109207868576\n",
      "Epoch 230, Loss: 0.1311144381761551\n",
      "Epoch 240, Loss: 0.14533820748329163\n",
      "Epoch 250, Loss: 0.13216979801654816\n",
      "Epoch 260, Loss: 0.1321280300617218\n",
      "Epoch 270, Loss: 0.12515109777450562\n",
      "Epoch 280, Loss: 0.13187363743782043\n",
      "Epoch 290, Loss: 0.1365288645029068\n",
      "Epoch 300, Loss: 0.13099528849124908\n",
      "Epoch 310, Loss: 0.1326945573091507\n",
      "Epoch 320, Loss: 0.1272745281457901\n",
      "Epoch 330, Loss: 0.13421721756458282\n",
      "Epoch 340, Loss: 0.12899835407733917\n",
      "Epoch 350, Loss: 0.1345783770084381\n",
      "Epoch 360, Loss: 0.1258360892534256\n",
      "Epoch 370, Loss: 0.13349993526935577\n",
      "Epoch 380, Loss: 0.11978516727685928\n",
      "Epoch 390, Loss: 0.12661466002464294\n",
      "Epoch 400, Loss: 0.12189669907093048\n",
      "Epoch 410, Loss: 0.12185356020927429\n",
      "Epoch 420, Loss: 0.1317545473575592\n",
      "Epoch 430, Loss: 0.11695031821727753\n",
      "Epoch 440, Loss: 0.11400677263736725\n",
      "Epoch 450, Loss: 0.1289139688014984\n",
      "Epoch 460, Loss: 0.11347059160470963\n",
      "Epoch 470, Loss: 0.11664741486310959\n",
      "Epoch 480, Loss: 0.1170596331357956\n",
      "Epoch 490, Loss: 0.11618497967720032\n"
     ]
    }
   ],
   "source": [
    "#save a predictor\n",
    "class Neural_Network(torch.nn.Module):    \n",
    "    # build the constructor\n",
    "    def __init__(self, input_size, hidden_size, output_size):\n",
    "        super().__init__()\n",
    "        self.fc1 = nn.Linear(input_size, hidden_size)\n",
    "        self.fc2 = nn.Linear(hidden_size, hidden_size)\n",
    "        self.fc3 = nn.Linear(hidden_size, output_size)\n",
    "        \n",
    "        # Initialize weights using Gaussian distribution\n",
    "        init.normal_(self.fc1.weight, mean=0.0, std=0.01)  # Mean 0, Standard deviation 0.01\n",
    "        init.normal_(self.fc2.weight, mean=0.0, std=0.01)  # Mean 0, Standard deviation 0.01\n",
    "        init.normal_(self.fc3.weight, mean=0.0, std=0.01)  # Mean 0, Standard deviation 0.01\n",
    "        \n",
    "    def forward(self, x):\n",
    "        x = torch.relu(self.fc1(x))\n",
    "        x = torch.relu(self.fc2(x))\n",
    "        x = self.fc3(x)\n",
    "        x = torch.sigmoid(x)\n",
    "        return x\n",
    "    \n",
    "X_train = torch.tensor(data[train_index], dtype=torch.float32)\n",
    "y_train = torch.tensor(Y_data[train_index], dtype=torch.float32) \n",
    "y_train = torch.unsqueeze(y_train, -1)\n",
    "# Hyperparameters\n",
    "epochs = 500  # Number of training iterations\n",
    "learning_rate = 0.1\n",
    "\n",
    "torch.manual_seed(123)\n",
    "\n",
    "# Model, Loss and Optimizer\n",
    "model = Neural_Network(input_size=X_train.shape[1], hidden_size = 3, output_size=1)\n",
    "criterion = torch.nn.BCELoss()\n",
    "optimizer = optim.SGD(model.parameters(), lr=learning_rate)\n",
    "\n",
    "# Training loop\n",
    "for epoch in range(epochs):\n",
    "    # Forward pass: Compute predicted y by passing X to the model\n",
    "    y_pred = model(X_train)\n",
    "    \n",
    "    #print test/ pool loss \n",
    "    #print X/Y train/ test/ pool\n",
    "    # Compute and print loss\n",
    "    loss = criterion(y_pred, y_train)\n",
    "    if epoch % 10 == 0:  # Print every 10th epoch\n",
    "        print(f'Epoch {epoch}, Loss: {loss.item()}')\n",
    "\n",
    "    # Zero gradients, perform a backward pass, and update the weights.\n",
    "    optimizer.zero_grad()\n",
    "    loss.backward()\n",
    "    optimizer.step()\n",
    "    \n",
    "current_time = datetime.now()\n",
    "time_str = current_time.strftime(\"%Y-%m-%d_%H:%M:%S\")\n",
    "\n",
    "model_scripted = torch.jit.script(model) # Export to TorchScript\n",
    "model_scripted.save(directory + 'predictor' +time_str  + '.pt') # Save"
   ]
  },
  {
   "cell_type": "code",
   "execution_count": 108,
   "metadata": {},
   "outputs": [],
   "source": [
    "class TabularDataset(Dataset):\n",
    "    def __init__(self, x, y):\n",
    "        self.x = x\n",
    "        self.y = y\n",
    "  \n",
    "    def __len__(self):\n",
    "        return self.x.shape[0]\n",
    "    def __getitem__(self, idx):\n",
    "\n",
    "        return self.x[idx], self.y[idx]\n",
    "    \n",
    "def ENN_training(x_train, y_train,model_config, enn_config, device, if_print):\n",
    "    \n",
    "    dataset_train = TabularDataset(x = x_train, y = y_train)\n",
    "    dataloader_train = DataLoader(dataset_train, batch_size=model_config.batch_size_train, shuffle=True) \n",
    "    sample, label = dataset_train[0]\n",
    "    input_feature_size = sample.shape[0]  \n",
    "    \n",
    "     # to_device\n",
    "    ENN = basenet_with_learnable_epinet_and_ensemble_prior(input_feature_size, enn_config.basenet_hidden_sizes, model_config.n_classes, enn_config.exposed_layers, enn_config.z_dim, enn_config.learnable_epinet_hiddens, enn_config.hidden_sizes_prior, enn_config.seed_base, enn_config.seed_learnable_epinet, enn_config.seed_prior_epinet, enn_config.alpha).to(device)\n",
    "\n",
    "\n",
    "    loss_fn_init = torch.nn.functional.nll_loss\n",
    "    optimizer_init = optim.Adam(ENN.parameters(), lr=model_config.init_train_lr, weight_decay=model_config.init_train_weight_decay)\n",
    "    # ------- seed for this training\n",
    "    # ------- train ENN on initial training data  # save the state - ENN_initial_state  # define a separate optimizer for this # how to sample z's ---- separately for each batch\n",
    "    # ------- they also sampled the data each time and not a dataloader - kind of a bootstrap\n",
    "    #print('ENN model weights',ENN.learnable_epinet_layers[0].weight)\n",
    "    enn_loss_list = []\n",
    "    for i in range(model_config.n_train_init):\n",
    "        ENN.train()\n",
    "        for (inputs, labels) in dataloader_train:\n",
    "            #inputs, labels =  inputs.to(device), labels.to(device)\n",
    "            z = torch.randn(enn_config.z_dim, device=device)   #set seed for this  #set to_device for this\n",
    "            optimizer_init.zero_grad()\n",
    "            outputs = ENN(inputs,z)\n",
    "\n",
    "            labels = torch.tensor(labels, dtype=torch.long, device=device)\n",
    "            loss = loss_fn_init(input = outputs, target = torch.squeeze(labels))\n",
    "            if if_print == 1:\n",
    "                pass\n",
    "                #print(\"ENN_init_loss:\",loss)\n",
    "            loss.backward()\n",
    "            optimizer_init.step()\n",
    "\n",
    "        enn_loss_list.append(float(loss.detach().to('cpu').numpy())) \n",
    "    if if_print == 0:\n",
    "        plt.plot(list(range(len(enn_loss_list))),enn_loss_list)\n",
    "        plt.title('ENN loss vs training iter')\n",
    "        plt.show()\n",
    "    \n",
    "    return ENN\n",
    "\n",
    "class Network(nn.Module):\n",
    "    def __init__(self, constant_value=1.0, output_size=1):\n",
    "        super(ConstantValueNetwork, self).__init__()\n",
    "        # Define the constant value and output size\n",
    "        #self.constant_value = nn.Parameter(torch.tensor([constant_value]*output_size), requires_grad=False)\n",
    "        self.output_size = output_size\n",
    "\n",
    "    def forward(self, x):\n",
    "        # x is your input tensor. Its value is ignored in this model.\n",
    "        # Return a 1-D tensor with the constant value for each item in the batch.\n",
    "        batch_size = x.size(0)  # Get the batch size from the input\n",
    "        return torch.sigmoid(x)\n",
    "        #return self.constant_value.expand(batch_size, self.output_size)\n",
    "\n",
    "Predictor = model_scripted\n",
    "\n",
    "train_x = torch.tensor(data[train_index], dtype=torch.float32)\n",
    "train_y_binary = torch.tensor(Y_data[train_index], dtype=torch.float32) \n",
    "\n",
    "\n",
    "test_x = torch.tensor(data[test_index], dtype=torch.float32)\n",
    "test_y_binary = torch.tensor(Y_data[test_index], dtype=torch.float32) \n",
    "\n",
    "pool_x = torch.tensor(data[pool_index], dtype=torch.float32)\n",
    "pool_y_binary = torch.tensor(Y_data[pool_index], dtype=torch.float32) \n",
    "\n",
    "Z_dim = 6\n",
    "if_print = 0\n",
    "\n",
    "model_cfg = ModelConfig(batch_size_train = 251, batch_size_test = 500, batch_size_query = 100, temp_k_subset = 0.1, hidden_sizes_weight_NN = [50,50], meta_opt_lr = 0.01, n_classes = 2, n_epoch = 5, init_train_lr = 0.01, init_train_weight_decay = 0.00001, n_train_init = 100, meta_opt_weight_decay = 0.01)\n",
    "train_config = TrainConfig(n_train_iter = 500, n_ENN_iter = 1000, ENN_opt_lr = 0.01, ENN_opt_weight_decay = 0.01, temp_var_recall = 0.3, z_dim = Z_dim,  N_iter = 20,seed_var_recall = 1 , N_iter_var_recall_est = 100)\n",
    "enn_cfg = ENNConfig(basenet_hidden_sizes = [50],  exposed_layers = [True], z_dim = Z_dim, learnable_epinet_hiddens = [15], hidden_sizes_prior = [5], seed_base = 2, seed_learnable_epinet = 1, seed_prior_epinet = 0, alpha = 1)\n",
    "device = torch.device(\"cuda\" if torch.cuda.is_available() else \"cpu\")\n",
    "\n",
    "dataset_test = TabularDataset(x = test_x, y = test_y_binary)\n",
    "dataloader_test = DataLoader(dataset_test, batch_size=model_cfg.batch_size_train, shuffle=True) "
   ]
  },
  {
   "cell_type": "markdown",
   "metadata": {},
   "source": [
    "# Initial var of recall"
   ]
  },
  {
   "cell_type": "code",
   "execution_count": 109,
   "metadata": {},
   "outputs": [
    {
     "name": "stderr",
     "output_type": "stream",
     "text": [
      "/tmp/7429355.1.debian.q/ipykernel_39136/3243611695.py:38: UserWarning: To copy construct from a tensor, it is recommended to use sourceTensor.clone().detach() or sourceTensor.clone().detach().requires_grad_(True), rather than torch.tensor(sourceTensor).\n"
     ]
    },
    {
     "data": {
      "image/png": "[encoded data removed]",
      "text/plain": [
       "<Figure size 640x480 with 1 Axes>"
      ]
     },
     "metadata": {},
     "output_type": "display_data"
    },
    {
     "name": "stdout",
     "output_type": "stream",
     "text": [
      "tensor(nan, grad_fn=<SubBackward0>)\n"
     ]
    }
   ],
   "source": [
    "ENN_trained = ENN_training(train_x, train_y_binary, model_cfg, enn_cfg, device , if_print )\n",
    "meta_loss = var_recall_estimator(ENN_trained, dataloader_test, Predictor, device, para = {'tau': train_config.temp_var_recall, 'z_dim': train_config.z_dim, 'N_iter': train_config.N_iter ,'if_print':if_print, 'seed_var_recall':train_config.seed_var_recall, 'N_iter_var_recall_est':train_config.N_iter_var_recall_est})     #see where does this calculation for meta_loss happens that is it outside the innerloop_ctx or within it\n",
    "print(meta_loss)"
   ]
  },
  {
   "cell_type": "markdown",
   "metadata": {},
   "source": [
    "# After sample cluster centroid points  "
   ]
  },
  {
   "cell_type": "code",
   "execution_count": 107,
   "metadata": {},
   "outputs": [],
   "source": [
    "# new_train_y_with_pool = torch.cat((train_x, pool_x[pool_sample_idx]), 0)\n",
    "# new_train_x_with_pool = torch.cat((train_y_binary, pool_y_binary[pool_sample_idx]), 0)\n",
    "\n",
    "\n",
    "# new_pool_x = pool_x[pool_sample_idx][pool_x[pool_sample_idx] >= 0.25]\n",
    "# new_pool_x = torch.unsqueeze(new_pool_x,-1)\n",
    "# new_pool_y = pool_y_binary[pool_sample_idx][torch.squeeze(pool_x[pool_sample_idx] >= 0.25)]\n",
    "# new_train_y_with_pool = torch.cat((train_x, new_pool_x), 0)\n",
    "# new_train_x_with_pool = torch.cat((train_y_binary, new_pool_y), 0)\n",
    "\n",
    "\n",
    "# ENN_trained = ENN_training(new_train_y_with_pool, new_train_x_with_pool, model_cfg, enn_cfg, device , if_print )\n",
    "# meta_loss = var_recall_estimator(ENN_trained, dataloader_test, Predictor, device, para = {'tau': train_config.temp_var_recall, 'z_dim': train_config.z_dim, 'N_iter': train_config.N_iter ,'if_print':if_print, 'seed_var_recall':train_config.seed_var_recall, 'N_iter_var_recall_est':train_config.N_iter_var_recall_est})     #see where does this calculation for meta_loss happens that is it outside the innerloop_ctx or within it\n",
    "# print('Var of recall after sampling pool data',meta_loss)"
   ]
  },
  {
   "cell_type": "code",
   "execution_count": null,
   "metadata": {},
   "outputs": [],
   "source": []
  }
 ],
 "metadata": {
  "colab": {
   "provenance": []
  },
  "kernelspec": {
   "display_name": "yuanzhe_new",
   "language": "python",
   "name": "yuanzhe_new"
  },
  "language_info": {
   "codemirror_mode": {
    "name": "ipython",
    "version": 3
   },
   "file_extension": ".py",
   "mimetype": "text/x-python",
   "name": "python",
   "nbconvert_exporter": "python",
   "pygments_lexer": "ipython3",
   "version": "3.10.12"
  }
 },
 "nbformat": 4,
 "nbformat_minor": 1
}
