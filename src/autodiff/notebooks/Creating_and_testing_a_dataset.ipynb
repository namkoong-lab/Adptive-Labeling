{
  "nbformat": 4,
  "nbformat_minor": 0,
  "metadata": {
    "colab": {
      "provenance": []
    },
    "kernelspec": {
      "name": "python3",
      "display_name": "Python 3"
    },
    "language_info": {
      "name": "python"
    }
  },
  "cells": [
    {
      "cell_type": "code",
      "execution_count": 1,
      "metadata": {
        "colab": {
          "base_uri": "https://localhost:8080/"
        },
        "id": "A77FBcMaQFw6",
        "outputId": "36c922e0-3818-4090-c56b-984aa0084816"
      },
      "outputs": [
        {
          "output_type": "stream",
          "name": "stdout",
          "text": [
            "Collecting gpytorch\n",
            "  Downloading gpytorch-1.11-py3-none-any.whl (266 kB)\n",
            "\u001b[?25l     \u001b[90m━━━━━━━━━━━━━━━━━━━━━━━━━━━━━━━━━━━━━━━━\u001b[0m \u001b[32m0.0/266.1 kB\u001b[0m \u001b[31m?\u001b[0m eta \u001b[36m-:--:--\u001b[0m\r\u001b[2K     \u001b[91m━━━━━━━━━━━━━━━━━━━━━\u001b[0m\u001b[91m╸\u001b[0m\u001b[90m━━━━━━━━━━━━━━━━━━\u001b[0m \u001b[32m143.4/266.1 kB\u001b[0m \u001b[31m4.1 MB/s\u001b[0m eta \u001b[36m0:00:01\u001b[0m\r\u001b[2K     \u001b[90m━━━━━━━━━━━━━━━━━━━━━━━━━━━━━━━━━━━━━━━━\u001b[0m \u001b[32m266.1/266.1 kB\u001b[0m \u001b[31m5.1 MB/s\u001b[0m eta \u001b[36m0:00:00\u001b[0m\n",
            "\u001b[?25hRequirement already satisfied: scikit-learn in /usr/local/lib/python3.10/dist-packages (from gpytorch) (1.2.2)\n",
            "Collecting linear-operator>=0.5.0 (from gpytorch)\n",
            "  Downloading linear_operator-0.5.2-py3-none-any.whl (175 kB)\n",
            "\u001b[2K     \u001b[90m━━━━━━━━━━━━━━━━━━━━━━━━━━━━━━━━━━━━━━━━\u001b[0m \u001b[32m175.6/175.6 kB\u001b[0m \u001b[31m12.3 MB/s\u001b[0m eta \u001b[36m0:00:00\u001b[0m\n",
            "\u001b[?25hRequirement already satisfied: torch>=1.11 in /usr/local/lib/python3.10/dist-packages (from linear-operator>=0.5.0->gpytorch) (2.1.0+cu121)\n",
            "Requirement already satisfied: scipy in /usr/local/lib/python3.10/dist-packages (from linear-operator>=0.5.0->gpytorch) (1.11.4)\n",
            "Collecting jaxtyping>=0.2.9 (from linear-operator>=0.5.0->gpytorch)\n",
            "  Downloading jaxtyping-0.2.25-py3-none-any.whl (39 kB)\n",
            "Collecting typeguard~=2.13.3 (from linear-operator>=0.5.0->gpytorch)\n",
            "  Downloading typeguard-2.13.3-py3-none-any.whl (17 kB)\n",
            "Requirement already satisfied: numpy>=1.17.3 in /usr/local/lib/python3.10/dist-packages (from scikit-learn->gpytorch) (1.25.2)\n",
            "Requirement already satisfied: joblib>=1.1.1 in /usr/local/lib/python3.10/dist-packages (from scikit-learn->gpytorch) (1.3.2)\n",
            "Requirement already satisfied: threadpoolctl>=2.0.0 in /usr/local/lib/python3.10/dist-packages (from scikit-learn->gpytorch) (3.3.0)\n",
            "Requirement already satisfied: typing-extensions>=3.7.4.1 in /usr/local/lib/python3.10/dist-packages (from jaxtyping>=0.2.9->linear-operator>=0.5.0->gpytorch) (4.9.0)\n",
            "Requirement already satisfied: filelock in /usr/local/lib/python3.10/dist-packages (from torch>=1.11->linear-operator>=0.5.0->gpytorch) (3.13.1)\n",
            "Requirement already satisfied: sympy in /usr/local/lib/python3.10/dist-packages (from torch>=1.11->linear-operator>=0.5.0->gpytorch) (1.12)\n",
            "Requirement already satisfied: networkx in /usr/local/lib/python3.10/dist-packages (from torch>=1.11->linear-operator>=0.5.0->gpytorch) (3.2.1)\n",
            "Requirement already satisfied: jinja2 in /usr/local/lib/python3.10/dist-packages (from torch>=1.11->linear-operator>=0.5.0->gpytorch) (3.1.3)\n",
            "Requirement already satisfied: fsspec in /usr/local/lib/python3.10/dist-packages (from torch>=1.11->linear-operator>=0.5.0->gpytorch) (2023.6.0)\n",
            "Requirement already satisfied: triton==2.1.0 in /usr/local/lib/python3.10/dist-packages (from torch>=1.11->linear-operator>=0.5.0->gpytorch) (2.1.0)\n",
            "Requirement already satisfied: MarkupSafe>=2.0 in /usr/local/lib/python3.10/dist-packages (from jinja2->torch>=1.11->linear-operator>=0.5.0->gpytorch) (2.1.5)\n",
            "Requirement already satisfied: mpmath>=0.19 in /usr/local/lib/python3.10/dist-packages (from sympy->torch>=1.11->linear-operator>=0.5.0->gpytorch) (1.3.0)\n",
            "Installing collected packages: typeguard, jaxtyping, linear-operator, gpytorch\n",
            "Successfully installed gpytorch-1.11 jaxtyping-0.2.25 linear-operator-0.5.2 typeguard-2.13.3\n"
          ]
        }
      ],
      "source": [
        "pip install gpytorch"
      ]
    },
    {
      "cell_type": "code",
      "source": [
        "import torch\n",
        "import gpytorch\n",
        "import matplotlib.pyplot as plt\n",
        "import torch.nn as nn"
      ],
      "metadata": {
        "id": "QDagabDEQLX2"
      },
      "execution_count": 2,
      "outputs": []
    },
    {
      "cell_type": "code",
      "source": [
        "num_init_train_samples = 20\n",
        "num_pool_samples = 5\n",
        "num_test_samples = 20\n",
        "\n",
        "input_dim = 1"
      ],
      "metadata": {
        "id": "hUY0JjC1QPEr"
      },
      "execution_count": 3,
      "outputs": []
    },
    {
      "cell_type": "code",
      "source": [
        "init_train_x = torch.rand((num_init_train_samples, input_dim))*50.0\n",
        "\n",
        "test_x_1 = torch.rand((num_test_samples, input_dim))*50.0\n",
        "\n",
        "test_x_2 = 75.0 + torch.rand((num_test_samples, input_dim))*50.0\n",
        "\n",
        "test_x_3 = 175.0 + torch.rand((num_test_samples, input_dim))*50.0\n",
        "\n",
        "test_x = torch.cat([test_x_1,test_x_2,test_x_3])\n",
        "\n",
        "pool_x_1 = 24 + torch.rand((num_pool_samples, input_dim))*2\n",
        "\n",
        "pool_x_2 = 99 + torch.rand((num_pool_samples, input_dim))*2\n",
        "\n",
        "pool_x_3 = 199 + torch.rand((num_pool_samples, input_dim))*2\n",
        "\n",
        "pool_x = torch.cat([pool_x_1,pool_x_2,pool_x_3])\n",
        "\n",
        "\n",
        "y = torch.zeros(num_init_train_samples+3*num_pool_samples+3*num_test_samples)"
      ],
      "metadata": {
        "id": "gWqmPbuuQRsv"
      },
      "execution_count": 4,
      "outputs": []
    },
    {
      "cell_type": "code",
      "source": [
        "init_train_x_numpy = init_train_x.numpy()\n",
        "init_train_y = torch.zeros(init_train_x.size(0))\n",
        "test_x_numpy = test_x.numpy()\n",
        "test_y = torch.ones(test_x.size(0))\n",
        "pool_x_numpy = pool_x.numpy()\n",
        "pool_y = torch.empty(pool_x.size(0)).fill_(0.5)\n",
        "\n",
        "\n",
        "plt.scatter(init_train_x_numpy, init_train_y.numpy(), s=20, label='train')\n",
        "plt.scatter(test_x_numpy, test_y.numpy(), s=20, label='test')\n",
        "plt.scatter(pool_x_numpy, pool_y.numpy(), s=20, label='pool')\n",
        "\n",
        "plt.yticks([])  # Hide y-axis ticks\n",
        "plt.xlabel('X values')\n",
        "plt.legend()\n",
        "plt.title('Distribution of X values along a real line')\n",
        "plt.show()"
      ],
      "metadata": {
        "colab": {
          "base_uri": "https://localhost:8080/",
          "height": 472
        },
        "id": "pKhHEcUdQ1p7",
        "outputId": "bf21df9d-2554-473c-aa38-019407241941"
      },
      "execution_count": 5,
      "outputs": [
        {
          "output_type": "display_data",
          "data": {
            "text/plain": [
              "<Figure size 640x480 with 1 Axes>"
            ],
            "image/png": "[encoded data removed]"
          },
          "metadata": {}
        }
      ]
    },
    {
      "cell_type": "code",
      "source": [
        "x = torch.cat([init_train_x,test_x,pool_x])"
      ],
      "metadata": {
        "id": "Myd76yObQRGe"
      },
      "execution_count": 6,
      "outputs": []
    },
    {
      "cell_type": "code",
      "source": [
        "# Define parameters for the model\n",
        "mean_constant = 0.0  # Mean of the GP\n",
        "length_scale = 25.0   # Length scale of the RBF kernel\n",
        "noise_std = 0.01     # Standard deviation of the noise\n",
        "\n",
        "\n",
        "mean_module = gpytorch.means.ConstantMean()\n",
        "base_kernel = gpytorch.kernels.ScaleKernel(gpytorch.kernels.RBFKernel())\n",
        "likelihood = gpytorch.likelihoods.GaussianLikelihood()\n",
        "\n",
        "\n",
        "mean_module.constant = mean_constant\n",
        "base_kernel.base_kernel.lengthscale = length_scale\n",
        "likelihood.noise_covar.noise = noise_std**2"
      ],
      "metadata": {
        "id": "1AHTNCWwQTzJ"
      },
      "execution_count": 7,
      "outputs": []
    },
    {
      "cell_type": "code",
      "source": [
        "class CustomizableGPModel(gpytorch.models.ExactGP):\n",
        "    def __init__(self, train_x, train_y, mean_module, base_kernel, likelihood):\n",
        "        super(CustomizableGPModel, self).__init__(train_x, train_y, likelihood)\n",
        "        self.mean_module = mean_module\n",
        "        self.covar_module = base_kernel\n",
        "        self.likelihood = likelihood\n",
        "\n",
        "    def forward(self, x):\n",
        "        return gpytorch.distributions.MultivariateNormal(self.mean_module(x), self.covar_module(x))\n",
        "\n",
        "\n",
        "model = CustomizableGPModel(x, y, mean_module, base_kernel, likelihood)"
      ],
      "metadata": {
        "id": "aW_0RjYiXaod"
      },
      "execution_count": 8,
      "outputs": []
    },
    {
      "cell_type": "code",
      "source": [
        "# Sample from the prior for training data\n",
        "model.eval()\n",
        "likelihood.eval()\n",
        "with torch.no_grad():\n",
        "    prior_dist = likelihood(model(x))\n",
        "    y_new = prior_dist.sample()"
      ],
      "metadata": {
        "id": "xsEaf_VmYmtJ",
        "colab": {
          "base_uri": "https://localhost:8080/"
        },
        "outputId": "fb53e871-e29b-4e0d-e4d3-34c4c8aa0e3a"
      },
      "execution_count": 9,
      "outputs": [
        {
          "output_type": "stream",
          "name": "stderr",
          "text": [
            "/usr/local/lib/python3.10/dist-packages/gpytorch/models/exact_gp.py:284: GPInputWarning: The input matches the stored training data. Did you forget to call model.train()?\n",
            "  warnings.warn(\n"
          ]
        }
      ]
    },
    {
      "cell_type": "code",
      "source": [
        "plt.scatter(x[:num_init_train_samples],y_new[:num_init_train_samples], label='train')\n",
        "plt.scatter(x[num_init_train_samples:num_init_train_samples+3*num_test_samples],y_new[num_init_train_samples:num_init_train_samples+3*num_test_samples], label='test')\n",
        "plt.scatter(x[num_init_train_samples+3*num_test_samples:],y_new[num_init_train_samples+3*num_test_samples:], label='pool')\n",
        "plt.ylim(-0.1, 0.1)"
      ],
      "metadata": {
        "colab": {
          "base_uri": "https://localhost:8080/",
          "height": 452
        },
        "id": "fUBcfP-2Yxya",
        "outputId": "3b5eaa2b-5e56-412c-a848-b3cd694f7afe"
      },
      "execution_count": 10,
      "outputs": [
        {
          "output_type": "execute_result",
          "data": {
            "text/plain": [
              "(-0.1, 0.1)"
            ]
          },
          "metadata": {},
          "execution_count": 10
        },
        {
          "output_type": "display_data",
          "data": {
            "text/plain": [
              "<Figure size 640x480 with 1 Axes>"
            ],
            "image/png": "[encoded data removed]"
          },
          "metadata": {}
        }
      ]
    },
    {
      "cell_type": "code",
      "source": [
        "class ConstantValueNetwork(nn.Module):\n",
        "    def __init__(self, constant_value=1.0, output_size=1):\n",
        "        super(ConstantValueNetwork, self).__init__()\n",
        "        # Define the constant value and output size\n",
        "        self.constant_value = nn.Parameter(torch.tensor([constant_value]*output_size), requires_grad=False)\n",
        "        self.output_size = output_size\n",
        "\n",
        "    def forward(self, x):\n",
        "        # x is your input tensor. Its value is ignored in this model.\n",
        "        # Return a 1-D tensor with the constant value for each item in the batch.\n",
        "        batch_size = x.size(0)  # Get the batch size from the input\n",
        "        return self.constant_value.expand(batch_size, self.output_size)"
      ],
      "metadata": {
        "id": "KKGsygmIRRp2"
      },
      "execution_count": 11,
      "outputs": []
    },
    {
      "cell_type": "markdown",
      "source": [
        "First of all what we want to calculate -\n",
        "\n",
        "$$ {\\mathbf Var}_{f \\sim GP(\\eta) } {\\mathbf E}_{\\epsilon} {\\mathbf E}_{x} (f(x)+\\epsilon(x) - p(x))^2 $$\n",
        "\n",
        "Assuming homoscedastic noise\n",
        "\n",
        "$$ {\\mathbf Var}_{f \\sim GP(\\eta) } {\\mathbf E}_{\\epsilon} {\\mathbf E}_{x} (f(x)+\\epsilon - p(x))^2 $$\n",
        "\n",
        "$$ {\\mathbf Var}_{f \\sim GP(\\eta) } {\\mathbf E}_{\\epsilon} {\\mathbf E}_{x} (f(x)- p(x))^2 + (\\epsilon)^2 + 2\\epsilon(f(x)- p(x))  $$\n",
        "\n",
        "$$ {\\mathbf Var}_{f \\sim GP(\\eta) } \\left[{\\mathbf E}_{\\epsilon} {\\mathbf E}_{x} (f(x)- p(x))^2 + {\\mathbf E}_{\\epsilon} {\\mathbf E}_{x} (\\epsilon)^2 + {\\mathbf E}_{\\epsilon} {\\mathbf E}_{x} 2\\epsilon(f(x)- p(x)) \\right] $$\n",
        "\n",
        "$$ {\\mathbf Var}_{f \\sim GP(\\eta) } \\left[{\\mathbf E}_{x} (f(x)- p(x))^2 + \\sigma^2 + 2({\\mathbf E}_{\\epsilon}\\epsilon)( {\\mathbf E}_{x} (f(x)- p(x))) \\right] $$\n",
        "\n",
        "$$ {\\mathbf Var}_{f \\sim GP(\\eta) } \\left[ {\\mathbf E}_{x} (f(x)- p(x))^2 + \\sigma^2 \\right] $$\n",
        "\n",
        "$$ {\\mathbf Var}_{f \\sim GP(\\eta) } \\left[ {\\mathbf E}_{x} (f(x)- p(x))^2 \\right] $$\n",
        "\n",
        "\n",
        "\n",
        "\n",
        "$${\\mathbf E}_{\\epsilon} {\\mathbf E}_{x} (f(x)+\\epsilon(x) - p(x))^2 =^{?}  {\\mathbf E}_{x} {\\mathbf E}_{\\epsilon} (f(x)+\\epsilon(x) - p(x))^2$$\n",
        "\n",
        "### **Be careful above is not the case in RECALL**\n",
        "\n",
        "$$ {\\mathbf Var}_{f \\sim GP(\\eta) } {\\mathbf E}_{\\epsilon} {\\mathbf E}_{x} [{\\mathbf 1}(p(x)>0)|g(f(x),\\epsilon(x))=1] $$\n",
        "\n",
        "$${\\mathbf E}_{\\epsilon} {\\mathbf E}_{x} [{\\mathbf 1}(p(x)>0)|g(f(x),\\epsilon(x))=1] =^{?} {\\mathbf E}_{x}{\\mathbf E}_{\\epsilon} [{\\mathbf 1}(p(x)>0)|g(f(x),\\epsilon(x))=1]$$\n",
        "\n",
        "$$ {\\mathbf Var}_{f \\sim GP(\\eta) } {\\mathbf E}_{\\epsilon} \\frac{ {\\mathbf E}_{x} [{\\mathbf 1}(p(x)>0) g(f(x),\\epsilon)]}{ {\\mathbf E}_{x} [ g(f(x),\\epsilon)]} $$\n",
        "\n",
        "\n"
      ],
      "metadata": {
        "id": "j_tNMBjRd1LC"
      }
    },
    {
      "cell_type": "code",
      "source": [
        "### Adapting L_2 loss for the GP pipeine\n",
        "\n",
        "def var_l2_loss_estimator(model, test_x, Predictor, device, para):\n",
        "    #z_dim = para['z_dim']\n",
        "\n",
        "    #N_iter =  para['N_iter']\n",
        "    #if_print =  para['if_print']\n",
        "    #seed = para['seed_var_l2']\n",
        "    #torch.manual_seed(seed)\n",
        "\n",
        "    N_iter =  100\n",
        "    seed = 0\n",
        "    torch.manual_seed(seed)\n",
        "\n",
        "    #res  = torch.empty((0), dtype=torch.float32, device=device)\n",
        "    #res_square  = torch.empty((0), dtype=torch.float32, device=device)\n",
        "\n",
        "\n",
        "\n",
        "    latent_posterior = model(test_x)\n",
        "    latent_posterior_sample = latent_posterior.rsample(sample_shape=torch.Size([N_iter]))\n",
        "    #print(\"latent_posterior_sample:\", latent_posterior_sample)\n",
        "    #print(\"latent_posterior_sample.shape:\", latent_posterior_sample.shape)\n",
        "    prediction = Predictor(test_x).squeeze()\n",
        "    #print(\"prediction:\", prediction)\n",
        "    L_2_loss_each_point = torch.square(torch.subtract(latent_posterior_sample, prediction))\n",
        "    #print(\"L_2_loss_each_point:\", L_2_loss_each_point)\n",
        "    L_2_loss_each_f = torch.mean(L_2_loss_each_point, dim=1)\n",
        "    #print(\"L_2_loss_each_f_size:\", L_2_loss_each_f.shape)\n",
        "    #print(\"L_2_loss_each_f:\",L_2_loss_each_f)\n",
        "    L_2_loss_variance = torch.var(L_2_loss_each_f)\n",
        "    print(\"L_2_loss_variance:\",L_2_loss_variance)\n",
        "\n",
        "    L_2_loss_mean = torch.mean(L_2_loss_each_f)+model.likelihood.noise\n",
        "    print(\"L_2_loss_mean:\", L_2_loss_mean)\n",
        "\n",
        "    return L_2_loss_variance\n",
        "\n"
      ],
      "metadata": {
        "id": "pFsie_2NTzoC"
      },
      "execution_count": 12,
      "outputs": []
    },
    {
      "cell_type": "code",
      "source": [
        "def l2_loss(test_x, test_y, Predictor, device):\n",
        "    prediction = Predictor(test_x).squeeze()\n",
        "    #print(\"prediction:\", prediction)\n",
        "    #print(\"test_y:\", test_y)\n",
        "    diff_square = torch.square(torch.subtract(test_y, prediction))\n",
        "    #print(\"diff_square:\", diff_square)\n",
        "    return torch.mean(diff_square)"
      ],
      "metadata": {
        "id": "0cUCJOlHsJVc"
      },
      "execution_count": 13,
      "outputs": []
    },
    {
      "cell_type": "code",
      "source": [
        "Predictor = ConstantValueNetwork(constant_value=0.0, output_size=1)"
      ],
      "metadata": {
        "id": "C3JXoforxuWr"
      },
      "execution_count": 14,
      "outputs": []
    },
    {
      "cell_type": "code",
      "source": [
        "model.set_train_data(inputs=x[:num_init_train_samples], targets=y_new[:num_init_train_samples], strict=False)       ####### CAN ALSO USE TRAINING OVER NLL HERE########\n",
        "\n",
        "### IMP LINK - https://github.com/cornellius-gp/gpytorch/issues/1409\n",
        "### IMP LINK - https://docs.gpytorch.ai/en/latest/examples/01_Exact_GPs/Simple_GP_Regression.html\n",
        "posterior = (model(x))\n",
        "posterior_mean = posterior.mean\n",
        "posterior_var = posterior.variance\n",
        "#print(\"posterior_var:\",posterior_var)\n",
        "\n",
        "\n",
        "plt.scatter(x,posterior_mean.detach().numpy())\n",
        "plt.scatter(x.squeeze(),posterior_mean.detach().numpy()-2*torch.sqrt(posterior_var).detach().numpy(),alpha=0.2)\n",
        "plt.scatter(x.squeeze(),posterior_mean.detach().numpy()+2*torch.sqrt(posterior_var).detach().numpy(),alpha=0.2)\n",
        "plt.ylim(-2, 2)\n",
        "\n",
        "var_l2_loss_estimator(model, test_x, Predictor, None, None)\n",
        "\n",
        "l_2_loss_actual = l2_loss(test_x, y_new[num_init_train_samples:num_init_train_samples+3*num_test_samples], Predictor, None)\n",
        "print(\"l_2_loss_actual:\", l_2_loss_actual)"
      ],
      "metadata": {
        "colab": {
          "base_uri": "https://localhost:8080/",
          "height": 557
        },
        "id": "5wNz9IkXsvx0",
        "outputId": "fd309332-4438-4a3f-9046-44e690728c23"
      },
      "execution_count": 15,
      "outputs": [
        {
          "output_type": "stream",
          "name": "stderr",
          "text": [
            "/usr/local/lib/python3.10/dist-packages/linear_operator/utils/cholesky.py:40: NumericalWarning: A not p.d., added jitter of 1.0e-06 to the diagonal\n",
            "  warnings.warn(\n",
            "/usr/local/lib/python3.10/dist-packages/linear_operator/utils/cholesky.py:40: NumericalWarning: A not p.d., added jitter of 1.0e-05 to the diagonal\n",
            "  warnings.warn(\n"
          ]
        },
        {
          "output_type": "stream",
          "name": "stdout",
          "text": [
            "L_2_loss_variance: tensor(0.1119, grad_fn=<VarBackward0>)\n",
            "L_2_loss_mean: tensor([0.3973], grad_fn=<AddBackward0>)\n",
            "l_2_loss_actual: tensor(9.1129e-05)\n"
          ]
        },
        {
          "output_type": "display_data",
          "data": {
            "text/plain": [
              "<Figure size 640x480 with 1 Axes>"
            ],
            "image/png": "[encoded data removed]"
          },
          "metadata": {}
        }
      ]
    },
    {
      "cell_type": "code",
      "source": [
        "new_train_x = torch.cat([x[:num_init_train_samples],x[-2:]])\n",
        "new_train_y = torch.cat([y_new[:num_init_train_samples],y_new[-2:]])\n",
        "\n",
        "model.set_train_data(inputs=new_train_x, targets=new_train_y, strict=False)       ####### CAN ALSO USE TRAINING OVER NLL HERE########\n",
        "\n",
        "posterior = likelihood(model(x))\n",
        "posterior_mean = posterior.mean\n",
        "posterior_var = posterior.variance\n",
        "\n",
        "\n",
        "plt.scatter(x,posterior_mean.detach().numpy())\n",
        "plt.scatter(x.squeeze(),posterior_mean.detach().numpy()-2*torch.sqrt(posterior_var).detach().numpy(),alpha=0.2)\n",
        "plt.scatter(x.squeeze(),posterior_mean.detach().numpy()+2*torch.sqrt(posterior_var).detach().numpy(),alpha=0.2)\n",
        "plt.ylim(-2, 2)\n",
        "var_l2_loss_estimator(model, test_x, Predictor, None, None)"
      ],
      "metadata": {
        "colab": {
          "base_uri": "https://localhost:8080/",
          "height": 487
        },
        "id": "z82sV0R4wNHd",
        "outputId": "6be3bafd-c558-425a-e820-24bf2f1da732"
      },
      "execution_count": 16,
      "outputs": [
        {
          "output_type": "stream",
          "name": "stdout",
          "text": [
            "L_2_loss_variance: tensor(0.0435, grad_fn=<VarBackward0>)\n",
            "L_2_loss_mean: tensor([0.2059], grad_fn=<AddBackward0>)\n"
          ]
        },
        {
          "output_type": "execute_result",
          "data": {
            "text/plain": [
              "tensor(0.0435, grad_fn=<VarBackward0>)"
            ]
          },
          "metadata": {},
          "execution_count": 16
        },
        {
          "output_type": "display_data",
          "data": {
            "text/plain": [
              "<Figure size 640x480 with 1 Axes>"
            ],
            "image/png": "[encoded data removed]"
          },
          "metadata": {}
        }
      ]
    },
    {
      "cell_type": "code",
      "source": [
        "new_train_x = torch.cat([x[:num_init_train_samples],x[num_init_train_samples+num_test_samples*3+num_pool_samples+1:num_init_train_samples+num_test_samples*3+num_pool_samples*2+2],x[-1:]])\n",
        "new_train_y = torch.cat([y_new[:num_init_train_samples],y[num_init_train_samples+num_test_samples*3+num_pool_samples+1:num_init_train_samples+num_test_samples*3+num_pool_samples*2+2],y_new[-1:]])\n",
        "\n",
        "model.set_train_data(inputs=new_train_x, targets=new_train_y, strict=False)       ####### CAN ALSO USE TRAINING OVER NLL HERE########\n",
        "\n",
        "posterior = likelihood(model(x))\n",
        "posterior_mean = posterior.mean\n",
        "posterior_var = posterior.variance\n",
        "\n",
        "\n",
        "plt.scatter(x,posterior_mean.detach().numpy())\n",
        "plt.scatter(x.squeeze(),posterior_mean.detach().numpy()-2*torch.sqrt(posterior_var).detach().numpy(),alpha=0.2)\n",
        "plt.scatter(x.squeeze(),posterior_mean.detach().numpy()+2*torch.sqrt(posterior_var).detach().numpy(),alpha=0.2)\n",
        "plt.ylim(-2, 2)\n",
        "var_l2_loss_estimator(model, test_x, Predictor, None, None)"
      ],
      "metadata": {
        "colab": {
          "base_uri": "https://localhost:8080/",
          "height": 487
        },
        "id": "X2ZmPebVw0Pj",
        "outputId": "bc039ba8-5f34-4cf9-e584-5e6c07c704d7"
      },
      "execution_count": 17,
      "outputs": [
        {
          "output_type": "stream",
          "name": "stdout",
          "text": [
            "L_2_loss_variance: tensor(0.0047, grad_fn=<VarBackward0>)\n",
            "L_2_loss_mean: tensor([0.0635], grad_fn=<AddBackward0>)\n"
          ]
        },
        {
          "output_type": "execute_result",
          "data": {
            "text/plain": [
              "tensor(0.0047, grad_fn=<VarBackward0>)"
            ]
          },
          "metadata": {},
          "execution_count": 17
        },
        {
          "output_type": "display_data",
          "data": {
            "text/plain": [
              "<Figure size 640x480 with 1 Axes>"
            ],
            "image/png": "[encoded data removed]"
          },
          "metadata": {}
        }
      ]
    },
    {
      "cell_type": "code",
      "source": [
        "class GaussianProcessCholesky(nn.Module):\n",
        "    def __init__(self, kernel):\n",
        "        super(GaussianProcessCholesky, self).__init__()\n",
        "        self.kernel = kernel\n",
        "\n",
        "    def forward(self, x_train, y_train, w_train, x_test, noise=1e-4):\n",
        "\n",
        "        # Apply weights only to non-diagonal elements\n",
        "\n",
        "        K = self.kernel(x_train, x_train) + noise * torch.eye(x_train.size(0)) + 1e-6 * torch.eye(x_train.size(0))\n",
        "        non_diag_mask = 1 - torch.eye(K.size(-2), K.size(-1))\n",
        "        weight_matrix = w_train.unsqueeze(-1) * w_train.unsqueeze(-2)\n",
        "        weighted_K =  K * (non_diag_mask * weight_matrix + (1 - non_diag_mask))\n",
        "\n",
        "\n",
        "\n",
        "        K_s = self.kernel(x_train, x_test)\n",
        "        weighted_K_s = torch.diag(w_train)@K_s\n",
        "\n",
        "        K_ss = self.kernel(x_test, x_test) + 1e-6 * torch.eye(x_test.size(0))\n",
        "\n",
        "        L = torch.linalg.cholesky(weighted_K)\n",
        "        alpha = torch.cholesky_solve(y_train.unsqueeze(1), L)\n",
        "        mu = weighted_K_s.t().matmul(alpha).squeeze(-1)\n",
        "\n",
        "        v = torch.linalg.solve(L, weighted_K_s)\n",
        "        cov = K_ss - v.t().matmul(v)\n",
        "\n",
        "        return mu, cov\n"
      ],
      "metadata": {
        "id": "zdriS-h6ikM_"
      },
      "execution_count": 18,
      "outputs": []
    },
    {
      "cell_type": "code",
      "source": [
        "class RBFKernel(nn.Module):\n",
        "    def __init__(self, length_scale= 0.6931471824645996, output_scale = 0.6931471824645996):\n",
        "        super(RBFKernel, self).__init__()\n",
        "        self.length_scale = length_scale\n",
        "        self.output_scale = output_scale\n",
        "    def forward(self, x1, x2):\n",
        "        dist_matrix = torch.cdist(x1.unsqueeze(0), x2.unsqueeze(0), p=2).squeeze(0)**2\n",
        "        return self.output_scale*torch.exp(-0.5 * dist_matrix / self.length_scale**2)\n"
      ],
      "metadata": {
        "id": "_zpzG-Nj_O3S"
      },
      "execution_count": 19,
      "outputs": []
    },
    {
      "cell_type": "code",
      "source": [
        "import torch\n",
        "\n",
        "def sample_multivariate_normal(mu, cov, n_samples):\n",
        "    \"\"\"\n",
        "    Sample from a multivariate normal distribution using the reparameterization trick.\n",
        "\n",
        "    Parameters:\n",
        "    - mu (torch.Tensor): The mean vector of the distribution.    1-D dimension [D]\n",
        "    - cov (torch.Tensor): The covariance matrix of the distribution.  2-D dimension [D,D]\n",
        "    - n_samples (int): The number of samples to generate.\n",
        "\n",
        "    Returns:\n",
        "    - torch.Tensor: Samples from the multivariate normal distribution.\n",
        "    \"\"\"\n",
        "    # Ensure mu and cov are tensors\n",
        "    #mu = torch.tensor(mu, dtype=torch.float32)\n",
        "    #cov = torch.tensor(cov, dtype=torch.float32)\n",
        "\n",
        "    # Cholesky decomposition of the covariance matrix\n",
        "    L = torch.linalg.cholesky(cov + 1e-5 * torch.eye(cov.size(0)))\n",
        "\n",
        "    #L = torch.linalg.cholesky(cov + 1e-8 * torch.eye(cov.size(0)))\n",
        "\n",
        "    # Sample Z from a standard normal distribution\n",
        "    Z = torch.randn(n_samples, mu.size(0))           # Z: [n_samples, D]\n",
        "\n",
        "    # Transform Z to obtain samples from the target distribution\n",
        "    samples = mu + Z @ L.T\n",
        "\n",
        "    return samples    #[n_samples, D]\n",
        "\n",
        "\n"
      ],
      "metadata": {
        "id": "iLCQEFSZL2qA"
      },
      "execution_count": 43,
      "outputs": []
    },
    {
      "cell_type": "code",
      "source": [
        "### Adapting L_2 loss for the GP pipeine\n",
        "\n",
        "def var_l2_loss_custom_gp_estimator(mu, cov, noise, test_x, Predictor, device, para):\n",
        "\n",
        "\n",
        "    N_iter =  100\n",
        "    seed = 0\n",
        "    torch.manual_seed(seed)\n",
        "\n",
        "    latent_posterior_sample = sample_multivariate_normal(mu, cov, N_iter)\n",
        "    prediction = Predictor(test_x).squeeze()\n",
        "    L_2_loss_each_point = torch.square(torch.subtract(latent_posterior_sample, prediction))\n",
        "    L_2_loss_each_f = torch.mean(L_2_loss_each_point, dim=1)\n",
        "    L_2_loss_variance = torch.var(L_2_loss_each_f)\n",
        "    print(\"L_2_loss_variance:\",L_2_loss_variance)\n",
        "\n",
        "    L_2_loss_mean = torch.mean(L_2_loss_each_f)+noise\n",
        "    print(\"L_2_loss_mean:\", L_2_loss_mean)\n",
        "\n",
        "    return L_2_loss_variance\n",
        "\n"
      ],
      "metadata": {
        "id": "Hcex184YIee8"
      },
      "execution_count": 44,
      "outputs": []
    },
    {
      "cell_type": "code",
      "source": [
        "def l2_loss(test_x, test_y, Predictor, device):\n",
        "    prediction = Predictor(test_x).squeeze()\n",
        "    #print(\"prediction:\", prediction)\n",
        "    #print(\"test_y:\", test_y)\n",
        "    diff_square = torch.square(torch.subtract(test_y, prediction))\n",
        "    #print(\"diff_square:\", diff_square)\n",
        "    return torch.mean(diff_square)"
      ],
      "metadata": {
        "id": "E9MuA_xUfYvx"
      },
      "execution_count": 45,
      "outputs": []
    },
    {
      "cell_type": "code",
      "source": [
        "x_train = x[:num_init_train_samples]\n",
        "x_pool_1 = x[num_init_train_samples+num_test_samples*3:num_init_train_samples+num_test_samples*3+num_pool_samples*3-2]\n",
        "x_pool_2 = x[num_init_train_samples+num_test_samples*3+num_pool_samples*3-2:]\n",
        "\n",
        "y_train = y_new[:num_init_train_samples]\n",
        "y_pool_1 = y_new[num_init_train_samples+num_test_samples*3:num_init_train_samples+num_test_samples*3+num_pool_samples*3-2]\n",
        "y_pool_2 = y_new[num_init_train_samples+num_test_samples*3+num_pool_samples*3-2:]\n",
        "\n",
        "\n",
        "x_gp = torch.cat([x_train,x_pool_1,x_pool_2], dim=0)\n",
        "y_gp = torch.cat([y_train,y_pool_1,y_pool_2], dim=0)\n",
        "\n",
        "w_train = torch.ones(x_train.size(0), requires_grad = True)\n",
        "w_pool_1 = torch.zeros(x_pool_1.size(0), requires_grad = True)\n",
        "w_pool_2 = torch.zeros(x_pool_2.size(0), requires_grad = True)\n",
        "w_gp = torch.cat([w_train,w_pool_1,w_pool_2])\n",
        "\n",
        "\n",
        "\n",
        "kernel = RBFKernel(length_scale=25.0, output_scale = 0.6931471824645996)\n",
        "gp = GaussianProcessCholesky(kernel=kernel)\n",
        "noise = 1e-4\n",
        "# Prediction\n",
        "mu2, cov2 = gp(x_gp, y_gp, w_gp, test_x, noise)\n",
        "\n",
        "var_l2_loss_custom_gp_estimator(mu2, cov2, 1e-4, test_x, Predictor, None, None)\n",
        "\n",
        "plt.scatter(test_x,mu2.detach().numpy())\n",
        "plt.scatter(test_x.squeeze(),mu2.detach().numpy()-2*torch.sqrt(torch.diag(cov2)).detach().numpy(),alpha=0.2)\n",
        "plt.scatter(test_x.squeeze(),mu2.detach().numpy()+2*torch.sqrt(torch.diag(cov2)).detach().numpy(),alpha=0.2)\n",
        "plt.ylim(-2, 2)"
      ],
      "metadata": {
        "colab": {
          "base_uri": "https://localhost:8080/",
          "height": 557
        },
        "id": "TEqQajDliMhH",
        "outputId": "45a058fb-9052-4276-994d-0a26dedaaa07"
      },
      "execution_count": 23,
      "outputs": [
        {
          "output_type": "stream",
          "name": "stdout",
          "text": [
            "L_2_loss_variance: tensor(0.0975)\n",
            "L_2_loss_mean: tensor(0.3899)\n"
          ]
        },
        {
          "output_type": "stream",
          "name": "stderr",
          "text": [
            "<ipython-input-20-5fedde6c9e39>:16: UserWarning: To copy construct from a tensor, it is recommended to use sourceTensor.clone().detach() or sourceTensor.clone().detach().requires_grad_(True), rather than torch.tensor(sourceTensor).\n",
            "  mu = torch.tensor(mu, dtype=torch.float32)\n",
            "<ipython-input-20-5fedde6c9e39>:17: UserWarning: To copy construct from a tensor, it is recommended to use sourceTensor.clone().detach() or sourceTensor.clone().detach().requires_grad_(True), rather than torch.tensor(sourceTensor).\n",
            "  cov = torch.tensor(cov, dtype=torch.float32)\n"
          ]
        },
        {
          "output_type": "execute_result",
          "data": {
            "text/plain": [
              "(-2.0, 2.0)"
            ]
          },
          "metadata": {},
          "execution_count": 23
        },
        {
          "output_type": "display_data",
          "data": {
            "text/plain": [
              "<Figure size 640x480 with 1 Axes>"
            ],
            "image/png": "[encoded data removed]"
          },
          "metadata": {}
        }
      ]
    },
    {
      "cell_type": "code",
      "source": [
        "x_train = x[:num_init_train_samples]\n",
        "x_pool_1 = x[num_init_train_samples+num_test_samples*3:num_init_train_samples+num_test_samples*3+num_pool_samples*3-2]\n",
        "x_pool_2 = x[num_init_train_samples+num_test_samples*3+num_pool_samples*3-2:]\n",
        "\n",
        "y_train = y_new[:num_init_train_samples]\n",
        "y_pool_1 = y_new[num_init_train_samples+num_test_samples*3:num_init_train_samples+num_test_samples*3+num_pool_samples*3-2]\n",
        "y_pool_2 = y_new[num_init_train_samples+num_test_samples*3+num_pool_samples*3-2:]\n",
        "\n",
        "\n",
        "x_gp = torch.cat([x_train,x_pool_1,x_pool_2], dim=0)\n",
        "y_gp = torch.cat([y_train,y_pool_1,y_pool_2], dim=0)\n",
        "\n",
        "w_train = torch.ones(x_train.size(0), requires_grad = True)\n",
        "w_pool_1 = torch.zeros(x_pool_1.size(0), requires_grad = True)\n",
        "w_pool_2 = torch.ones(x_pool_2.size(0), requires_grad = True)\n",
        "w_gp = torch.cat([w_train,w_pool_1,w_pool_2])\n",
        "\n",
        "\n",
        "\n",
        "kernel = RBFKernel(length_scale=25.0)\n",
        "gp = GaussianProcessCholesky(kernel=kernel)\n",
        "\n",
        "# Prediction\n",
        "mu, cov = gp(x_gp, y_gp, w_gp, test_x)\n",
        "\n",
        "var_loss = var_l2_loss_custom_gp_estimator(mu, cov, 1e-4, test_x, Predictor, None, None)\n",
        "\n",
        "var_loss.backward()\n",
        "\n",
        "plt.scatter(test_x,mu.detach().numpy())\n",
        "plt.scatter(test_x.squeeze(),mu.detach().numpy()-2*torch.sqrt(torch.diag(cov)).detach().numpy(),alpha=0.2)\n",
        "plt.scatter(test_x.squeeze(),mu.detach().numpy()+2*torch.sqrt(torch.diag(cov)).detach().numpy(),alpha=0.2)\n",
        "plt.ylim(-2, 2)"
      ],
      "metadata": {
        "colab": {
          "base_uri": "https://localhost:8080/",
          "height": 487
        },
        "id": "J-7-wSFcOuXN",
        "outputId": "7667bd95-9625-4371-e563-685e9cddf8ab"
      },
      "execution_count": 46,
      "outputs": [
        {
          "output_type": "stream",
          "name": "stdout",
          "text": [
            "L_2_loss_variance: tensor(0.0485, grad_fn=<VarBackward0>)\n",
            "L_2_loss_mean: tensor(0.2137, grad_fn=<AddBackward0>)\n"
          ]
        },
        {
          "output_type": "execute_result",
          "data": {
            "text/plain": [
              "(-2.0, 2.0)"
            ]
          },
          "metadata": {},
          "execution_count": 46
        },
        {
          "output_type": "display_data",
          "data": {
            "text/plain": [
              "<Figure size 640x480 with 1 Axes>"
            ],
            "image/png": "[encoded data removed]"
          },
          "metadata": {}
        }
      ]
    },
    {
      "cell_type": "code",
      "source": [
        "z = torch.randn(mu.size(0))\n",
        "L = torch.linalg.cholesky(cov + 1e-5 * torch.eye(cov.size(0)))  # Adding a small value for numerical stability\n",
        "samples = mu + L.matmul(z)"
      ],
      "metadata": {
        "id": "eT7Fi3tUEV-h"
      },
      "execution_count": 77,
      "outputs": []
    },
    {
      "cell_type": "code",
      "source": [
        "import argparse\n",
        "import typing\n",
        "\n",
        "import torch\n",
        "from torch import nn\n",
        "import torch.nn.functional as F\n",
        "import torch.optim as optim\n",
        "from torch.utils.data import Dataset, DataLoader\n",
        "import torch.distributions as distributions\n",
        "import numpy as np\n",
        "from dataclasses import dataclass\n",
        "import time\n",
        "from datetime import datetime\n",
        "import matplotlib.pyplot as plt"
      ],
      "metadata": {
        "id": "yM8gU9TBZIcw"
      },
      "execution_count": 47,
      "outputs": []
    },
    {
      "cell_type": "code",
      "source": [
        "# Define a configuration class for dataset-related parameters\n",
        "@dataclass\n",
        "class DatasetConfig:\n",
        "    csv_file_train: str\n",
        "    csv_file_test: str\n",
        "    csv_file_pool: str\n",
        "    y_column: str  # Assuming same column name across above 3 sets\n",
        "\n",
        "\n",
        "@dataclass\n",
        "class ModelConfig:\n",
        "    batch_size_query: int\n",
        "    temp_k_subset: float\n",
        "    hidden_sizes_weight_NN: list\n",
        "    meta_opt_lr: float\n",
        "    meta_opt_weight_decay: float\n",
        "\n",
        "\n",
        "\n",
        "\n",
        "\n",
        "@dataclass\n",
        "class TrainConfig:\n",
        "    n_train_iter: int\n",
        "    N_iter: int\n",
        "\n",
        "\n",
        "\n",
        "@dataclass\n",
        "class GPConfig:\n",
        "    length_scale: float\n",
        "    noise: float\n",
        "    mean_constant: float"
      ],
      "metadata": {
        "id": "3YJLRHQDZEgs"
      },
      "execution_count": 48,
      "outputs": []
    },
    {
      "cell_type": "code",
      "source": [
        "import torch.nn as nn\n",
        "\n",
        "class NN_feature_weights(nn.Module):\n",
        "    def __init__(self, input_size, hidden_sizes, output_size):\n",
        "        super(NN_feature_weights, self).__init__()\n",
        "        layers = []\n",
        "\n",
        "        # Input layer\n",
        "        layers.append(nn.Linear(input_size, hidden_sizes[0]))\n",
        "        layers.append(nn.ReLU())\n",
        "\n",
        "        # Hidden layers\n",
        "        for i in range(len(hidden_sizes) - 1):\n",
        "            layers.append(nn.Linear(hidden_sizes[i], hidden_sizes[i + 1]))\n",
        "            layers.append(nn.ReLU())\n",
        "\n",
        "        # Output layer\n",
        "        layers.append(nn.Linear(hidden_sizes[-1], output_size))\n",
        "\n",
        "        # Combine all layers\n",
        "        self.layers = nn.Sequential(*layers)\n",
        "\n",
        "    def forward(self, x):\n",
        "        return self.layers(x)\n"
      ],
      "metadata": {
        "id": "AAVW3wciaZsx"
      },
      "execution_count": 96,
      "outputs": []
    },
    {
      "cell_type": "code",
      "source": [
        "device = torch.device('cuda' if torch.cuda.is_available() else 'cpu')"
      ],
      "metadata": {
        "id": "bUDGFyTEbj3L"
      },
      "execution_count": 97,
      "outputs": []
    },
    {
      "cell_type": "code",
      "source": [
        "import torch\n",
        "from torch import Tensor\n",
        "import numpy as np\n",
        "\n",
        "EPSILON = np.finfo(np.float32).tiny\n",
        "\n",
        "class SubsetOperator(torch.nn.Module):\n",
        "    def __init__(self, k, device, tau=1.0, hard=False):            # k is the number of samples we want, tau is the temperature parameter, hard:denotes if we want hard or soft samples\n",
        "        super(SubsetOperator, self).__init__()\n",
        "        self.k = k\n",
        "        self.hard = hard\n",
        "        self.tau = tau\n",
        "        self.device=device\n",
        "\n",
        "    def forward(self, scores):                                # scores take in weights of each sample      # scores: Typical shape: [batch_size,n] or [batch_size,n,1]\n",
        "        m = torch.distributions.gumbel.Gumbel(torch.zeros_like(scores), torch.ones_like(scores))\n",
        "        g = m.sample()\n",
        "        scores = scores + g\n",
        "\n",
        "        # continuous top k  (we can later modify this to also output S_WRS, we will just need each onehot_approx to be stored seperately - then it will give k soft vectors)\n",
        "        khot = torch.zeros_like(scores)\n",
        "        onehot_approx = torch.zeros_like(scores)\n",
        "        for i in range(self.k):\n",
        "            khot_mask = torch.max(1.0 - onehot_approx, torch.tensor([EPSILON], device=self.device))            # we can autodiff through this, there is no issue .\n",
        "            # khot_mask = torch.max(1.0 - onehot_approx, torch.tensor([EPSILON]).cuda())      #CHECK MIGHT NEED TO PUT DEVICE HERE,\n",
        "            scores = scores + torch.log(khot_mask)\n",
        "            onehot_approx = torch.nn.functional.softmax(scores / self.tau, dim=1)\n",
        "            khot = khot + onehot_approx\n",
        "\n",
        "        if self.hard:\n",
        "            # will do straight through estimation if training\n",
        "            khot_hard = torch.zeros_like(khot)\n",
        "            val, ind = torch.topk(khot, self.k, dim=1)\n",
        "            khot_hard = khot_hard.scatter_(1, ind, 1)\n",
        "            res = khot_hard - khot.detach() + khot\n",
        "        else:\n",
        "            res = khot\n",
        "\n",
        "        return res"
      ],
      "metadata": {
        "id": "O4YdO917baUW"
      },
      "execution_count": 98,
      "outputs": []
    },
    {
      "cell_type": "code",
      "source": [
        "\n",
        "init_train_y_new = y_new[:num_init_train_samples]\n",
        "\n",
        "test_y_new = y_new[num_init_train_samples:num_init_train_samples+num_test_samples*3]\n",
        "\n",
        "pool_y_new = y_new[num_init_train_samples+num_test_samples*3:]"
      ],
      "metadata": {
        "id": "THe0e4TGc9WL"
      },
      "execution_count": 88,
      "outputs": []
    },
    {
      "cell_type": "code",
      "source": [
        "import math"
      ],
      "metadata": {
        "id": "9k4xR1Cyr7uo"
      },
      "execution_count": 89,
      "outputs": []
    },
    {
      "cell_type": "code",
      "source": [
        "input_feature_size = init_train_x.size(1)\n",
        "#NN_weights = NN_feature_weights(input_feature_size, model_config.hidden_sizes_weight_NN, 1).to(device)\n",
        "\n",
        "tensor_size = pool_x.size(0) # This could be tensor.shape[0] for the first dimension size, for example\n",
        "\n",
        "# Convert the size to a tensor and calculate the reciprocal\n",
        "reciprocal_size_value =  math.log(1.0 / tensor_size)\n",
        "\n",
        "# Now compute the logarithm of the reciprocal\n",
        "NN_weights = torch.full([tensor_size], reciprocal_size_value, requires_grad=True)\n",
        "\n",
        "\n",
        "\n",
        "\n",
        "\n",
        "meta_opt = optim.Adam([NN_weights], lr=model_config.meta_opt_lr, weight_decay=model_config.meta_opt_weight_decay)       # meta_opt is optimizer for parameters of NN_weights\n",
        "\n",
        "    #seed for this\n",
        "SubsetOperator = SubsetOperator(model_config.batch_size_query, device, model_config.temp_k_subset, False).to(device)\n",
        "\n"
      ],
      "metadata": {
        "id": "BQR80k-RaKpt"
      },
      "execution_count": 100,
      "outputs": []
    },
    {
      "cell_type": "code",
      "source": [
        "def train(init_train_x, init_train_y, pool_x, pool_y, test_x, test_y, device, train_config, gp_config, NN_weights, meta_opt, SubsetOperator, Predictor, if_print = True):\n",
        "  meta_loss_list = []\n",
        "  for i in range(train_config.n_train_iter):    # Should we do this multiple times or not\n",
        "    start_time = time.time()\n",
        "\n",
        "    meta_opt.zero_grad()\n",
        "\n",
        "    #pool_weights = NN_weights(pool_x)   #pool_weights has shape [pool_size,1]\n",
        "    #pool_weights_t = pool_weights.t()  #convert pool_weights to shape [1, pool_size]\n",
        "\n",
        "    #set seed\n",
        "\n",
        "    NN_weights_unsqueezed = NN_weights.unsqueeze(0)\n",
        "    soft_k_vector = SubsetOperator(NN_weights_unsqueezed)\n",
        "    #soft_k_vector = SubsetOperator(pool_weights_t)     #soft_k_vector has shape  [1,pool_size]\n",
        "    soft_k_vector_squeeze = soft_k_vector.squeeze()\n",
        "    print(soft_k_vector_squeeze)\n",
        "\n",
        "\n",
        "    input_feature_size = init_train_x.size(1)\n",
        "    init_train_batch_size = init_train_x.size(0)\n",
        "\n",
        "\n",
        "\n",
        "    y_gp = torch.cat([init_train_y,pool_y], dim=0)\n",
        "    x_gp = torch.cat([init_train_x,pool_x], dim=0)\n",
        "    w_train = torch.ones(init_train_batch_size, requires_grad = True)\n",
        "    w_gp = torch.cat([w_train,soft_k_vector_squeeze])\n",
        "\n",
        "\n",
        "    kernel = RBFKernel(length_scale=gp_config.length_scale, output_scale = 0.6931471824645996)\n",
        "    gp = GaussianProcessCholesky(kernel=kernel)\n",
        "\n",
        "    mu2, cov2 = gp(x_gp, y_gp, w_gp, test_x, gp_config.noise)\n",
        "    var_square_loss = var_l2_loss_custom_gp_estimator(mu2, cov2, 1e-4, test_x, Predictor, None, None)\n",
        "    print(\"var_square_loss:\", var_square_loss)\n",
        "    var_square_loss.backward()\n",
        "    #for name, param in NN_weights.named_parameters():\n",
        "    #  print(f\"Gradient of {name} w.r.t to loss: {param.grad}\")\n",
        "    meta_opt.step()\n",
        "    l_2_loss_actual = l2_loss(test_x, test_y, Predictor, None)\n",
        "    print(\"l_2_loss_actual:\", l_2_loss_actual)"
      ],
      "metadata": {
        "id": "uyDaEOUCYwD_"
      },
      "execution_count": 101,
      "outputs": []
    },
    {
      "cell_type": "code",
      "source": [
        "model_config = ModelConfig(batch_size_query = 2, temp_k_subset = 0.1, hidden_sizes_weight_NN = [2], meta_opt_lr = 0.1, meta_opt_weight_decay=0.0)\n",
        "train_config = TrainConfig(n_train_iter = 20, N_iter = 100) #temp_var_recall is the new variable added here\n",
        "gp_config = GPConfig(length_scale = 25.0,  noise = 1e-4, mean_constant = 0.0)\n",
        "\n"
      ],
      "metadata": {
        "id": "kIojaaWwZsz0"
      },
      "execution_count": 99,
      "outputs": []
    },
    {
      "cell_type": "code",
      "source": [
        "torch.manual_seed(0)\n",
        "train(init_train_x, init_train_y_new, pool_x, pool_y_new, test_x, test_y_new, device, train_config, gp_config, NN_weights, meta_opt, SubsetOperator, Predictor, if_print = True)"
      ],
      "metadata": {
        "colab": {
          "base_uri": "https://localhost:8080/"
        },
        "id": "PasegiNvY-m1",
        "outputId": "0c35ddfa-edfa-4029-b261-2ec6e62e6a03"
      },
      "execution_count": 102,
      "outputs": [
        {
          "output_type": "stream",
          "name": "stdout",
          "text": [
            "tensor([5.6591e-05, 9.9189e-01, 2.2946e-10, 1.3937e-09, 3.0956e-07, 4.1895e-03,\n",
            "        4.7421e-05, 9.9985e-01, 1.7913e-05, 3.9406e-03, 9.6294e-07, 4.0538e-06,\n",
            "        2.5568e-12, 5.0913e-09, 2.1284e-07], grad_fn=<SqueezeBackward0>)\n",
            "L_2_loss_variance: tensor(0.0648, grad_fn=<VarBackward0>)\n",
            "L_2_loss_mean: tensor(0.2509, grad_fn=<AddBackward0>)\n",
            "var_square_loss: tensor(0.0648, grad_fn=<VarBackward0>)\n",
            "l_2_loss_actual: tensor(9.1129e-05)\n",
            "tensor([1.1346e-04, 1.1292e-21, 1.9466e-22, 1.3330e-15, 9.3856e-21, 1.5346e-19,\n",
            "        1.0000e+00, 6.9840e-13, 1.5192e-28, 1.1558e-18, 2.4416e-18, 9.9989e-01,\n",
            "        1.9867e-24, 2.0268e-13, 6.9385e-27], grad_fn=<SqueezeBackward0>)\n",
            "L_2_loss_variance: tensor(0.0082, grad_fn=<VarBackward0>)\n",
            "L_2_loss_mean: tensor(0.1007, grad_fn=<AddBackward0>)\n",
            "var_square_loss: tensor(0.0082, grad_fn=<VarBackward0>)\n",
            "l_2_loss_actual: tensor(9.1129e-05)\n",
            "tensor([2.5603e-05, 2.7460e-22, 9.2510e-23, 6.3338e-16, 4.3087e-21, 3.7352e-20,\n",
            "        1.0000e+00, 6.4866e-13, 4.3518e-29, 2.8133e-19, 1.1578e-18, 9.9997e-01,\n",
            "        9.4418e-25, 9.6339e-14, 3.1836e-27], grad_fn=<SqueezeBackward0>)\n",
            "L_2_loss_variance: tensor(0.0082, grad_fn=<VarBackward0>)\n",
            "L_2_loss_mean: tensor(0.1006, grad_fn=<AddBackward0>)\n",
            "var_square_loss: tensor(0.0082, grad_fn=<VarBackward0>)\n",
            "l_2_loss_actual: tensor(9.1129e-05)\n",
            "tensor([1.4826e-05, 1.2455e-22, 7.0433e-23, 4.8219e-16, 3.2090e-21, 1.6956e-20,\n",
            "        1.0000e+00, 8.2900e-13, 2.2865e-29, 1.2772e-19, 8.8024e-19, 9.9999e-01,\n",
            "        7.1887e-25, 7.3359e-14, 2.3702e-27], grad_fn=<SqueezeBackward0>)\n",
            "L_2_loss_variance: tensor(0.0082, grad_fn=<VarBackward0>)\n",
            "L_2_loss_mean: tensor(0.1006, grad_fn=<AddBackward0>)\n",
            "var_square_loss: tensor(0.0082, grad_fn=<VarBackward0>)\n",
            "l_2_loss_actual: tensor(9.1129e-05)\n",
            "tensor([1.4157e-05, 7.9660e-23, 6.8852e-23, 4.7133e-16, 3.0881e-21, 1.0854e-20,\n",
            "        1.0000e+00, 1.2387e-12, 1.6708e-29, 8.1757e-20, 8.5964e-19, 9.9999e-01,\n",
            "        7.0275e-25, 7.1720e-14, 2.2803e-27], grad_fn=<SqueezeBackward0>)\n",
            "L_2_loss_variance: tensor(0.0082, grad_fn=<VarBackward0>)\n",
            "L_2_loss_mean: tensor(0.1006, grad_fn=<AddBackward0>)\n",
            "var_square_loss: tensor(0.0082, grad_fn=<VarBackward0>)\n",
            "l_2_loss_actual: tensor(9.1129e-05)\n",
            "tensor([1.8982e-05, 6.4476e-23, 7.9764e-23, 5.4601e-16, 3.5351e-21, 8.7914e-21,\n",
            "        1.0000e+00, 2.0540e-12, 1.5269e-29, 6.6226e-20, 9.9513e-19, 9.9998e-01,\n",
            "        8.1413e-25, 8.3094e-14, 2.6099e-27], grad_fn=<SqueezeBackward0>)\n",
            "L_2_loss_variance: tensor(0.0082, grad_fn=<VarBackward0>)\n",
            "L_2_loss_mean: tensor(0.1006, grad_fn=<AddBackward0>)\n",
            "var_square_loss: tensor(0.0082, grad_fn=<VarBackward0>)\n",
            "l_2_loss_actual: tensor(9.1129e-05)\n",
            "tensor([3.3772e-05, 6.3152e-23, 1.0642e-22, 7.2844e-16, 4.6722e-21, 8.6169e-21,\n",
            "        1.0000e+00, 3.7327e-12, 1.6712e-29, 6.4915e-20, 1.3269e-18, 9.9997e-01,\n",
            "        1.0862e-24, 1.1087e-13, 3.4489e-27], grad_fn=<SqueezeBackward0>)\n",
            "L_2_loss_variance: tensor(0.0082, grad_fn=<VarBackward0>)\n",
            "L_2_loss_mean: tensor(0.1006, grad_fn=<AddBackward0>)\n",
            "var_square_loss: tensor(0.0082, grad_fn=<VarBackward0>)\n",
            "l_2_loss_actual: tensor(9.1129e-05)\n",
            "tensor([7.4292e-05, 7.1515e-23, 1.5785e-22, 1.0805e-15, 6.8777e-21, 9.7646e-21,\n",
            "        1.0000e+00, 7.2523e-12, 2.0954e-29, 7.3565e-20, 1.9672e-18, 9.9993e-01,\n",
            "        1.6111e-24, 1.6446e-13, 5.0763e-27], grad_fn=<SqueezeBackward0>)\n",
            "L_2_loss_variance: tensor(0.0082, grad_fn=<VarBackward0>)\n",
            "L_2_loss_mean: tensor(0.1007, grad_fn=<AddBackward0>)\n",
            "var_square_loss: tensor(0.0082, grad_fn=<VarBackward0>)\n",
            "l_2_loss_actual: tensor(9.1129e-05)\n",
            "tensor([1.3023e-04, 7.4642e-23, 2.0901e-22, 1.4306e-15, 9.0495e-21, 1.0198e-20,\n",
            "        1.0000e+00, 1.2182e-11, 2.4015e-29, 7.6833e-20, 2.6038e-18, 9.9987e-01,\n",
            "        2.1333e-24, 2.1777e-13, 6.6787e-27], grad_fn=<SqueezeBackward0>)\n",
            "L_2_loss_variance: tensor(0.0082, grad_fn=<VarBackward0>)\n",
            "L_2_loss_mean: tensor(0.1007, grad_fn=<AddBackward0>)\n",
            "var_square_loss: tensor(0.0082, grad_fn=<VarBackward0>)\n",
            "l_2_loss_actual: tensor(9.1129e-05)\n",
            "tensor([9.1902e-05, 5.0766e-23, 1.7558e-22, 1.2018e-15, 7.5624e-21, 6.9401e-21,\n",
            "        1.0000e+00, 1.2641e-11, 1.7801e-29, 5.2290e-20, 2.1867e-18, 9.9991e-01,\n",
            "        1.7922e-24, 1.8295e-13, 5.5806e-27], grad_fn=<SqueezeBackward0>)\n",
            "L_2_loss_variance: tensor(0.0082, grad_fn=<VarBackward0>)\n",
            "L_2_loss_mean: tensor(0.1007, grad_fn=<AddBackward0>)\n",
            "var_square_loss: tensor(0.0082, grad_fn=<VarBackward0>)\n",
            "l_2_loss_actual: tensor(9.1129e-05)\n",
            "tensor([5.2607e-05, 3.1813e-23, 1.3286e-22, 9.0932e-16, 5.6966e-21, 4.3515e-21,\n",
            "        1.0000e+00, 1.1549e-11, 1.2075e-29, 3.2787e-20, 1.6541e-18, 9.9995e-01,\n",
            "        1.3561e-24, 1.3843e-13, 4.2035e-27], grad_fn=<SqueezeBackward0>)\n",
            "L_2_loss_variance: tensor(0.0082, grad_fn=<VarBackward0>)\n",
            "L_2_loss_mean: tensor(0.1006, grad_fn=<AddBackward0>)\n",
            "var_square_loss: tensor(0.0082, grad_fn=<VarBackward0>)\n",
            "l_2_loss_actual: tensor(9.1129e-05)\n",
            "tensor([3.5282e-05, 2.2004e-23, 1.0881e-22, 7.4472e-16, 4.6476e-21, 3.0115e-21,\n",
            "        1.0000e+00, 1.1200e-11, 8.9844e-30, 2.2691e-20, 1.3544e-18, 9.9996e-01,\n",
            "        1.1106e-24, 1.1338e-13, 3.4293e-27], grad_fn=<SqueezeBackward0>)\n",
            "L_2_loss_variance: tensor(0.0082, grad_fn=<VarBackward0>)\n",
            "L_2_loss_mean: tensor(0.1006, grad_fn=<AddBackward0>)\n",
            "var_square_loss: tensor(0.0082, grad_fn=<VarBackward0>)\n",
            "l_2_loss_actual: tensor(9.1129e-05)\n",
            "tensor([2.9913e-05, 1.7406e-23, 1.0019e-22, 6.8573e-16, 4.2655e-21, 2.3834e-21,\n",
            "        1.0000e+00, 1.2005e-11, 7.6014e-30, 1.7959e-20, 1.2468e-18, 9.9997e-01,\n",
            "        1.0227e-24, 1.0440e-13, 3.1472e-27], grad_fn=<SqueezeBackward0>)\n",
            "L_2_loss_variance: tensor(0.0082, grad_fn=<VarBackward0>)\n",
            "L_2_loss_mean: tensor(0.1006, grad_fn=<AddBackward0>)\n",
            "var_square_loss: tensor(0.0082, grad_fn=<VarBackward0>)\n",
            "l_2_loss_actual: tensor(9.1129e-05)\n",
            "tensor([3.1497e-05, 1.5577e-23, 1.0282e-22, 7.0372e-16, 4.3650e-21, 2.1339e-21,\n",
            "        1.0000e+00, 1.4128e-11, 7.2376e-30, 1.6080e-20, 1.2793e-18, 9.9997e-01,\n",
            "        1.0495e-24, 1.0715e-13, 3.2204e-27], grad_fn=<SqueezeBackward0>)\n",
            "L_2_loss_variance: tensor(0.0082, grad_fn=<VarBackward0>)\n",
            "L_2_loss_mean: tensor(0.1006, grad_fn=<AddBackward0>)\n",
            "var_square_loss: tensor(0.0082, grad_fn=<VarBackward0>)\n",
            "l_2_loss_actual: tensor(9.1129e-05)\n",
            "tensor([3.9907e-05, 1.5494e-23, 1.1574e-22, 7.9214e-16, 4.9013e-21, 2.1234e-21,\n",
            "        1.0000e+00, 1.7998e-11, 7.6224e-30, 1.6001e-20, 1.4399e-18, 9.9996e-01,\n",
            "        1.1814e-24, 1.2061e-13, 3.6159e-27], grad_fn=<SqueezeBackward0>)\n",
            "L_2_loss_variance: tensor(0.0082, grad_fn=<VarBackward0>)\n",
            "L_2_loss_mean: tensor(0.1006, grad_fn=<AddBackward0>)\n",
            "var_square_loss: tensor(0.0082, grad_fn=<VarBackward0>)\n",
            "l_2_loss_actual: tensor(9.1129e-05)\n",
            "tensor([5.7922e-05, 1.6691e-23, 1.3945e-22, 9.5440e-16, 5.8924e-21, 2.2884e-21,\n",
            "        1.0000e+00, 2.4253e-11, 8.6553e-30, 1.7245e-20, 1.7346e-18, 9.9994e-01,\n",
            "        1.4234e-24, 1.4532e-13, 4.3470e-27], grad_fn=<SqueezeBackward0>)\n",
            "L_2_loss_variance: tensor(0.0082, grad_fn=<VarBackward0>)\n",
            "L_2_loss_mean: tensor(0.1006, grad_fn=<AddBackward0>)\n",
            "var_square_loss: tensor(0.0082, grad_fn=<VarBackward0>)\n",
            "l_2_loss_actual: tensor(9.1129e-05)\n",
            "tensor([8.5720e-05, 1.8347e-23, 1.6966e-22, 1.1611e-15, 7.1552e-21, 2.5164e-21,\n",
            "        1.0000e+00, 3.2658e-11, 9.9877e-30, 1.8964e-20, 2.1101e-18, 9.9991e-01,\n",
            "        1.7317e-24, 1.7681e-13, 5.2784e-27], grad_fn=<SqueezeBackward0>)\n",
            "L_2_loss_variance: tensor(0.0082, grad_fn=<VarBackward0>)\n",
            "L_2_loss_mean: tensor(0.1007, grad_fn=<AddBackward0>)\n",
            "var_square_loss: tensor(0.0082, grad_fn=<VarBackward0>)\n",
            "l_2_loss_actual: tensor(9.1129e-05)\n",
            "tensor([1.0154e-04, 1.8214e-23, 1.8467e-22, 1.2639e-15, 7.7753e-21, 2.4991e-21,\n",
            "        1.0000e+00, 3.8976e-11, 1.0369e-29, 1.8834e-20, 2.2966e-18, 9.9990e-01,\n",
            "        1.8850e-24, 1.9246e-13, 5.7357e-27], grad_fn=<SqueezeBackward0>)\n",
            "L_2_loss_variance: tensor(0.0082, grad_fn=<VarBackward0>)\n",
            "L_2_loss_mean: tensor(0.1007, grad_fn=<AddBackward0>)\n",
            "var_square_loss: tensor(0.0082, grad_fn=<VarBackward0>)\n",
            "l_2_loss_actual: tensor(9.1129e-05)\n",
            "tensor([8.5542e-05, 1.5379e-23, 1.6952e-22, 1.1602e-15, 7.1268e-21, 2.1108e-21,\n",
            "        1.0000e+00, 3.8898e-11, 9.1241e-30, 1.5908e-20, 2.1080e-18, 9.9991e-01,\n",
            "        1.7303e-24, 1.7667e-13, 5.2571e-27], grad_fn=<SqueezeBackward0>)\n",
            "L_2_loss_variance: tensor(0.0082, grad_fn=<VarBackward0>)\n",
            "L_2_loss_mean: tensor(0.1007, grad_fn=<AddBackward0>)\n",
            "var_square_loss: tensor(0.0082, grad_fn=<VarBackward0>)\n",
            "l_2_loss_actual: tensor(9.1129e-05)\n",
            "tensor([6.1851e-05, 1.2122e-23, 1.4416e-22, 9.8665e-16, 6.0529e-21, 1.6643e-21,\n",
            "        1.0000e+00, 3.5691e-11, 7.4704e-30, 1.2543e-20, 1.7925e-18, 9.9994e-01,\n",
            "        1.4715e-24, 1.5024e-13, 4.4649e-27], grad_fn=<SqueezeBackward0>)\n",
            "L_2_loss_variance: tensor(0.0082, grad_fn=<VarBackward0>)\n",
            "L_2_loss_mean: tensor(0.1006, grad_fn=<AddBackward0>)\n",
            "var_square_loss: tensor(0.0082, grad_fn=<VarBackward0>)\n",
            "l_2_loss_actual: tensor(9.1129e-05)\n"
          ]
        }
      ]
    },
    {
      "cell_type": "code",
      "source": [
        "import matplotlib.pyplot as plt\n",
        "import numpy as np\n",
        "\n",
        "with torch.no_grad():\n",
        "    plt.figure(figsize=(10, 6))\n",
        "    plt.plot(x_train.numpy(), y_train.numpy(), 'kx', label='Training data')\n",
        "    plt.plot(x_test.numpy(), mu.numpy(), 'b', label='Mean prediction')\n",
        "    std_dev = torch.sqrt(torch.diag(cov))\n",
        "    plt.fill_between(x_test.squeeze().numpy(), mu.numpy() - 2 * std_dev.numpy(), mu.numpy() + 2 * std_dev.numpy(), alpha=0.2, label='Confidence')\n",
        "    plt.legend()\n",
        "    plt.show()\n"
      ],
      "metadata": {
        "id": "R1dLY9KC_f2w"
      },
      "execution_count": null,
      "outputs": []
    },
    {
      "cell_type": "code",
      "source": [
        "z = torch.randn(mu.size(0))\n",
        "L = torch.linalg.cholesky(cov + 1e-6 * torch.eye(cov.size(0)))  # Adding a small value for numerical stability\n",
        "samples = mu + L.matmul(z)\n",
        "import torch\n",
        "import matplotlib.pyplot as plt\n",
        "\n",
        "# Assuming mu and cov are obtained from the GP prediction step\n",
        "\n",
        "# Sample from the standard normal distribution\n",
        "z = torch.randn(mu.size(0))\n",
        "\n",
        "# Cholesky decomposition of the covariance matrix\n",
        "L = torch.linalg.cholesky(cov + 1e-6 * torch.eye(cov.size(0)))  # Numerical stability\n",
        "\n",
        "# Reparameterized sample\n",
        "samples = mu + L.matmul(z)\n",
        "\n",
        "# Visualize the sample\n",
        "plt.figure(figsize=(10, 6))\n",
        "plt.plot(x_train.numpy(), y_train.numpy(), 'kx', label='Training data')\n",
        "plt.plot(x_test.numpy(), mu.numpy(), 'b', label='Mean prediction')\n",
        "plt.plot(x_test.numpy(), samples.numpy(), 'r--', label='Sampled prediction')\n",
        "plt.fill_between(x_test.squeeze().numpy(), mu.numpy() - 2 * std_dev.numpy(), mu.numpy() + 2 * std_dev.numpy(), alpha=0.2, label='Confidence')\n",
        "plt.legend()\n",
        "plt.show()\n"
      ],
      "metadata": {
        "id": "95MYgLAU_h4D"
      },
      "execution_count": null,
      "outputs": []
    },
    {
      "cell_type": "code",
      "source": [
        "class RBFKernel(nn.Module):\n",
        "    def __init__(self, length_scale_init=1.0):\n",
        "        super(RBFKernel, self).__init__()\n",
        "        self.length_scale = nn.Parameter(torch.tensor(length_scale_init))\n",
        "\n",
        "    def forward(self, x1, x2):\n",
        "        dist_matrix = torch.cdist(x1.unsqueeze(0), x2.unsqueeze(0), p=2).squeeze(0)**2\n",
        "        return torch.exp(-0.5 / self.length_scale**2 * dist_matrix)\n",
        "def predict(self, x_train, y_train, x_test, noise=1e-5):\n",
        "    K = self.kernel(x_train, x_train) + noise * torch.eye(x_train.size(0))\n",
        "    K_s = self.kernel(x_train, x_test)\n",
        "    K_ss = self.kernel(x_test, x_test) + 1e-8 * torch.eye(x_test.size(0))\n",
        "\n",
        "    L = torch.linalg.cholesky(K)\n",
        "    L_inv = torch.cholesky_inverse(L)\n",
        "    alpha = L_inv.matmul(L_inv.t().matmul(y_train))\n",
        "\n",
        "    mu = K_s.t().matmul(alpha)\n",
        "    v = L_inv.matmul(K_s)\n",
        "    cov = K_ss - v.t().matmul(v)\n",
        "\n",
        "    return mu.squeeze(), cov\n"
      ],
      "metadata": {
        "id": "pkUrfWoZ_pA2"
      },
      "execution_count": null,
      "outputs": []
    },
    {
      "cell_type": "code",
      "source": [
        "x_train = x[:num_init_train_samples]\n",
        "x_pool_1 = x[num_init_train_samples+num_test_samples*3:num_init_train_samples+num_test_samples*3+num_pool_samples*3-2]\n",
        "x_pool_2 = x[num_init_train_samples+num_test_samples*3+num_pool_samples*3-2:]\n",
        "\n",
        "y_train = y_new[:num_init_train_samples]\n",
        "y_pool_1 = y_new[num_init_train_samples+num_test_samples*3:num_init_train_samples+num_test_samples*3+num_pool_samples-2]\n",
        "y_pool_2 = y_new[num_init_train_samples+num_test_samples*3+num_pool_samples*3-2:]\n",
        "\n",
        "\n",
        "x_gp = torch.cat([x_train,x_pool_1,x_pool_2], dim=0)\n",
        "y_gp = torch.cat([y_train,y_pool_1,y_pool_2], dim=0)\n",
        "\n",
        "w_train = torch.ones(x_train.size(0), requires_grad = True)\n",
        "w_pool_1 = torch.zeros(x_pool_1.size(0), requires_grad = True)\n",
        "w_pool_2 = torch.ones(x_pool_2.size(0), requires_grad = True)\n",
        "w_gp = torch.cat([w_train,w_pool_1,w_pool_2])\n",
        "\n",
        "mean_module = gpytorch.means.ConstantMean()\n",
        "base_kernel = gpytorch.kernels.ScaleKernel(gpytorch.kernels.RBFKernel())\n",
        "likelihood = gpytorch.likelihoods.GaussianLikelihood()\n",
        "\n",
        "\n",
        "mean_module.constant = 0.0\n",
        "base_kernel.base_kernel.lengthscale = 25.0\n",
        "likelihood.noise_covar.noise = 0.0001\n",
        "\n",
        "\n",
        "model = WeightedGPModel(x_gp, y_gp, mean_module, base_kernel, likelihood, w_gp)\n",
        "\n",
        "posterior = likelihood(model(x))\n",
        "posterior_mean = posterior.mean\n",
        "posterior_var = posterior.variance\n",
        "\n",
        "\n",
        "plt.scatter(x,posterior_mean.detach().numpy())\n",
        "plt.scatter(x.squeeze(),posterior_mean.detach().numpy()-2*torch.sqrt(posterior_var).detach().numpy(),alpha=0.2)\n",
        "plt.scatter(x.squeeze(),posterior_mean.detach().numpy()+2*torch.sqrt(posterior_var).detach().numpy(),alpha=0.2)\n",
        "plt.ylim(-2, 2)\n",
        "var_l2_loss_estimator(model, test_x, Predictor, None, None)"
      ],
      "metadata": {
        "id": "1BUaJEeltxml"
      },
      "execution_count": null,
      "outputs": []
    },
    {
      "cell_type": "code",
      "source": [
        "x_train = x[:num_init_train_samples]\n",
        "x_pool_1 = x[num_init_train_samples+num_test_samples*3:num_init_train_samples+num_test_samples*3+num_pool_samples*3-2]\n",
        "x_pool_2 = x[num_init_train_samples+num_test_samples*3+num_pool_samples*3-2:num_init_train_samples+num_test_samples*3+num_pool_samples*3]\n",
        "\n",
        "y_train = y_new[:num_init_train_samples]\n",
        "y_pool_1 = y_new[num_init_train_samples+num_test_samples*3:num_init_train_samples+num_test_samples*3+num_pool_samples-2]\n",
        "y_pool_2 = y_new[num_init_train_samples+num_test_samples*3+num_pool_samples-2:num_init_train_samples+num_test_samples*3+num_pool_samples]\n",
        "\n",
        "\n",
        "x_gp = torch.cat([x_train,x_pool_1,x_pool_2], dim=0)\n",
        "y_gp = torch.cat([y_train,y_pool_1,y_pool_2], dim=0)\n",
        "\n",
        "w_train = torch.ones(x_train.size(0), requires_grad = True)\n",
        "w_pool_1 = torch.zeros(x_pool_1.size(0), requires_grad = True)\n",
        "w_pool_2 = torch.ones(x_pool_2.size(0), requires_grad = True)\n",
        "w_gp = torch.cat([w_train,w_pool_1,w_pool_2])\n",
        "\n",
        "mean_module = gpytorch.means.ConstantMean()\n",
        "base_kernel = gpytorch.kernels.ScaleKernel(gpytorch.kernels.RBFKernel())\n",
        "likelihood = gpytorch.likelihoods.GaussianLikelihood()\n",
        "\n",
        "\n",
        "mean_module.constant = 0.0\n",
        "base_kernel.base_kernel.lengthscale = 25.0\n",
        "likelihood.noise_covar.noise = 0.0001\n",
        "\n",
        "\n",
        "model = WeightedGPModel(x_gp, y_gp, mean_module, base_kernel, likelihood, w_gp)\n",
        "\n",
        "posterior = likelihood(model(x))\n",
        "posterior_mean = posterior.mean\n",
        "posterior_var = posterior.variance\n",
        "\n",
        "\n",
        "plt.scatter(x,posterior_mean.detach().numpy())\n",
        "plt.scatter(x.squeeze(),posterior_mean.detach().numpy()-2*torch.sqrt(posterior_var).detach().numpy(),alpha=0.2)\n",
        "plt.scatter(x.squeeze(),posterior_mean.detach().numpy()+2*torch.sqrt(posterior_var).detach().numpy(),alpha=0.2)\n",
        "plt.ylim(-2, 2)\n",
        "var_l2_loss_estimator(model, test_x, Predictor, None, None)"
      ],
      "metadata": {
        "id": "Kw6oXSPqrBnM"
      },
      "execution_count": null,
      "outputs": []
    },
    {
      "cell_type": "markdown",
      "source": [
        "## **Question: If i change likelihood.noise does model.likelihood.noise also gets changed automatically?**\n",
        "\n",
        "## **Answer:**\n",
        "\n",
        "Yes, if you change the `likelihood.noise` attribute in GPyTorch, then accessing `model.likelihood.noise` (assuming `model.likelihood` is the likelihood object you modified) will reflect that change. This is because `likelihood` in the context of a GPyTorch model is typically an instance of a likelihood class (e.g., `gpytorch.likelihoods.GaussianLikelihood`), and when you set this instance as an attribute of your model, you're effectively creating a reference to the same object in memory.\n",
        "\n",
        "Here's a simple breakdown of how this works:\n",
        "\n",
        "1. **Initialization**: When you create a likelihood object and assign it to a model, you're passing a reference of that likelihood object to the model. There's only one instance of the likelihood object in memory.\n",
        "\n",
        "2. **Modification**: If you modify an attribute of the likelihood object (such as `noise` in a `GaussianLikelihood`), you're modifying the object that both the standalone likelihood variable and the model's likelihood attribute point to. Since both references point to the same object, changes are reflected universally.\n",
        "\n",
        "3. **Accessing After Modification**: Accessing `likelihood.noise` directly or through `model.likelihood.noise` after making a change will yield the same result because both access paths lead to the same object in memory.\n",
        "\n",
        "### Example\n",
        "\n",
        "Here's an illustrative example:\n",
        "\n",
        "```python\n",
        "import gpytorch\n",
        "\n",
        "# Assume we have already created a model and a likelihood\n",
        "likelihood = gpytorch.likelihoods.GaussianLikelihood()\n",
        "model = MyGaussianProcessModel(likelihood=likelihood)\n",
        "\n",
        "# Initial noise value\n",
        "print(f\"Initial likelihood noise: {likelihood.noise.item()}\")\n",
        "print(f\"Initial model.likelihood noise: {model.likelihood.noise.item()}\")\n",
        "\n",
        "# Change the likelihood's noise\n",
        "likelihood.noise = 0.2\n",
        "\n",
        "# Both references show the updated noise\n",
        "print(f\"After update likelihood noise: {likelihood.noise.item()}\")\n",
        "print(f\"After update model.likelihood noise: {model.likelihood.noise.item()}\")\n",
        "```\n",
        "\n",
        "In this example, after updating `likelihood.noise`, accessing the noise through either `likelihood` directly or through `model.likelihood` shows the updated value. This demonstrates how the `likelihood` object associated with a model is the same object as the one you're modifying directly; thus, changes are reflected across all references to that object."
      ],
      "metadata": {
        "id": "WriR0A93bqN1"
      }
    },
    {
      "cell_type": "code",
      "source": [
        "\n",
        "\n",
        "mean_module_a = gpytorch.means.ConstantMean()\n",
        "base_kernel_a = gpytorch.kernels.ScaleKernel(gpytorch.kernels.RBFKernel())\n",
        "likelihood_a = gpytorch.likelihoods.GaussianLikelihood()\n",
        "\n",
        "\n",
        "\n",
        "\n",
        "model_a = WeightedGPModel(x_gp, y_gp, mean_module_a, base_kernel_a, likelihood_a, w_gp)\n",
        "model_a.set_train_data(inputs=x_gp, targets=y_gp, strict=True)\n",
        "\n",
        "base_kernel_a.base_kernel.lengthscale = 25.0\n",
        "likelihood_a.noise_covar.noise = 0.0001\n",
        "\n",
        "posterior_a = likelihood_a(model_a(x_gp))\n",
        "posterior_mean_a = posterior_a.mean\n",
        "posterior_var_a = posterior_a.variance\n",
        "\n",
        "\n",
        "plt.scatter(x_gp,posterior_mean_a.detach().numpy())\n",
        "plt.scatter(x_gp.squeeze(),posterior_mean_a.detach().numpy()-2*torch.sqrt(posterior_var_a).detach().numpy(),alpha=0.2)\n",
        "plt.scatter(x_gp.squeeze(),posterior_mean_a.detach().numpy()+2*torch.sqrt(posterior_var_a).detach().numpy(),alpha=0.2)\n",
        "plt.ylim(-2, 2)\n",
        "#var_l2_loss_estimator(model, test_x, Predictor, None, None)\n",
        "\n",
        "model_a.covar_module(x_gp,x_gp).evaluate()"
      ],
      "metadata": {
        "colab": {
          "base_uri": "https://localhost:8080/",
          "height": 1000
        },
        "id": "gF9bnBeSq4J_",
        "outputId": "5d3a7aa1-7fcb-40a0-8cb3-7a3bd5daeb69"
      },
      "execution_count": null,
      "outputs": [
        {
          "output_type": "execute_result",
          "data": {
            "text/plain": [
              "tensor([[6.9315e-01, 3.7464e-01, 5.5180e-01, 5.1476e-01, 6.7270e-01, 5.1407e-01,\n",
              "         5.4748e-01, 6.8705e-01, 6.9213e-01, 5.5428e-01, 5.6997e-01, 5.0454e-01,\n",
              "         3.6721e-01, 6.6895e-01, 5.7370e-01, 5.3566e-01, 6.9156e-01, 6.7545e-01,\n",
              "         6.3137e-01, 5.7403e-01, 3.6072e-12, 4.8726e-12],\n",
              "        [3.7464e-01, 6.9315e-01, 6.3086e-01, 6.5469e-01, 4.7699e-01, 6.5507e-01,\n",
              "         1.3811e-01, 4.3034e-01, 3.9729e-01, 6.2903e-01, 1.5391e-01, 1.1265e-01,\n",
              "         6.9304e-01, 2.6900e-01, 1.5674e-01, 1.3055e-01, 4.0298e-01, 2.8367e-01,\n",
              "         2.1131e-01, 6.1316e-01, 5.7912e-09, 7.4680e-09],\n",
              "        [5.5180e-01, 6.3086e-01, 6.9315e-01, 6.8996e-01, 6.3177e-01, 6.8984e-01,\n",
              "         2.7407e-01, 5.9832e-01, 5.7155e-01, 6.9313e-01, 2.9740e-01, 2.3447e-01,\n",
              "         6.2588e-01, 4.4480e-01, 3.0148e-01, 2.6258e-01, 5.7634e-01, 4.6115e-01,\n",
              "         3.7542e-01, 6.9185e-01, 3.7359e-10, 4.9059e-10],\n",
              "        [5.1476e-01, 6.5469e-01, 6.8996e-01, 6.9315e-01, 6.0337e-01, 6.9315e-01,\n",
              "         2.3934e-01, 5.6533e-01, 5.3596e-01, 6.8950e-01, 2.6125e-01, 2.0261e-01,\n",
              "         6.5064e-01, 4.0445e-01, 2.6511e-01, 2.2863e-01, 5.4116e-01, 4.2089e-01,\n",
              "         3.3598e-01, 6.8462e-01, 6.9657e-10, 9.1104e-10],\n",
              "        [6.7270e-01, 4.7699e-01, 6.3177e-01, 6.0337e-01, 6.9315e-01, 6.0282e-01,\n",
              "         4.4912e-01, 6.8883e-01, 6.8069e-01, 6.3357e-01, 4.7464e-01, 4.0289e-01,\n",
              "         4.6958e-01, 6.0822e-01, 4.7898e-01, 4.3609e-01, 6.8239e-01, 6.2003e-01,\n",
              "         5.5127e-01, 6.4744e-01, 2.0430e-11, 2.7316e-11],\n",
              "        [5.1407e-01, 6.5507e-01, 6.8984e-01, 6.9315e-01, 6.0282e-01, 6.9315e-01,\n",
              "         2.3874e-01, 5.6470e-01, 5.3530e-01, 6.8938e-01, 2.6062e-01, 2.0206e-01,\n",
              "         6.5104e-01, 4.0372e-01, 2.6447e-01, 2.2804e-01, 5.4050e-01, 4.2016e-01,\n",
              "         3.3528e-01, 6.8444e-01, 7.0438e-10, 9.2120e-10],\n",
              "        [5.4748e-01, 1.3811e-01, 2.7407e-01, 2.3934e-01, 4.4912e-01, 2.3874e-01,\n",
              "         6.9315e-01, 4.9531e-01, 5.2669e-01, 2.7656e-01, 6.9184e-01, 6.8896e-01,\n",
              "         1.3372e-01, 6.3454e-01, 6.9136e-01, 6.9281e-01, 5.2136e-01, 6.2371e-01,\n",
              "         6.7100e-01, 2.9736e-01, 2.0150e-14, 2.8012e-14],\n",
              "        [6.8705e-01, 4.3034e-01, 5.9832e-01, 5.6533e-01, 6.8883e-01, 5.6470e-01,\n",
              "         4.9531e-01, 6.9315e-01, 6.9100e-01, 6.0047e-01, 5.1989e-01, 4.4983e-01,\n",
              "         4.2282e-01, 6.3999e-01, 5.2402e-01, 4.8262e-01, 6.9168e-01, 6.4957e-01,\n",
              "         5.9089e-01, 6.1737e-01, 9.3206e-12, 1.2520e-11],\n",
              "        [6.9213e-01, 3.9729e-01, 5.7155e-01, 5.3596e-01, 6.8069e-01, 5.3530e-01,\n",
              "         5.2669e-01, 6.9100e-01, 6.9315e-01, 5.7390e-01, 5.5015e-01, 4.8249e-01,\n",
              "         3.8979e-01, 6.5838e-01, 5.5407e-01, 5.1444e-01, 6.9308e-01, 6.6619e-01,\n",
              "         6.1584e-01, 5.9260e-01, 5.3248e-12, 7.1764e-12],\n",
              "        [5.5428e-01, 6.2903e-01, 6.9313e-01, 6.8950e-01, 6.3357e-01, 6.8938e-01,\n",
              "         2.7656e-01, 6.0047e-01, 5.7390e-01, 6.9315e-01, 2.9998e-01, 2.3678e-01,\n",
              "         6.2398e-01, 4.4759e-01, 3.0408e-01, 2.6502e-01, 5.7866e-01, 4.6392e-01,\n",
              "         3.7819e-01, 6.9212e-01, 3.5768e-10, 4.6982e-10],\n",
              "        [5.6997e-01, 1.5391e-01, 2.9740e-01, 2.6125e-01, 4.7464e-01, 2.6062e-01,\n",
              "         6.9184e-01, 5.1989e-01, 5.5015e-01, 2.9998e-01, 6.9315e-01, 6.8303e-01,\n",
              "         1.4918e-01, 6.4990e-01, 6.9311e-01, 6.9019e-01, 5.4504e-01, 6.4034e-01,\n",
              "         6.8030e-01, 3.2146e-01, 3.2646e-14, 4.5268e-14],\n",
              "        [5.0454e-01, 1.1265e-01, 2.3447e-01, 2.0261e-01, 4.0289e-01, 2.0206e-01,\n",
              "         6.8896e-01, 4.4983e-01, 4.8249e-01, 2.3678e-01, 6.8303e-01, 6.9315e-01,\n",
              "         1.0885e-01, 6.0219e-01, 6.8177e-01, 6.9099e-01, 4.7690e-01, 5.8937e-01,\n",
              "         6.4850e-01, 2.5612e-01, 8.3974e-15, 1.1728e-14],\n",
              "        [3.6721e-01, 6.9304e-01, 6.2588e-01, 6.5064e-01, 4.6958e-01, 6.5104e-01,\n",
              "         1.3372e-01, 4.2282e-01, 3.8979e-01, 6.2398e-01, 1.4918e-01, 1.0885e-01,\n",
              "         6.9315e-01, 2.6242e-01, 1.5195e-01, 1.2633e-01, 3.9547e-01, 2.7691e-01,\n",
              "         2.0552e-01, 6.0765e-01, 6.4584e-09, 8.3222e-09],\n",
              "        [6.6895e-01, 2.6900e-01, 4.4480e-01, 4.0445e-01, 6.0822e-01, 4.0372e-01,\n",
              "         6.3454e-01, 6.3999e-01, 6.5838e-01, 4.4759e-01, 6.4990e-01, 6.0219e-01,\n",
              "         2.6242e-01, 6.9315e-01, 6.5232e-01, 6.2601e-01, 6.5546e-01, 6.9262e-01,\n",
              "         6.8372e-01, 4.7034e-01, 5.0955e-13, 6.9602e-13],\n",
              "        [5.7370e-01, 1.5674e-01, 3.0148e-01, 2.6511e-01, 4.7898e-01, 2.6447e-01,\n",
              "         6.9136e-01, 5.2402e-01, 5.5407e-01, 3.0408e-01, 6.9311e-01, 6.8177e-01,\n",
              "         1.5195e-01, 6.5232e-01, 6.9315e-01, 6.8948e-01, 5.4901e-01, 6.4299e-01,\n",
              "         6.8164e-01, 3.2567e-01, 3.5449e-14, 4.9133e-14],\n",
              "        [5.3566e-01, 1.3055e-01, 2.6258e-01, 2.2863e-01, 4.3609e-01, 2.2804e-01,\n",
              "         6.9281e-01, 4.8262e-01, 5.1444e-01, 2.6502e-01, 6.9019e-01, 6.9099e-01,\n",
              "         1.2633e-01, 6.2601e-01, 6.8948e-01, 6.9315e-01, 5.0903e-01, 6.1457e-01,\n",
              "         6.6539e-01, 2.8544e-01, 1.5758e-14, 2.1935e-14],\n",
              "        [6.9156e-01, 4.0298e-01, 5.7634e-01, 5.4116e-01, 6.8239e-01, 5.4050e-01,\n",
              "         5.2136e-01, 6.9168e-01, 6.9308e-01, 5.7866e-01, 5.4504e-01, 4.7690e-01,\n",
              "         3.9547e-01, 6.5546e-01, 5.4901e-01, 5.0903e-01, 6.9315e-01, 6.6358e-01,\n",
              "         6.1173e-01, 5.9707e-01, 5.8677e-12, 7.9036e-12],\n",
              "        [6.7545e-01, 2.8367e-01, 4.6115e-01, 4.2089e-01, 6.2003e-01, 4.2016e-01,\n",
              "         6.2371e-01, 6.4957e-01, 6.6619e-01, 4.6392e-01, 6.4034e-01, 5.8937e-01,\n",
              "         2.7691e-01, 6.9262e-01, 6.4299e-01, 6.1457e-01, 6.6358e-01, 6.9315e-01,\n",
              "         6.7879e-01, 4.8645e-01, 6.8215e-13, 9.3026e-13],\n",
              "        [6.3137e-01, 2.1131e-01, 3.7542e-01, 3.3598e-01, 5.5127e-01, 3.3528e-01,\n",
              "         6.7100e-01, 5.9089e-01, 6.1584e-01, 3.7819e-01, 6.8030e-01, 6.4850e-01,\n",
              "         2.0552e-01, 6.8372e-01, 6.8164e-01, 6.6539e-01, 6.1173e-01, 6.7879e-01,\n",
              "         6.9315e-01, 4.0102e-01, 1.4586e-13, 2.0063e-13],\n",
              "        [5.7403e-01, 6.1316e-01, 6.9185e-01, 6.8462e-01, 6.4744e-01, 6.8444e-01,\n",
              "         2.9736e-01, 6.1737e-01, 5.9260e-01, 6.9212e-01, 3.2146e-01, 2.5612e-01,\n",
              "         6.0765e-01, 4.7034e-01, 3.2567e-01, 2.8544e-01, 5.9707e-01, 4.8645e-01,\n",
              "         4.0102e-01, 6.9315e-01, 2.4992e-10, 3.2902e-10],\n",
              "        [3.6072e-12, 5.7912e-09, 3.7359e-10, 6.9657e-10, 2.0430e-11, 7.0438e-10,\n",
              "         2.0150e-14, 9.3206e-12, 5.3248e-12, 3.5768e-10, 3.2646e-14, 8.3974e-15,\n",
              "         6.4584e-09, 5.0955e-13, 3.5449e-14, 1.5758e-14, 5.8677e-12, 6.8215e-13,\n",
              "         1.4586e-13, 2.4991e-10, 6.9315e-01, 6.9254e-01],\n",
              "        [4.8726e-12, 7.4680e-09, 4.9059e-10, 9.1104e-10, 2.7316e-11, 9.2120e-10,\n",
              "         2.8012e-14, 1.2520e-11, 7.1764e-12, 4.6982e-10, 4.5268e-14, 1.1728e-14,\n",
              "         8.3222e-09, 6.9602e-13, 4.9133e-14, 2.1935e-14, 7.9036e-12, 9.3026e-13,\n",
              "         2.0063e-13, 3.2902e-10, 6.9254e-01, 6.9315e-01]],\n",
              "       grad_fn=<MulBackward0>)"
            ]
          },
          "metadata": {},
          "execution_count": 32
        },
        {
          "output_type": "display_data",
          "data": {
            "text/plain": [
              "<Figure size 640x480 with 1 Axes>"
            ],
            "image/png": "[encoded data removed]"
          },
          "metadata": {}
        }
      ]
    },
    {
      "cell_type": "markdown",
      "source": [
        "## **Question:** Is it sufficient to pass just the model and access the likelihood from model.likelihood instead of passing model and likelihood separately\n",
        "\n",
        "## **Answer:**\n",
        "\n",
        "Yes, that's correct. In many scenarios, especially when working within a framework like GPyTorch where the model and likelihood are closely integrated, it's sufficient to pass just the model object around in your code, as long as the likelihood has been properly attached to the model. Since you can access the likelihood via `model.likelihood`, there's no need to pass the likelihood separately in most cases. This approach keeps your code cleaner and reduces the risk of errors or inconsistencies that might arise from handling multiple objects separately.\n",
        "\n",
        "### Benefits of Accessing Likelihood from the Model:\n",
        "\n",
        "1. **Simplicity**: Reduces the complexity of function signatures and class constructors by requiring fewer arguments, making the code easier to read and maintain.\n",
        "\n",
        "2. **Consistency**: Ensures that you are always using the correct likelihood associated with the model, avoiding potential bugs that could arise from mistakenly using a different likelihood object.\n",
        "\n",
        "3. **Encapsulation**: Keeps the model and its associated likelihood together, which is a good practice in object-oriented design, encapsulating related functionalities within the same object or module.\n",
        "\n",
        "### Example Usage:\n",
        "\n",
        "When you define your model and likelihood in GPyTorch, and then integrate them, any function or method that requires access to either the model or the likelihood can do so through the model object itself. Here's an example to illustrate this:\n",
        "\n",
        "```python\n",
        "import gpytorch\n",
        "import torch\n",
        "\n",
        "class MyGPModel(gpytorch.models.ExactGP):\n",
        "    def __init__(self, train_x, train_y, likelihood):\n",
        "        super(MyGPModel, self).__init__(train_x, train_y, likelihood)\n",
        "        self.mean_module = gpytorch.means.ConstantMean()\n",
        "        self.covar_module = gpytorch.kernels.ScaleKernel(gpytorch.kernels.RBFKernel())\n",
        "    \n",
        "    def forward(self, x):\n",
        "        mean_x = self.mean_module(x)\n",
        "        covar_x = self.covar_module(x)\n",
        "        return gpytorch.distributions.MultivariateNormal(mean_x, covar_x)\n",
        "\n",
        "# Initialize the model and likelihood\n",
        "train_x = torch.randn(50)\n",
        "train_y = torch.sin(train_x)\n",
        "likelihood = gpytorch.likelihoods.GaussianLikelihood()\n",
        "model = MyGPModel(train_x, train_y, likelihood)\n",
        "\n",
        "# Example function that uses the model\n",
        "def train(model, training_iterations=100):\n",
        "    model.train()\n",
        "    likelihood = model.likelihood  # Access likelihood from the model\n",
        "    # Training code here...\n",
        "    # You can use 'likelihood' as needed, without needing it passed separately\n",
        "\n",
        "# Call the function with just the model\n",
        "train(model)\n",
        "```\n",
        "\n",
        "In this setup, any further manipulation of the model or likelihood (such as adjusting hyperparameters, making predictions, or applying optimization steps) can be handled through the `model` object, utilizing `model.likelihood` to access the likelihood when necessary. This method of accessing the likelihood ensures that your code is modular and cohesive, maintaining a clear structure for managing the components of your Gaussian Process model."
      ],
      "metadata": {
        "id": "rgv6M0lmb5rL"
      }
    },
    {
      "cell_type": "markdown",
      "source": [
        "## **Question:** Why do we do likelihood(model(x)) in gpytorch instead of model(x)\n",
        "\n",
        "## **Answer:**\n",
        "[Link 1](https://github.com/cornellius-gp/gpytorch/issues/1409)\n",
        "\n",
        "[Link 2](https://docs.gpytorch.ai/en/latest/examples/01_Exact_GPs/Simple_GP_Regression.html)"
      ],
      "metadata": {
        "id": "YFe_pOeRcI4b"
      }
    },
    {
      "cell_type": "code",
      "source": [
        "class WeightedKernel(gpytorch.kernels.Kernel):\n",
        "    has_lengthscale = True\n",
        "\n",
        "    def __init__(self, base_kernel: gpytorch.kernels.Kernel, weights: torch.Tensor):\n",
        "        \"\"\"\n",
        "        Initializes the WeightedKernel with explicit weights.\n",
        "\n",
        "        Args:\n",
        "            base_kernel (gpytorch.kernels.Kernel): The base kernel.\n",
        "            weights (Tensor): A tensor of precomputed weights.\n",
        "        \"\"\"\n",
        "        super(WeightedKernel, self).__init__()\n",
        "        self.base_kernel = base_kernel\n",
        "        self.weights = weights\n",
        "\n",
        "    def forward(self, x1, x2, diag=False, **params):\n",
        "        weighted_covar = self.base_kernel(x1, x2, diag=diag, **params)\n",
        "        if not diag:\n",
        "            weight_matrix = self.weights.unsqueeze(-1) * self.weights.unsqueeze(-2)\n",
        "            weighted_covar = weighted_covar * weight_matrix\n",
        "        else:\n",
        "            weighted_covar = weighted_covar * self.weights * self.weights\n",
        "            #weighted_covar = weighted_covar\n",
        "        return weighted_covar\n",
        "\n",
        "\n",
        "\n",
        "\n",
        "class WeightedGPModel(gpytorch.models.ExactGP):\n",
        "    def __init__(self, train_x, train_y, mean_module, base_kernel, likelihood, weights):\n",
        "        super(WeightedGPModel, self).__init__(train_x, train_y, likelihood)\n",
        "        self.mean_module = mean_module\n",
        "        self.covar_module = WeightedKernel(base_kernel=base_kernel, weights=weights)\n",
        "\n",
        "    def forward(self, x):\n",
        "        mean_x = self.mean_module(x)\n",
        "        covar_x = self.covar_module(x, x)\n",
        "        return gpytorch.distributions.MultivariateNormal(mean_x, covar_x)\n",
        "\n"
      ],
      "metadata": {
        "id": "BbD8qBauzXHQ"
      },
      "execution_count": null,
      "outputs": []
    },
    {
      "cell_type": "code",
      "source": [
        "x_train = x[:num_init_train_samples]\n",
        "x_pool_1 = x[num_init_train_samples+num_test_samples*3+13:]\n",
        "\n",
        "y_train = y_new[:num_init_train_samples]\n",
        "y_pool_1 = y_new[num_init_train_samples+num_test_samples*3+13:]\n",
        "\n",
        "\n",
        "x_gp = torch.cat([x_train,x_pool_1], dim=0)\n",
        "y_gp = torch.cat([y_train,y_pool_1], dim=0)\n",
        "\n",
        "w_train = torch.ones(x_train.size(0), requires_grad = True)\n",
        "w_pool_1 = torch.ones(x_pool_1.size(0), requires_grad = True)\n",
        "w_gp = torch.cat([w_train,w_pool_1])"
      ],
      "metadata": {
        "id": "RDStlp4560aH"
      },
      "execution_count": null,
      "outputs": []
    },
    {
      "cell_type": "code",
      "source": [
        "\n",
        "\n",
        "class GaussianProcess(nn.Module):\n",
        "    def __init__(self, kernel):\n",
        "        super(GaussianProcess, self).__init__()\n",
        "        self.kernel = kernel\n",
        "\n",
        "    def forward(self, x_train, y_train, w_train, x_test, noise=1e-4):\n",
        "\n",
        "\n",
        "\n",
        "        # Apply weights only to non-diagonal elements\n",
        "\n",
        "\n",
        "        K = self.kernel(x_train, x_train) + noise * torch.eye(x_train.size(0))\n",
        "        #print(\"K:\",K)\n",
        "        non_diag_mask = 1 - torch.eye(K.size(-2), K.size(-1))\n",
        "        #print(\"non_diag_mask:\",non_diag_mask)\n",
        "        weight_matrix = w_train.unsqueeze(-1) * w_train.unsqueeze(-2)\n",
        "        #print(\"weight_matrix:\", weight_matrix)\n",
        "        #print(\"weighted_K:\", K*(non_diag_mask * weight_matrix + (1 - non_diag_mask)))\n",
        "        weighted_K =  K * (non_diag_mask * weight_matrix + (1 - non_diag_mask))\n",
        "\n",
        "        K_s = self.kernel(x_train, x_test)\n",
        "        weighted_K_s = torch.diag(w_train)@K_s\n",
        "        #print(\"K_s:\",K_s)\n",
        "        #print(\"weighted_K_s:\",weighted_K_s)\n",
        "        K_ss = self.kernel(x_test, x_test) + 1e-6 * torch.eye(x_test.size(0))\n",
        "        #K_ss = self.kernel(x_test, x_test)\n",
        "        #print(\"K_ss:\", K_ss)\n",
        "        weighted_K_inv = torch.inverse(weighted_K)\n",
        "        #print(\"K_inv:\", weighted_K_inv)\n",
        "        mu = K_s.t()@(weighted_K_inv)@(y_train)\n",
        "        cov = K_ss - ((weighted_K_s.t())@(weighted_K_inv)@(weighted_K_s))\n",
        "        return mu.squeeze(), cov\n"
      ],
      "metadata": {
        "id": "yk7kJ1N9_Kak"
      },
      "execution_count": null,
      "outputs": []
    },
    {
      "cell_type": "code",
      "source": [
        "x_train = x[:num_init_train_samples]\n",
        "#x_pool_1 = x[num_init_train_samples+num_test_samples*3:]\n",
        "\n",
        "y_train = y_new[:num_init_train_samples]\n",
        "#y_pool_1 = y_new[num_init_train_samples+num_test_samples*3:]\n",
        "\n",
        "w_train = torch.ones(x_train.size(0), requires_grad = True)\n",
        "\n",
        "\n",
        "\n",
        "kernel = RBFKernel(length_scale=25.0)\n",
        "gp = GaussianProcess(kernel=kernel)\n",
        "\n",
        "# Prediction\n",
        "mu, cov = gp(x_train, y_train, w_train, x_train)\n",
        "\n",
        "plt.scatter(x_train,mu.detach().numpy())\n",
        "plt.scatter(x_train.squeeze(),mu.detach().numpy()-2*torch.sqrt(torch.diag(cov)).detach().numpy(),alpha=0.2)\n",
        "plt.scatter(x_train.squeeze(),mu.detach().numpy()+2*torch.sqrt(torch.diag(cov)).detach().numpy(),alpha=0.2)\n",
        "plt.ylim(-2, 2)"
      ],
      "metadata": {
        "colab": {
          "base_uri": "https://localhost:8080/",
          "height": 453
        },
        "id": "aJiGDC6kVu-J",
        "outputId": "9c755836-5d82-4ef7-a2c0-38fb67abc9b9"
      },
      "execution_count": null,
      "outputs": [
        {
          "output_type": "execute_result",
          "data": {
            "text/plain": [
              "(-2.0, 2.0)"
            ]
          },
          "metadata": {},
          "execution_count": 188
        },
        {
          "output_type": "display_data",
          "data": {
            "text/plain": [
              "<Figure size 640x480 with 1 Axes>"
            ],
            "image/png": "[encoded data removed]"
          },
          "metadata": {}
        }
      ]
    },
    {
      "cell_type": "code",
      "source": [
        "x_train = x[:2]\n",
        "x_pool_1 = x[num_init_train_samples+num_test_samples*3+13:]\n",
        "\n",
        "y_train = y_new[:2]\n",
        "y_pool_1 = y_new[num_init_train_samples+num_test_samples*3+13:]\n",
        "\n",
        "\n",
        "x_gp = torch.cat([x_train,x_pool_1], dim=0)\n",
        "y_gp = torch.cat([y_train,y_pool_1], dim=0)\n",
        "\n",
        "w_train = torch.ones(x_train.size(0), requires_grad = True)\n",
        "w_pool_1 = torch.ones(x_pool_1.size(0), requires_grad = True)\n",
        "w_gp = torch.cat([w_train,w_pool_1])\n",
        "\n",
        "\n",
        "kernel = RBFKernel(length_scale=25.0)\n",
        "gp = GaussianProcess(kernel=kernel)\n",
        "\n",
        "# Prediction\n",
        "mu, cov = gp(x_gp, y_gp, w_gp, x_gp)\n",
        "\n",
        "plt.scatter(x_gp,mu.detach().numpy())\n",
        "plt.scatter(x_gp.squeeze(),mu.detach().numpy()-2*torch.sqrt(torch.diag(cov)).detach().numpy(),alpha=0.2)\n",
        "plt.scatter(x_gp.squeeze(),mu.detach().numpy()+2*torch.sqrt(torch.diag(cov)).detach().numpy(),alpha=0.2)"
      ],
      "metadata": {
        "colab": {
          "base_uri": "https://localhost:8080/",
          "height": 448
        },
        "id": "vsrPCDlIKsF3",
        "outputId": "a7b61143-3e84-4e80-b503-44c99186b735"
      },
      "execution_count": null,
      "outputs": [
        {
          "output_type": "execute_result",
          "data": {
            "text/plain": [
              "<matplotlib.collections.PathCollection at 0x7e79089d9de0>"
            ]
          },
          "metadata": {},
          "execution_count": 190
        },
        {
          "output_type": "display_data",
          "data": {
            "text/plain": [
              "<Figure size 640x480 with 1 Axes>"
            ],
            "image/png": "[encoded data removed]"
          },
          "metadata": {}
        }
      ]
    },
    {
      "cell_type": "code",
      "source": [
        "\n",
        "\n",
        "class GaussianProcessNormalCholesky(nn.Module):\n",
        "    def __init__(self, kernel):\n",
        "        super(GaussianProcessNormalCholesky, self).__init__()\n",
        "        self.kernel = kernel\n",
        "\n",
        "    def forward(self, x_train, y_train, w_train, x_test, noise=1e-4):\n",
        "\n",
        "\n",
        "        K = self.kernel(x_train, x_train) + noise * torch.eye(x_train.size(0))\n",
        "        K_s = self.kernel(x_train, x_test)\n",
        "        K_ss = self.kernel(x_test, x_test) + 1e-8 * torch.eye(x_test.size(0))\n",
        "        L = torch.linalg.cholesky(K)\n",
        "        alpha = torch.cholesky_solve(y_train.unsqueeze(1), L)\n",
        "        mu = K_s.t().matmul(alpha).squeeze(-1)\n",
        "\n",
        "        v = torch.linalg.solve(L, K_s)\n",
        "        cov = K_ss - v.t().matmul(v)\n",
        "        return mu, cov\n"
      ],
      "metadata": {
        "id": "g8_xH_yze8mA"
      },
      "execution_count": null,
      "outputs": []
    },
    {
      "cell_type": "code",
      "source": [
        "x_train = x[:num_init_train_samples]\n",
        "x_pool_1 = x[num_init_train_samples+num_test_samples*3:num_init_train_samples+num_test_samples*3+num_pool_samples*3-2]\n",
        "x_pool_2 = x[num_init_train_samples+num_test_samples*3+num_pool_samples*3-2:]\n",
        "\n",
        "y_train = y_new[:num_init_train_samples]\n",
        "y_pool_1 = y_new[num_init_train_samples+num_test_samples*3:num_init_train_samples+num_test_samples*3+num_pool_samples*3-2]\n",
        "y_pool_2 = y_new[num_init_train_samples+num_test_samples*3+num_pool_samples*3-2:]\n",
        "\n",
        "\n",
        "x_gp = torch.cat([x_train,x_pool_1,x_pool_2], dim=0)\n",
        "y_gp = torch.cat([y_train,y_pool_1,y_pool_2], dim=0)\n",
        "\n",
        "w_train = torch.ones(x_train.size(0), requires_grad = True)\n",
        "w_pool_1 = torch.zeros(x_pool_1.size(0), requires_grad = True)\n",
        "w_pool_2 = torch.ones(x_pool_2.size(0), requires_grad = True)\n",
        "w_gp = torch.cat([w_train,w_pool_1,w_pool_2])\n",
        "\n",
        "\n",
        "\n",
        "kernel = RBFKernel(length_scale=25.0)\n",
        "gp = GaussianProcessNormalCholesky(kernel=kernel)\n",
        "\n",
        "# Prediction\n",
        "mu1, cov1 = gp(x_gp, y_gp, w_gp, x)\n",
        "\n",
        "plt.scatter(x,mu.detach().numpy())\n",
        "plt.scatter(x.squeeze(),mu.detach().numpy()-2*torch.sqrt(torch.diag(cov)).detach().numpy(),alpha=0.2)\n",
        "plt.scatter(x.squeeze(),mu.detach().numpy()+2*torch.sqrt(torch.diag(cov)).detach().numpy(),alpha=0.2)\n",
        "plt.ylim(-2, 2)"
      ],
      "metadata": {
        "colab": {
          "base_uri": "https://localhost:8080/",
          "height": 453
        },
        "id": "BRJ1kr4Rjd38",
        "outputId": "edbe16a0-b706-4e83-f07a-291a32e70cad"
      },
      "execution_count": null,
      "outputs": [
        {
          "output_type": "execute_result",
          "data": {
            "text/plain": [
              "(-2.0, 2.0)"
            ]
          },
          "metadata": {},
          "execution_count": 213
        },
        {
          "output_type": "display_data",
          "data": {
            "text/plain": [
              "<Figure size 640x480 with 1 Axes>"
            ],
            "image/png": "[encoded data removed]"
          },
          "metadata": {}
        }
      ]
    },
    {
      "cell_type": "code",
      "source": [
        "x_train = x[:num_init_train_samples]\n",
        "x_pool_1 = x[num_init_train_samples+num_test_samples*3:num_init_train_samples+num_test_samples*3+num_pool_samples*3-2]\n",
        "x_pool_2 = x[num_init_train_samples+num_test_samples*3+num_pool_samples*3-2:]\n",
        "\n",
        "y_train = y_new[:num_init_train_samples]\n",
        "y_pool_1 = y_new[num_init_train_samples+num_test_samples*3:num_init_train_samples+num_test_samples*3+num_pool_samples*3-2]\n",
        "y_pool_2 = y_new[num_init_train_samples+num_test_samples*3+num_pool_samples*3-2:]\n",
        "\n",
        "\n",
        "x_gp = torch.cat([x_train], dim=0)\n",
        "y_gp = torch.cat([y_train], dim=0)\n",
        "\n",
        "w_train = torch.ones(x_train.size(0), requires_grad = True)\n",
        "w_pool_1 = torch.zeros(x_pool_1.size(0), requires_grad = True)\n",
        "w_pool_2 = torch.ones(x_pool_2.size(0), requires_grad = True)\n",
        "w_gp = torch.cat([w_train,w_pool_1,w_pool_2])\n",
        "\n",
        "\n",
        "\n",
        "kernel = RBFKernel(length_scale=25.0)\n",
        "gp = GaussianProcessNormalCholesky(kernel=kernel)\n",
        "\n",
        "# Prediction\n",
        "mu1, cov1 = gp(x_gp, y_gp, w_gp, x)\n",
        "\n",
        "plt.scatter(x,mu1.detach().numpy())\n",
        "plt.scatter(x.squeeze(),mu1.detach().numpy()-2*torch.sqrt(torch.diag(cov1)).detach().numpy(),alpha=0.2)\n",
        "plt.scatter(x.squeeze(),mu1.detach().numpy()+2*torch.sqrt(torch.diag(cov1)).detach().numpy(),alpha=0.2)\n",
        "plt.ylim(-2, 2)"
      ],
      "metadata": {
        "colab": {
          "base_uri": "https://localhost:8080/",
          "height": 453
        },
        "id": "olFWJ5HQfxyz",
        "outputId": "62f992c2-8054-449a-9920-7d6a6f28c4fe"
      },
      "execution_count": null,
      "outputs": [
        {
          "output_type": "execute_result",
          "data": {
            "text/plain": [
              "(-2.0, 2.0)"
            ]
          },
          "metadata": {},
          "execution_count": 232
        },
        {
          "output_type": "display_data",
          "data": {
            "text/plain": [
              "<Figure size 640x480 with 1 Axes>"
            ],
            "image/png": "[encoded data removed]"
          },
          "metadata": {}
        }
      ]
    },
    {
      "cell_type": "code",
      "source": [
        "print(mu1)\n",
        "print(mu2)\n",
        "print(torch.diag(cov1))\n",
        "print(torch.diag(cov2))"
      ],
      "metadata": {
        "colab": {
          "base_uri": "https://localhost:8080/"
        },
        "id": "R0P6WrThmMbj",
        "outputId": "bc03251e-e18b-4e56-cdab-a18c1cbcee55"
      },
      "execution_count": null,
      "outputs": [
        {
          "output_type": "stream",
          "name": "stdout",
          "text": [
            "tensor([-3.9116e-03,  3.3259e-03, -6.4555e-03,  2.1836e-04,  6.4327e-03,\n",
            "         7.4193e-03, -8.6703e-03,  3.5091e-03, -1.1096e-02,  4.2413e-03,\n",
            "         4.6255e-03, -6.5717e-03, -1.4896e-02,  3.3790e-03, -1.1974e-02,\n",
            "        -1.1905e-02,  3.1856e-04, -1.3246e-02,  6.8094e-03,  3.3816e-03,\n",
            "         8.2112e-03, -1.2501e-02,  7.2716e-03, -1.4219e-02,  4.1380e-03,\n",
            "         1.9909e-03,  3.4597e-04,  3.6800e-04, -9.9041e-05, -1.1470e-04,\n",
            "        -2.3454e-03, -5.9284e-03, -5.0883e-03,  4.0489e-03, -8.9426e-05,\n",
            "        -1.5067e-03,  4.6934e-04, -5.8081e-05,  3.4035e-03,  3.8798e-03,\n",
            "        -1.3191e-01, -3.9401e-01, -2.0355e-01, -4.0557e-01, -2.5365e-01,\n",
            "        -1.3222e-01, -3.8231e-01, -6.8239e-02, -6.4774e-02, -2.0402e-01,\n",
            "        -4.0206e-01, -2.8789e-01, -8.3230e-02, -2.3764e-01, -6.7689e-02,\n",
            "        -2.7167e-01, -4.0158e-01, -1.0802e-01, -1.9112e-01, -1.3108e-01,\n",
            "        -4.8204e-06, -1.0923e-05, -2.9349e-09, -2.2291e-08, -1.9594e-09,\n",
            "        -1.5890e-05, -2.3439e-06, -2.1761e-07, -3.2068e-06, -3.9287e-09,\n",
            "        -1.2962e-09, -7.9908e-10, -7.9327e-08, -2.2845e-05, -1.3586e-06,\n",
            "        -4.5792e-08, -8.3540e-07, -1.3797e-08, -8.2333e-07, -1.0470e-09,\n",
            "         4.5672e-03,  4.4416e-03,  5.0909e-03,  6.0656e-03,  5.6646e-03,\n",
            "        -3.0100e-01, -2.8880e-01, -2.9550e-01, -2.8941e-01, -2.9079e-01,\n",
            "        -1.9450e-07, -1.7539e-07, -1.8771e-07, -1.7399e-07, -2.1115e-07])\n",
            "tensor([-3.8999e-03,  3.3382e-03, -6.4624e-03,  2.2335e-04,  6.4556e-03,\n",
            "         7.4321e-03, -8.6520e-03,  3.5478e-03, -1.1091e-02,  4.2364e-03,\n",
            "         4.6577e-03, -6.5679e-03, -1.4887e-02,  3.3910e-03, -1.1974e-02,\n",
            "        -1.1893e-02,  3.2406e-04, -1.3236e-02,  6.8192e-03,  3.4002e-03,\n",
            "         8.2325e-03, -1.2480e-02,  7.3006e-03, -1.4222e-02,  4.1830e-03,\n",
            "         1.9972e-03,  3.5575e-04,  4.0258e-04, -7.2678e-05, -9.0287e-05,\n",
            "        -2.3356e-03, -5.9063e-03, -5.0877e-03,  4.1070e-03, -6.6816e-05,\n",
            "        -1.4892e-03,  5.0675e-04, -3.4081e-05,  3.4074e-03,  3.9038e-03,\n",
            "        -1.3207e-01, -3.9449e-01, -2.0380e-01, -4.0608e-01, -2.5396e-01,\n",
            "        -1.3238e-01, -3.8278e-01, -6.8322e-02, -6.4852e-02, -2.0427e-01,\n",
            "        -4.0256e-01, -2.8824e-01, -8.3331e-02, -2.3793e-01, -6.7771e-02,\n",
            "        -2.7200e-01, -4.0207e-01, -1.0815e-01, -1.9135e-01, -1.3124e-01,\n",
            "        -4.8259e-06, -1.0936e-05, -2.9380e-09, -2.2315e-08, -1.9614e-09,\n",
            "        -1.5908e-05, -2.3466e-06, -2.1785e-07, -3.2105e-06, -3.9329e-09,\n",
            "        -1.2975e-09, -7.9992e-10, -7.9415e-08, -2.2872e-05, -1.3601e-06,\n",
            "        -4.5842e-08, -8.3634e-07, -1.3812e-08, -8.2426e-07, -1.0481e-09,\n",
            "         4.5602e-03,  4.4340e-03,  5.0891e-03,  6.0812e-03,  5.6613e-03,\n",
            "        -3.0137e-01, -2.8915e-01, -2.9586e-01, -2.8976e-01, -2.9114e-01,\n",
            "        -1.9471e-07, -1.7559e-07, -1.8791e-07, -1.7418e-07, -2.1139e-07],\n",
            "       grad_fn=<SqueezeBackward1>)\n",
            "tensor([2.5630e-05, 2.4021e-05, 3.2961e-05, 3.4809e-05, 2.3782e-05, 2.2054e-05,\n",
            "        4.1068e-05, 3.0756e-05, 2.8968e-05, 2.4617e-05, 2.4021e-05, 3.2425e-05,\n",
            "        2.7657e-05, 3.0816e-05, 2.3663e-05, 2.4199e-05, 2.5630e-05, 1.9491e-05,\n",
            "        2.1994e-05, 2.9385e-05, 2.3544e-05, 3.7670e-05, 2.1935e-05, 3.4094e-05,\n",
            "        3.1352e-05, 2.9504e-05, 2.4378e-05, 3.4451e-05, 3.5644e-05, 3.5763e-05,\n",
            "        2.3782e-05, 3.2306e-05, 3.1352e-05, 3.0935e-05, 3.5524e-05, 2.3544e-05,\n",
            "        3.3915e-05, 3.5644e-05, 3.0756e-05, 3.0935e-05, 6.7612e-01, 2.1179e-01,\n",
            "        6.4816e-01, 2.6340e-01, 6.1731e-01, 6.7603e-01, 4.4844e-01, 6.8899e-01,\n",
            "        6.8942e-01, 6.4791e-01, 2.4283e-01, 5.8889e-01, 6.8682e-01, 6.2839e-01,\n",
            "        6.8906e-01, 6.0323e-01, 3.8256e-01, 6.8210e-01, 6.5422e-01, 6.7635e-01,\n",
            "        6.9315e-01, 6.9315e-01, 6.9315e-01, 6.9315e-01, 6.9315e-01, 6.9315e-01,\n",
            "        6.9315e-01, 6.9315e-01, 6.9315e-01, 6.9315e-01, 6.9315e-01, 6.9315e-01,\n",
            "        6.9315e-01, 6.9315e-01, 6.9315e-01, 6.9315e-01, 6.9315e-01, 6.9315e-01,\n",
            "        6.9315e-01, 6.9315e-01, 2.4140e-05, 2.4378e-05, 2.3246e-05, 2.2650e-05,\n",
            "        2.2829e-05, 5.7598e-01, 5.8804e-01, 5.8156e-01, 5.8746e-01, 5.8615e-01,\n",
            "        6.9315e-01, 6.9315e-01, 6.9315e-01, 6.9315e-01, 6.9315e-01])\n",
            "tensor([2.5570e-05, 2.4021e-05, 3.2961e-05, 3.4690e-05, 2.3663e-05, 2.1994e-05,\n",
            "        4.1068e-05, 3.0816e-05, 2.8908e-05, 2.4676e-05, 2.4080e-05, 3.2425e-05,\n",
            "        2.7537e-05, 3.0756e-05, 2.3723e-05, 2.4080e-05, 2.5570e-05, 1.9550e-05,\n",
            "        2.1994e-05, 2.9385e-05, 2.3544e-05, 3.7611e-05, 2.1935e-05, 3.4153e-05,\n",
            "        3.1412e-05, 2.9564e-05, 2.4319e-05, 3.4332e-05, 3.5763e-05, 3.5822e-05,\n",
            "        2.3723e-05, 3.2187e-05, 3.1292e-05, 3.0935e-05, 3.5465e-05, 2.3365e-05,\n",
            "        3.3855e-05, 3.5822e-05, 3.0696e-05, 3.0935e-05, 6.7611e-01, 2.1178e-01,\n",
            "        6.4815e-01, 2.6338e-01, 6.1730e-01, 6.7602e-01, 4.4842e-01, 6.8899e-01,\n",
            "        6.8942e-01, 6.4791e-01, 2.4281e-01, 5.8887e-01, 6.8682e-01, 6.2838e-01,\n",
            "        6.8906e-01, 6.0322e-01, 3.8253e-01, 6.8210e-01, 6.5422e-01, 6.7635e-01,\n",
            "        6.9315e-01, 6.9315e-01, 6.9315e-01, 6.9315e-01, 6.9315e-01, 6.9315e-01,\n",
            "        6.9315e-01, 6.9315e-01, 6.9315e-01, 6.9315e-01, 6.9315e-01, 6.9315e-01,\n",
            "        6.9315e-01, 6.9315e-01, 6.9315e-01, 6.9315e-01, 6.9315e-01, 6.9315e-01,\n",
            "        6.9315e-01, 6.9315e-01, 2.4021e-05, 2.4378e-05, 2.3305e-05, 2.2590e-05,\n",
            "        2.2709e-05, 5.7596e-01, 5.8803e-01, 5.8154e-01, 5.8744e-01, 5.8613e-01,\n",
            "        6.9315e-01, 6.9315e-01, 6.9315e-01, 6.9315e-01, 6.9315e-01],\n",
            "       grad_fn=<DiagonalBackward0_copy>)\n"
          ]
        }
      ]
    },
    {
      "cell_type": "code",
      "source": [
        "x_train = x[:num_init_train_samples]\n",
        "x_pool_1 = x[num_init_train_samples+num_test_samples*3:]\n",
        "\n",
        "y_train = y_new[:num_init_train_samples]\n",
        "y_pool_1 = y_new[num_init_train_samples+num_test_samples*3:]\n",
        "\n",
        "\n",
        "x_gp = torch.cat([x_train,x_pool_1], dim=0)\n",
        "y_gp = torch.cat([y_train,y_pool_1], dim=0)\n",
        "\n",
        "w_train = torch.ones(x_train.size(0), requires_grad = True)\n",
        "w_pool_1 = torch.zeros(x_pool_1.size(0), requires_grad = True)\n",
        "w_gp = torch.cat([w_train,w_pool_1])\n",
        "\n",
        "\n",
        "kernel = RBFKernel(length_scale=25.0, output_scale = 0.6931471824645996)\n",
        "gp = GaussianProcessCholesky(kernel=kernel)\n",
        "\n",
        "# Prediction\n",
        "mu1, cov1 = gp(x_gp, y_gp, w_gp, x_train)\n",
        "\n",
        "#plt.scatter(x_train,mu1.detach().numpy())\n",
        "plt.scatter(x_train.squeeze(),mu1.detach().numpy()-2*torch.sqrt(torch.diag(cov1)).detach().numpy(),alpha=0.5)\n",
        "plt.scatter(x_train.squeeze(),mu1.detach().numpy()+2*torch.sqrt(torch.diag(cov1)).detach().numpy(),alpha=0.5)\n",
        "plt.ylim(-2, 2)\n",
        "\n",
        "\n"
      ],
      "metadata": {
        "colab": {
          "base_uri": "https://localhost:8080/",
          "height": 452
        },
        "id": "RCzo8VtoPDSn",
        "outputId": "949c3cf3-e41c-4e7a-f03b-dbb85797a52a"
      },
      "execution_count": 58,
      "outputs": [
        {
          "output_type": "execute_result",
          "data": {
            "text/plain": [
              "(-2.0, 2.0)"
            ]
          },
          "metadata": {},
          "execution_count": 58
        },
        {
          "output_type": "display_data",
          "data": {
            "text/plain": [
              "<Figure size 640x480 with 1 Axes>"
            ],
            "image/png": "[encoded data removed]"
          },
          "metadata": {}
        }
      ]
    },
    {
      "cell_type": "code",
      "source": [
        "print(mu)\n",
        "print(mu1)\n",
        "print(torch.diag(cov))\n",
        "print(torch.diag(cov))"
      ],
      "metadata": {
        "colab": {
          "base_uri": "https://localhost:8080/"
        },
        "id": "9_e7VkNDYXxQ",
        "outputId": "a1920f65-01b7-4a78-abd0-b05b305a1d56"
      },
      "execution_count": null,
      "outputs": [
        {
          "output_type": "stream",
          "name": "stdout",
          "text": [
            "tensor([-0.0039,  0.0033, -0.0064,  0.0002,  0.0064,  0.0074, -0.0087,  0.0035,\n",
            "        -0.0111,  0.0042,  0.0046, -0.0066, -0.0149,  0.0034, -0.0120, -0.0119,\n",
            "         0.0003, -0.0133,  0.0068,  0.0034], grad_fn=<SqueezeBackward0>)\n",
            "tensor([0.0148, 0.0346, 0.0218, 0.0313, 0.0388, 0.0417, 0.0087, 0.0305, 0.0099,\n",
            "        0.0386, 0.0390, 0.0114, 0.0089, 0.0306, 0.0094, 0.0094, 0.0307, 0.0086,\n",
            "        0.0412, 0.0260], grad_fn=<SqueezeBackward0>)\n",
            "tensor([ 5.1272e-04,  4.9108e-04,  1.2459e-03, -1.3214e-04,  4.3803e-04,\n",
            "        -1.9884e-04, -3.8749e-04,  4.1151e-04,  1.3939e-03, -1.4919e-04,\n",
            "         3.4076e-04, -9.2465e-04,  1.1296e-03, -8.0264e-04,  8.7637e-04,\n",
            "         1.0994e-03,  8.6308e-05,  1.9008e-04,  1.2966e-03,  1.1484e-03],\n",
            "       grad_fn=<DiagonalBackward0_copy>)\n",
            "tensor([ 5.1272e-04,  4.9108e-04,  1.2459e-03, -1.3214e-04,  4.3803e-04,\n",
            "        -1.9884e-04, -3.8749e-04,  4.1151e-04,  1.3939e-03, -1.4919e-04,\n",
            "         3.4076e-04, -9.2465e-04,  1.1296e-03, -8.0264e-04,  8.7637e-04,\n",
            "         1.0994e-03,  8.6308e-05,  1.9008e-04,  1.2966e-03,  1.1484e-03],\n",
            "       grad_fn=<DiagonalBackward0_copy>)\n"
          ]
        }
      ]
    }
  ]
}