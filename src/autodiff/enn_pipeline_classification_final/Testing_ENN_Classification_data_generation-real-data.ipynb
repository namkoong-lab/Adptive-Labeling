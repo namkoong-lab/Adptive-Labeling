{
 "cells": [
  {
   "cell_type": "markdown",
   "metadata": {
    "id": "9PuRx2ZA4Gat"
   },
   "source": [
    "# **Creating the dataset**"
   ]
  },
  {
   "cell_type": "code",
   "execution_count": 63,
   "metadata": {
    "colab": {
     "base_uri": "https://localhost:8080/",
     "height": 472
    },
    "id": "6qa6lja42PSi",
    "outputId": "bd1d93a0-bf07-41dc-d2b8-db3426247fe3"
   },
   "outputs": [],
   "source": [
    "#run below code twice\n",
    "#from line_profiler import LineProfiler\n",
    "import torch\n",
    "from torch.utils.data import Dataset, DataLoader\n",
    "from scipy.stats import percentileofscore\n",
    "\n",
    "import numpy as np\n",
    "import pandas as pd\n",
    "import plotnine as gg\n",
    "import torch\n",
    "import torch.optim as optim\n",
    "from dataloader import TabularDataset\n",
    "\n",
    "import higher\n",
    "\n",
    "from torch import nn\n",
    "# from acme.utils.loggers.terminal import TerminalLogger\n",
    "import dataclasses\n",
    "from polyadic_sampler_classification import *\n",
    "#import chex\n",
    "#import haiku as hk\n",
    "#import jax\n",
    "#import jax.numpy as jnp\n",
    "#import optax\n",
    "import pandas as pd\n",
    "#import warnings\n",
    "import gpytorch\n",
    "from torch.distributions.bernoulli import Bernoulli\n",
    "#warnings.filterwarnings('ignore')\n",
    "from enn import *\n",
    "import enn_pipeline_classification \n",
    "#import pipeline_var_l2_loss\n",
    "import seaborn as sns\n",
    "#from dataloader import TabularDataset\n",
    "#from var_l2_loss_estimator import *\n",
    "#from ENN import basenet_with_learnable_epinet_and_ensemble_prior\n",
    "import matplotlib.pyplot as plt\n",
    "\n",
    "#wandb.init()\n",
    "import pandas as pd\n",
    "from sklearn.preprocessing import StandardScaler\n",
    "from sklearn.cluster import KMeans\n",
    "import torch.nn.init as init\n",
    "from datetime import datetime\n",
    " \n",
    "#data from https://drive.google.com/drive/u/1/folders/1WuXIzpYLrLNH6pn9zBMx6oRCCQPRz0F1\n",
    "\n",
    "directory = '/shared/share_mala/data/eicu_train_test/'\n",
    "train_csv = 'eicu_train_final.csv'\n",
    "test_csv = 'eicu_test_final.csv'\n",
    "\n",
    "df_train = pd.read_csv(directory + train_csv)\n",
    "df_test = pd.read_csv(directory + test_csv)\n",
    "df = pd.concat([df_train, df_test], axis = 0)\n",
    "X_col = list(df.columns)[:-1]\n",
    "Y = 'EVENT_LABEL'\n",
    "\n",
    "\n",
    "df = df.groupby('EVENT_LABEL', group_keys=False).apply(lambda x: x.sample(2000))\n",
    "Y_data = np.array(df[Y])\n"
   ]
  },
  {
   "cell_type": "code",
   "execution_count": 71,
   "metadata": {},
   "outputs": [
    {
     "data": {
      "text/plain": [
       "0.5"
      ]
     },
     "execution_count": 71,
     "metadata": {},
     "output_type": "execute_result"
    }
   ],
   "source": [
    "np.mean(Y_data)"
   ]
  },
  {
   "cell_type": "markdown",
   "metadata": {},
   "source": [
    "# K-means"
   ]
  },
  {
   "cell_type": "code",
   "execution_count": 64,
   "metadata": {},
   "outputs": [
    {
     "name": "stderr",
     "output_type": "stream",
     "text": [
      "/user/ym2865/.conda/envs/yuanzhe_new/lib/python3.10/site-packages/sklearn/cluster/_kmeans.py:1412: FutureWarning: The default value of `n_init` will change from 10 to 'auto' in 1.4. Set the value of `n_init` explicitly to suppress the warning\n"
     ]
    },
    {
     "data": {
      "text/html": [
       "<style>#sk-container-id-6 {color: black;}#sk-container-id-6 pre{padding: 0;}#sk-container-id-6 div.sk-toggleable {background-color: white;}#sk-container-id-6 label.sk-toggleable__label {cursor: pointer;display: block;width: 100%;margin-bottom: 0;padding: 0.3em;box-sizing: border-box;text-align: center;}#sk-container-id-6 label.sk-toggleable__label-arrow:before {content: \"▸\";float: left;margin-right: 0.25em;color: #696969;}#sk-container-id-6 label.sk-toggleable__label-arrow:hover:before {color: black;}#sk-container-id-6 div.sk-estimator:hover label.sk-toggleable__label-arrow:before {color: black;}#sk-container-id-6 div.sk-toggleable__content {max-height: 0;max-width: 0;overflow: hidden;text-align: left;background-color: #f0f8ff;}#sk-container-id-6 div.sk-toggleable__content pre {margin: 0.2em;color: black;border-radius: 0.25em;background-color: #f0f8ff;}#sk-container-id-6 input.sk-toggleable__control:checked~div.sk-toggleable__content {max-height: 200px;max-width: 100%;overflow: auto;}#sk-container-id-6 input.sk-toggleable__control:checked~label.sk-toggleable__label-arrow:before {content: \"▾\";}#sk-container-id-6 div.sk-estimator input.sk-toggleable__control:checked~label.sk-toggleable__label {background-color: #d4ebff;}#sk-container-id-6 div.sk-label input.sk-toggleable__control:checked~label.sk-toggleable__label {background-color: #d4ebff;}#sk-container-id-6 input.sk-hidden--visually {border: 0;clip: rect(1px 1px 1px 1px);clip: rect(1px, 1px, 1px, 1px);height: 1px;margin: -1px;overflow: hidden;padding: 0;position: absolute;width: 1px;}#sk-container-id-6 div.sk-estimator {font-family: monospace;background-color: #f0f8ff;border: 1px dotted black;border-radius: 0.25em;box-sizing: border-box;margin-bottom: 0.5em;}#sk-container-id-6 div.sk-estimator:hover {background-color: #d4ebff;}#sk-container-id-6 div.sk-parallel-item::after {content: \"\";width: 100%;border-bottom: 1px solid gray;flex-grow: 1;}#sk-container-id-6 div.sk-label:hover label.sk-toggleable__label {background-color: #d4ebff;}#sk-container-id-6 div.sk-serial::before {content: \"\";position: absolute;border-left: 1px solid gray;box-sizing: border-box;top: 0;bottom: 0;left: 50%;z-index: 0;}#sk-container-id-6 div.sk-serial {display: flex;flex-direction: column;align-items: center;background-color: white;padding-right: 0.2em;padding-left: 0.2em;position: relative;}#sk-container-id-6 div.sk-item {position: relative;z-index: 1;}#sk-container-id-6 div.sk-parallel {display: flex;align-items: stretch;justify-content: center;background-color: white;position: relative;}#sk-container-id-6 div.sk-item::before, #sk-container-id-6 div.sk-parallel-item::before {content: \"\";position: absolute;border-left: 1px solid gray;box-sizing: border-box;top: 0;bottom: 0;left: 50%;z-index: -1;}#sk-container-id-6 div.sk-parallel-item {display: flex;flex-direction: column;z-index: 1;position: relative;background-color: white;}#sk-container-id-6 div.sk-parallel-item:first-child::after {align-self: flex-end;width: 50%;}#sk-container-id-6 div.sk-parallel-item:last-child::after {align-self: flex-start;width: 50%;}#sk-container-id-6 div.sk-parallel-item:only-child::after {width: 0;}#sk-container-id-6 div.sk-dashed-wrapped {border: 1px dashed gray;margin: 0 0.4em 0.5em 0.4em;box-sizing: border-box;padding-bottom: 0.4em;background-color: white;}#sk-container-id-6 div.sk-label label {font-family: monospace;font-weight: bold;display: inline-block;line-height: 1.2em;}#sk-container-id-6 div.sk-label-container {text-align: center;}#sk-container-id-6 div.sk-container {/* jupyter's `normalize.less` sets `[hidden] { display: none; }` but bootstrap.min.css set `[hidden] { display: none !important; }` so we also need the `!important` here to be able to override the default hidden behavior on the sphinx rendered scikit-learn.org. See: https://github.com/scikit-learn/scikit-learn/issues/21755 */display: inline-block !important;position: relative;}#sk-container-id-6 div.sk-text-repr-fallback {display: none;}</style><div id=\"sk-container-id-6\" class=\"sk-top-container\"><div class=\"sk-text-repr-fallback\"><pre>KMeans(n_clusters=10, random_state=1)</pre><b>In a Jupyter environment, please rerun this cell to show the HTML representation or trust the notebook. <br />On GitHub, the HTML representation is unable to render, please try loading this page with nbviewer.org.</b></div><div class=\"sk-container\" hidden><div class=\"sk-item\"><div class=\"sk-estimator sk-toggleable\"><input class=\"sk-toggleable__control sk-hidden--visually\" id=\"sk-estimator-id-6\" type=\"checkbox\" checked><label for=\"sk-estimator-id-6\" class=\"sk-toggleable__label sk-toggleable__label-arrow\">KMeans</label><div class=\"sk-toggleable__content\"><pre>KMeans(n_clusters=10, random_state=1)</pre></div></div></div></div></div>"
      ],
      "text/plain": [
       "KMeans(n_clusters=10, random_state=1)"
      ]
     },
     "execution_count": 64,
     "metadata": {},
     "output_type": "execute_result"
    }
   ],
   "source": [
    "# Normalize data\n",
    "n_cluster = 10\n",
    "data = np.array(df[X_col])\n",
    "scaler = StandardScaler()\n",
    "data_normalized = scaler.fit_transform(data)\n",
    "kmeans = KMeans(n_clusters = n_cluster, random_state = 1)\n",
    "kmeans.fit(data_normalized)"
   ]
  },
  {
   "cell_type": "code",
   "execution_count": 65,
   "metadata": {},
   "outputs": [
    {
     "name": "stdout",
     "output_type": "stream",
     "text": [
      "0 0.6644736842105263\n",
      "1 0.5252100840336135\n",
      "2 0.2847124824684432\n",
      "3 0.851063829787234\n",
      "4 0.38509316770186336\n",
      "5 0.5428571428571428\n",
      "6 0.3068391866913124\n",
      "7 0.4975186104218362\n",
      "8 0.42857142857142855\n",
      "9 0.9651162790697675\n"
     ]
    }
   ],
   "source": [
    "n = df.shape[0]\n",
    "clusters = kmeans.labels_\n",
    "centers = kmeans.cluster_centers_\n",
    "\n",
    "distances = np.linalg.norm(data_normalized - centers[clusters], axis=1)\n",
    "\n",
    "threshold_list = []\n",
    "threshold_larger_list = []\n",
    "for i in range(kmeans.n_clusters):\n",
    "    cluster_distances = distances[clusters == i]\n",
    "    #center points\n",
    "    threshold_list.append(np.percentile(cluster_distances, 0.05))\n",
    "    threshold_larger_list.append(np.percentile(cluster_distances, 0.5))\n",
    "\n",
    "n_cluster  = 10\n",
    "center_ind_list = [[]] * n_cluster\n",
    "all_data_index_candidate_list = [[]] * n_cluster #candidates, we only want some clusters later\n",
    "\n",
    "\n",
    "for j in range(n):\n",
    "    cluster = clusters[j] #retrieve cluster #\n",
    "    if distances[j] <= threshold_list[cluster]:\n",
    "        center_ind_list[cluster].append(j)\n",
    "    if distances[j] <= threshold_larger_list[cluster]:\n",
    "        all_data_index_candidate_list[cluster].append(j)\n",
    "        \n",
    "#compare each cluster\n",
    "for i in range(kmeans.n_clusters):\n",
    "    print(i, np.mean(Y_data[clusters == i]))\n",
    "    \n",
    "    \n",
    "train_cluster = [0, 1, 2, 3, 4, 5, 6, 7, 8, 9] #[0]\n",
    "test_cluster = [0,6,3,4,2]\n",
    "pool_cluster = [0, 1, 2, 3, 4, 5, 6, 7, 8, 9]\n",
    "\n",
    "def get_whole_index(List, subset):\n",
    "    res = []\n",
    "    for j in subset:\n",
    "        res += List[j]\n",
    "    return res\n",
    "\n",
    "train_index = get_whole_index(all_data_index_candidate_list, train_cluster)\n",
    "test_index = get_whole_index(all_data_index_candidate_list, test_cluster)\n",
    "pool_index = get_whole_index(all_data_index_candidate_list, pool_cluster)"
   ]
  },
  {
   "cell_type": "markdown",
   "metadata": {},
   "source": [
    "# Save a predictor"
   ]
  },
  {
   "cell_type": "code",
   "execution_count": 66,
   "metadata": {
    "scrolled": true
   },
   "outputs": [
    {
     "name": "stdout",
     "output_type": "stream",
     "text": [
      "Epoch 0, Loss: 0.5909654498100281\n",
      "Epoch 10, Loss: 0.5870773792266846\n",
      "Epoch 20, Loss: 0.583375871181488\n",
      "Epoch 30, Loss: 0.579849362373352\n",
      "Epoch 40, Loss: 0.5764880180358887\n",
      "Epoch 50, Loss: 0.5732825398445129\n",
      "Epoch 60, Loss: 0.5702245831489563\n",
      "Epoch 70, Loss: 0.5673062801361084\n",
      "Epoch 80, Loss: 0.5645201206207275\n",
      "Epoch 90, Loss: 0.5618592500686646\n",
      "Epoch 100, Loss: 0.5593171119689941\n",
      "Epoch 110, Loss: 0.5568873286247253\n",
      "Epoch 120, Loss: 0.5545637011528015\n",
      "Epoch 130, Loss: 0.5523404479026794\n",
      "Epoch 140, Loss: 0.5502113699913025\n",
      "Epoch 150, Loss: 0.5481702089309692\n",
      "Epoch 160, Loss: 0.5462102293968201\n",
      "Epoch 170, Loss: 0.544323742389679\n",
      "Epoch 180, Loss: 0.542500913143158\n",
      "Epoch 190, Loss: 0.5407290458679199\n",
      "Epoch 200, Loss: 0.5389887690544128\n",
      "Epoch 210, Loss: 0.5372488498687744\n",
      "Epoch 220, Loss: 0.5354546308517456\n",
      "Epoch 230, Loss: 0.5335022807121277\n",
      "Epoch 240, Loss: 0.5311847925186157\n",
      "Epoch 250, Loss: 0.5280895233154297\n",
      "Epoch 260, Loss: 0.5235174298286438\n",
      "Epoch 270, Loss: 0.5170207023620605\n",
      "Epoch 280, Loss: 0.5099700689315796\n",
      "Epoch 290, Loss: 0.5038596391677856\n",
      "Epoch 300, Loss: 0.4981732666492462\n",
      "Epoch 310, Loss: 0.4877525568008423\n",
      "Epoch 320, Loss: 0.48188599944114685\n",
      "Epoch 330, Loss: 0.47749093174934387\n",
      "Epoch 340, Loss: 0.4726371467113495\n",
      "Epoch 350, Loss: 0.46942824125289917\n",
      "Epoch 360, Loss: 0.46636897325515747\n",
      "Epoch 370, Loss: 0.4572122395038605\n",
      "Epoch 380, Loss: 0.4475897252559662\n",
      "Epoch 390, Loss: 0.4274759590625763\n",
      "Epoch 400, Loss: 0.3989869952201843\n",
      "Epoch 410, Loss: 0.3839947283267975\n",
      "Epoch 420, Loss: 0.34525150060653687\n",
      "Epoch 430, Loss: 0.3404824435710907\n",
      "Epoch 440, Loss: 0.36937785148620605\n",
      "Epoch 450, Loss: 0.3677825331687927\n",
      "Epoch 460, Loss: 0.3490441143512726\n",
      "Epoch 470, Loss: 0.311715692281723\n",
      "Epoch 480, Loss: 0.3738420009613037\n",
      "Epoch 490, Loss: 0.35685351490974426\n",
      "Epoch 500, Loss: 0.31180572509765625\n",
      "Epoch 510, Loss: 0.3701850175857544\n",
      "Epoch 520, Loss: 0.3292786777019501\n",
      "Epoch 530, Loss: 0.38976189494132996\n",
      "Epoch 540, Loss: 0.357822448015213\n",
      "Epoch 550, Loss: 0.2924625277519226\n",
      "Epoch 560, Loss: 0.5734778642654419\n",
      "Epoch 570, Loss: 0.36632153391838074\n",
      "Epoch 580, Loss: 0.3385551869869232\n",
      "Epoch 590, Loss: 0.3011988699436188\n",
      "Epoch 600, Loss: 0.35060378909111023\n",
      "Epoch 610, Loss: 0.36360082030296326\n",
      "Epoch 620, Loss: 0.2925388813018799\n",
      "Epoch 630, Loss: 0.360054612159729\n",
      "Epoch 640, Loss: 0.3009319007396698\n",
      "Epoch 650, Loss: 0.3004457950592041\n",
      "Epoch 660, Loss: 0.2762260138988495\n",
      "Epoch 670, Loss: 0.3555296063423157\n",
      "Epoch 680, Loss: 0.29851019382476807\n",
      "Epoch 690, Loss: 0.35148680210113525\n",
      "Epoch 700, Loss: 0.31311148405075073\n",
      "Epoch 710, Loss: 0.2950192391872406\n",
      "Epoch 720, Loss: 0.29644304513931274\n",
      "Epoch 730, Loss: 0.2808478772640228\n",
      "Epoch 740, Loss: 0.3400505483150482\n",
      "Epoch 750, Loss: 0.2858625054359436\n",
      "Epoch 760, Loss: 0.48348715901374817\n",
      "Epoch 770, Loss: 0.33052727580070496\n",
      "Epoch 780, Loss: 0.2822255492210388\n",
      "Epoch 790, Loss: 0.3645040988922119\n",
      "File_name predictor2024-04-18_16:18:10.pt\n"
     ]
    }
   ],
   "source": [
    "#/user/ym2865/Adaptive Sampling/enn_classification\n",
    "class Neural_Network(torch.nn.Module):    \n",
    "    # build the constructor\n",
    "    def __init__(self, input_size, hidden_size, output_size):\n",
    "        super().__init__()\n",
    "        self.fc1 = nn.Linear(input_size, hidden_size)\n",
    "        self.fc2 = nn.Linear(hidden_size, hidden_size)\n",
    "        self.fc3 = nn.Linear(hidden_size, output_size)\n",
    "        \n",
    "        # Initialize weights using Gaussian distribution\n",
    "        init.normal_(self.fc1.weight, mean=0.0, std=0.01)  # Mean 0, Standard deviation 0.01\n",
    "        init.normal_(self.fc2.weight, mean=0.0, std=0.01)  # Mean 0, Standard deviation 0.01\n",
    "        init.normal_(self.fc3.weight, mean=0.0, std=0.01)  # Mean 0, Standard deviation 0.01\n",
    "        \n",
    "    def forward(self, x):\n",
    "        x = torch.relu(self.fc1(x))\n",
    "        x = torch.relu(self.fc2(x))\n",
    "        x = self.fc3(x)\n",
    "        x = torch.sigmoid(x)\n",
    "        return x\n",
    "    \n",
    "X_train = torch.tensor(data[train_index], dtype=torch.float32)\n",
    "y_train = torch.tensor(Y_data[train_index], dtype=torch.float32) \n",
    "y_train = torch.unsqueeze(y_train, -1)\n",
    "# Hyperparameters\n",
    "epochs = 800  # Number of training iterations\n",
    "learning_rate = 0.01\n",
    "\n",
    "torch.manual_seed(123)\n",
    "\n",
    "# Model, Loss and Optimizer\n",
    "model = Neural_Network(input_size=X_train.shape[1], hidden_size = 3, output_size=1)\n",
    "criterion = torch.nn.BCELoss()\n",
    "optimizer = optim.SGD(model.parameters(), lr=learning_rate)\n",
    "\n",
    "# Training loop\n",
    "for epoch in range(epochs):\n",
    "    # Forward pass: Compute predicted y by passing X to the model\n",
    "    y_pred = model(X_train)\n",
    "    \n",
    "    #print test/ pool loss \n",
    "    #print X/Y train/ test/ pool\n",
    "    # Compute and print loss\n",
    "    loss = criterion(y_pred, y_train)\n",
    "    if epoch % 10 == 0:  # Print every 10th epoch\n",
    "        print(f'Epoch {epoch}, Loss: {loss.item()}')\n",
    "\n",
    "    # Zero gradients, perform a backward pass, and update the weights.\n",
    "    optimizer.zero_grad()\n",
    "    loss.backward()\n",
    "    optimizer.step()\n",
    "    \n",
    "current_time = datetime.now()\n",
    "time_str = current_time.strftime(\"%Y-%m-%d_%H:%M:%S\")\n",
    "\n",
    "model_scripted = torch.jit.script(model) # Export to TorchScript\n",
    "model_scripted.save(directory +'predictor/' + 'predictor' +time_str  + '.pt') # Save\n",
    "print('File_name', 'predictor' +time_str  + '.pt')"
   ]
  },
  {
   "cell_type": "code",
   "execution_count": 72,
   "metadata": {},
   "outputs": [],
   "source": [
    "class TabularDataset(Dataset):\n",
    "    def __init__(self, x, y):\n",
    "        self.x = x\n",
    "        self.y = y\n",
    "  \n",
    "    def __len__(self):\n",
    "        return self.x.shape[0]\n",
    "    def __getitem__(self, idx):\n",
    "\n",
    "        return self.x[idx], self.y[idx]\n",
    "    \n",
    "def ENN_training(x_train, y_train,model_config, enn_config, device, if_print):\n",
    "    \n",
    "    dataset_train = TabularDataset(x = x_train, y = y_train)\n",
    "    dataloader_train = DataLoader(dataset_train, batch_size=train_cfg.batch_size, shuffle=True) \n",
    "    sample, label = dataset_train[0]\n",
    "    input_feature_size = sample.shape[0]  \n",
    "    \n",
    "    ENN_model = basenet_with_learnable_epinet_and_ensemble_prior(input_feature_size, enn_config.basenet_hidden_sizes, model_config.n_classes, enn_config.exposed_layers, enn_config.z_dim, enn_config.learnable_epinet_hiddens, enn_config.hidden_sizes_prior, enn_config.seed_base, enn_config.seed_learnable_epinet, enn_config.seed_prior_epinet, enn_config.alpha).to(device)\n",
    "\n",
    "    # Need to do this because ENN_model itself has some seeds and we need to set the seed for the whole training process here\n",
    "    torch.manual_seed(enn_cfg.seed_learnable_epinet)\n",
    "    np.random.seed(enn_cfg.seed_learnable_epinet)\n",
    "    if device==\"cuda\":\n",
    "        torch.cuda.manual_seed(seed_training) # Sets the seed for the current GPU\n",
    "        torch.cuda.manual_seed_all(seed_training) # Sets the seed for all GPUs\n",
    "    \n",
    "        \n",
    "\n",
    "    loss_fn_init = nn.CrossEntropyLoss()\n",
    "    optimizer_init = optim.Adam(ENN_model.parameters(), lr=enn_config.ENN_opt_lr, weight_decay=enn_config.ENN_opt_weight_decay)\n",
    "    enn_loss_list = []\n",
    "    for i in range(enn_config.n_ENN_iter):\n",
    "        ENN_model.train()\n",
    "        for (inputs, labels) in dataloader_train:   #check what is dim of inputs, labels, ENN_model(inputs,z)\n",
    "            aeverage_loss = 0\n",
    "            for j in range(enn_config.z_samples): \n",
    "                z = torch.randn(enn_config.z_dim, device=device)\n",
    "                optimizer_init.zero_grad()\n",
    "                outputs = ENN_model(inputs,z)\n",
    "                \n",
    "                #print(\"outputs:\", outputs)\n",
    "                #print(\"labels:\", labels)\n",
    "                #labels = torch.tensor(labels, dtype=torch.long, device=device)\n",
    "                \n",
    "                loss = loss_fn_init(outputs, labels.squeeze().long())/enn_config.z_samples\n",
    "                loss.backward()\n",
    "                aeverage_loss += loss\n",
    "\n",
    "            optimizer_init.step()\n",
    "\n",
    "        enn_loss_list.append(float(loss.detach().to('cpu').numpy())) \n",
    "    if if_print == 0:\n",
    "        plt.plot(list(range(len(enn_loss_list))),enn_loss_list)\n",
    "        plt.title('ENN loss vs training iter')\n",
    "        plt.show()\n",
    "    \n",
    "    return ENN_model\n",
    "\n",
    "class Network(nn.Module):\n",
    "    def __init__(self, constant_value=1.0, output_size=1):\n",
    "        super(ConstantValueNetwork, self).__init__()\n",
    "        # Define the constant value and output size\n",
    "        #self.constant_value = nn.Parameter(torch.tensor([constant_value]*output_size), requires_grad=False)\n",
    "        self.output_size = output_size\n",
    "\n",
    "    def forward(self, x):\n",
    "        # x is your input tensor. Its value is ignored in this model.\n",
    "        # Return a 1-D tensor with the constant value for each item in the batch.\n",
    "        batch_size = x.size(0)  # Get the batch size from the input\n",
    "        return torch.sigmoid(x)\n",
    "        #return self.constant_value.expand(batch_size, self.output_size)\n",
    "\n",
    "Predictor = model_scripted\n",
    "\n",
    "train_x = torch.tensor(data[train_index], dtype=torch.float32)\n",
    "train_y_binary = torch.tensor(Y_data[train_index], dtype=torch.float32) \n",
    "train_x = torch.tensor(data, dtype=torch.float32)\n",
    "train_y_binary = torch.tensor(Y_data, dtype=torch.float32) \n",
    "\n",
    "\n",
    "test_x = torch.tensor(data[test_index], dtype=torch.float32)\n",
    "test_y_binary = torch.tensor(Y_data[test_index], dtype=torch.float32) \n",
    "\n",
    "pool_x = torch.tensor(data[pool_index], dtype=torch.float32)\n",
    "pool_y_binary = torch.tensor(Y_data[pool_index], dtype=torch.float32) \n",
    "\n",
    "Z_dim = 8\n",
    "if_print = 0\n",
    "\n",
    "#dataset_cfg = enn_pipeline_classification.DatasetConfig(direct_tensors_bool, csv_file_train, csv_file_test, csv_file_pool, y_column, shuffle)\n",
    "z_dim = 8\n",
    "model_cfg = enn_pipeline_classification.ModelConfig(access_to_true_pool_y = 1, batch_size_query = 10, temp_k_subset = 0.1, meta_opt_lr = 0.1, meta_opt_weight_decay = 0, n_classes = 2, temp_recall = 0.4)\n",
    "train_cfg = enn_pipeline_classification.TrainConfig(n_train_iter = 100, n_samples = 10, G_samples = 5, n_iter_noise = 10, batch_size = 10) #temp_var_recall needs to be added as a new variable here i var recall setting\n",
    "enn_cfg = enn_pipeline_classification.ENNConfig(basenet_hidden_sizes = [50,50], exposed_layers = [True], z_dim = z_dim, learnable_epinet_hiddens = [15,15], hidden_sizes_prior = [5], seed_base = 2, seed_learnable_epinet = 2, seed_prior_epinet = 2, alpha = 10, n_ENN_iter = 1000, ENN_opt_lr = 0.01, ENN_opt_weight_decay = 0.05, z_samples = 40, stdev_noise=0)\n",
    "\n",
    "\n",
    "device = torch.device(\"cuda\" if torch.cuda.is_available() else \"cpu\")\n",
    "\n",
    "dataset_test = TabularDataset(x = test_x, y = test_y_binary)\n",
    "dataloader_test = DataLoader(dataset_test, batch_size=train_cfg.batch_size, shuffle=True) \n"
   ]
  },
  {
   "cell_type": "markdown",
   "metadata": {},
   "source": [
    "# Initial var of recall"
   ]
  },
  {
   "cell_type": "code",
   "execution_count": 73,
   "metadata": {},
   "outputs": [
    {
     "data": {
      "image/png": "[encoded data removed]",
      "text/plain": [
       "<Figure size 640x480 with 1 Axes>"
      ]
     },
     "metadata": {},
     "output_type": "display_data"
    },
    {
     "name": "stdout",
     "output_type": "stream",
     "text": [
      "tensor(0., grad_fn=<SubBackward0>)\n"
     ]
    }
   ],
   "source": [
    "ENN_trained = ENN_training(train_x, train_y_binary, model_cfg, enn_cfg, device , if_print )\n",
    "meta_loss = var_recall_estimator(ENN_trained, dataloader_test, Predictor, device, para = {'tau': train_config.temp_var_recall, 'z_dim': train_config.z_dim, 'N_iter': train_config.N_iter ,'if_print':if_print, 'seed_var_recall':train_config.seed_var_recall, 'N_iter_var_recall_est':train_config.N_iter_var_recall_est})     #see where does this calculation for meta_loss happens that is it outside the innerloop_ctx or within it\n",
    "print(meta_loss)\n",
    "\n",
    "z_pool = torch.randn(z_dim, device=device)\n",
    "print(ENN_trained(train_x, z_pool))"
   ]
  },
  {
   "cell_type": "code",
   "execution_count": 79,
   "metadata": {},
   "outputs": [
    {
     "name": "stdout",
     "output_type": "stream",
     "text": [
      "tensor([[ -822.2144,  -455.9166],\n",
      "        [  506.3035,  -164.2565],\n",
      "        [ -876.4700,  -869.9448],\n",
      "        ...,\n",
      "        [-1229.4727,   386.2534],\n",
      "        [ -749.2487,  -397.9944],\n",
      "        [  592.2394,  -183.3978]], grad_fn=<AddBackward0>)\n"
     ]
    }
   ],
   "source": [
    "z_pool = torch.randn(z_dim, device=device)\n",
    "print(ENN_trained(train_x, z_pool))"
   ]
  },
  {
   "cell_type": "markdown",
   "metadata": {},
   "source": [
    "# After sample cluster centroid points  "
   ]
  },
  {
   "cell_type": "code",
   "execution_count": 107,
   "metadata": {},
   "outputs": [],
   "source": [
    "# new_train_y_with_pool = torch.cat((train_x, pool_x[pool_sample_idx]), 0)\n",
    "# new_train_x_with_pool = torch.cat((train_y_binary, pool_y_binary[pool_sample_idx]), 0)\n",
    "\n",
    "\n",
    "# new_pool_x = pool_x[pool_sample_idx][pool_x[pool_sample_idx] >= 0.25]\n",
    "# new_pool_x = torch.unsqueeze(new_pool_x,-1)\n",
    "# new_pool_y = pool_y_binary[pool_sample_idx][torch.squeeze(pool_x[pool_sample_idx] >= 0.25)]\n",
    "# new_train_y_with_pool = torch.cat((train_x, new_pool_x), 0)\n",
    "# new_train_x_with_pool = torch.cat((train_y_binary, new_pool_y), 0)\n",
    "\n",
    "\n",
    "# ENN_trained = ENN_training(new_train_y_with_pool, new_train_x_with_pool, model_cfg, enn_cfg, device , if_print )\n",
    "# meta_loss = var_recall_estimator(ENN_trained, dataloader_test, Predictor, device, para = {'tau': train_config.temp_var_recall, 'z_dim': train_config.z_dim, 'N_iter': train_config.N_iter ,'if_print':if_print, 'seed_var_recall':train_config.seed_var_recall, 'N_iter_var_recall_est':train_config.N_iter_var_recall_est})     #see where does this calculation for meta_loss happens that is it outside the innerloop_ctx or within it\n",
    "# print('Var of recall after sampling pool data',meta_loss)"
   ]
  },
  {
   "cell_type": "code",
   "execution_count": null,
   "metadata": {},
   "outputs": [],
   "source": []
  }
 ],
 "metadata": {
  "colab": {
   "provenance": []
  },
  "kernelspec": {
   "display_name": "yuanzhe_new",
   "language": "python",
   "name": "yuanzhe_new"
  },
  "language_info": {
   "codemirror_mode": {
    "name": "ipython",
    "version": 3
   },
   "file_extension": ".py",
   "mimetype": "text/x-python",
   "name": "python",
   "nbconvert_exporter": "python",
   "pygments_lexer": "ipython3",
   "version": "3.10.12"
  }
 },
 "nbformat": 4,
 "nbformat_minor": 1
}
