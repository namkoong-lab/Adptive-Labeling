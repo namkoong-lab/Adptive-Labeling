{
  "cells": [
    {
      "cell_type": "code",
      "execution_count": null,
      "metadata": {
        "colab": {
          "background_save": true,
          "base_uri": "https://localhost:8080/"
        },
        "id": "5GFxJgCcYQeh",
        "outputId": "9f60e2d3-5fb0-491a-b496-22903571a1aa"
      },
      "outputs": [
        {
          "name": "stdout",
          "output_type": "stream",
          "text": [
            "Requirement already satisfied: gpytorch in /usr/local/lib/python3.10/dist-packages (1.11)\n",
            "Requirement already satisfied: scikit-learn in /usr/local/lib/python3.10/dist-packages (from gpytorch) (1.2.2)\n",
            "Requirement already satisfied: linear-operator>=0.5.0 in /usr/local/lib/python3.10/dist-packages (from gpytorch) (0.5.2)\n",
            "Requirement already satisfied: torch>=1.11 in /usr/local/lib/python3.10/dist-packages (from linear-operator>=0.5.0->gpytorch) (2.1.0+cu121)\n",
            "Requirement already satisfied: scipy in /usr/local/lib/python3.10/dist-packages (from linear-operator>=0.5.0->gpytorch) (1.11.4)\n",
            "Requirement already satisfied: jaxtyping>=0.2.9 in /usr/local/lib/python3.10/dist-packages (from linear-operator>=0.5.0->gpytorch) (0.2.25)\n",
            "Requirement already satisfied: typeguard~=2.13.3 in /usr/local/lib/python3.10/dist-packages (from linear-operator>=0.5.0->gpytorch) (2.13.3)\n",
            "Requirement already satisfied: numpy>=1.17.3 in /usr/local/lib/python3.10/dist-packages (from scikit-learn->gpytorch) (1.23.5)\n",
            "Requirement already satisfied: joblib>=1.1.1 in /usr/local/lib/python3.10/dist-packages (from scikit-learn->gpytorch) (1.3.2)\n",
            "Requirement already satisfied: threadpoolctl>=2.0.0 in /usr/local/lib/python3.10/dist-packages (from scikit-learn->gpytorch) (3.2.0)\n",
            "Requirement already satisfied: typing-extensions>=3.7.4.1 in /usr/local/lib/python3.10/dist-packages (from jaxtyping>=0.2.9->linear-operator>=0.5.0->gpytorch) (4.5.0)\n",
            "Requirement already satisfied: filelock in /usr/local/lib/python3.10/dist-packages (from torch>=1.11->linear-operator>=0.5.0->gpytorch) (3.13.1)\n",
            "Requirement already satisfied: sympy in /usr/local/lib/python3.10/dist-packages (from torch>=1.11->linear-operator>=0.5.0->gpytorch) (1.12)\n",
            "Requirement already satisfied: networkx in /usr/local/lib/python3.10/dist-packages (from torch>=1.11->linear-operator>=0.5.0->gpytorch) (3.2.1)\n",
            "Requirement already satisfied: jinja2 in /usr/local/lib/python3.10/dist-packages (from torch>=1.11->linear-operator>=0.5.0->gpytorch) (3.1.2)\n",
            "Requirement already satisfied: fsspec in /usr/local/lib/python3.10/dist-packages (from torch>=1.11->linear-operator>=0.5.0->gpytorch) (2023.6.0)\n",
            "Requirement already satisfied: triton==2.1.0 in /usr/local/lib/python3.10/dist-packages (from torch>=1.11->linear-operator>=0.5.0->gpytorch) (2.1.0)\n",
            "Requirement already satisfied: MarkupSafe>=2.0 in /usr/local/lib/python3.10/dist-packages (from jinja2->torch>=1.11->linear-operator>=0.5.0->gpytorch) (2.1.3)\n",
            "Requirement already satisfied: mpmath>=0.19 in /usr/local/lib/python3.10/dist-packages (from sympy->torch>=1.11->linear-operator>=0.5.0->gpytorch) (1.3.0)\n"
          ]
        }
      ],
      "source": [
        "pip install gpytorch\n",
        "#data is here /shared/share_mala/yuanzhe/adaptive_sampling/pipeline_datasets"
      ]
    },
    {
      "cell_type": "code",
      "execution_count": null,
      "metadata": {
        "id": "hHMK6amxYbty"
      },
      "outputs": [],
      "source": [
        "import torch\n",
        "import gpytorch\n",
        "from sklearn.model_selection import train_test_split\n",
        "import numpy as np"
      ]
    },
    {
      "cell_type": "code",
      "execution_count": null,
      "metadata": {
        "id": "lm1Oy0G_YZmA"
      },
      "outputs": [],
      "source": [
        "# Define parameters for the model\n",
        "mean_constant = 0.0  # Mean of the GP\n",
        "length_scale = 1.0   # Length scale of the RBF kernel\n",
        "noise_std = 0.1      # Standard deviation of the noise\n",
        "\n",
        "# Initialize multidimensional training data\n",
        "num_samples = 2000\n",
        "input_dim = 1\n",
        "train_x = torch.randn((num_samples, input_dim))  # Random inputs in multi-dimensions\n",
        "train_y = torch.zeros(num_samples)  # Placeholder for training targets"
      ]
    },
    {
      "cell_type": "code",
      "execution_count": null,
      "metadata": {
        "id": "gQ-IT_xpYd_b"
      },
      "outputs": [],
      "source": [
        "class CustomizableGPModel(gpytorch.models.ExactGP):\n",
        "    def __init__(self, train_x, train_y, likelihood, mean_constant, length_scale, noise_std):\n",
        "        super(CustomizableGPModel, self).__init__(train_x, train_y, likelihood)\n",
        "        self.mean_module = gpytorch.means.ConstantMean()\n",
        "        self.mean_module.constant = mean_constant\n",
        "        self.covar_module = gpytorch.kernels.ScaleKernel(gpytorch.kernels.RBFKernel())\n",
        "        self.covar_module.base_kernel.lengthscale = length_scale\n",
        "        self.likelihood = likelihood\n",
        "        self.likelihood.noise_covar.noise = noise_std**2\n",
        "\n",
        "    def forward(self, x):\n",
        "        return gpytorch.distributions.MultivariateNormal(self.mean_module(x), self.covar_module(x))\n",
        "\n"
      ]
    },
    {
      "cell_type": "code",
      "execution_count": null,
      "metadata": {
        "id": "Vs4G4c8SYg0l"
      },
      "outputs": [],
      "source": [
        "# Define the likelihood\n",
        "likelihood = gpytorch.likelihoods.GaussianLikelihood()\n",
        "\n",
        "# Create the GP model with specified parameters\n",
        "model = CustomizableGPModel(train_x, train_y, likelihood, mean_constant, length_scale, noise_std)\n"
      ]
    },
    {
      "cell_type": "code",
      "execution_count": null,
      "metadata": {
        "colab": {
          "base_uri": "https://localhost:8080/"
        },
        "id": "Tx8QqKrCYjqM",
        "outputId": "1104e759-8127-4504-9a8f-9cff372a2212"
      },
      "outputs": [
        {
          "name": "stderr",
          "output_type": "stream",
          "text": [
            "/usr/local/lib/python3.10/dist-packages/gpytorch/models/exact_gp.py:284: GPInputWarning: The input matches the stored training data. Did you forget to call model.train()?\n",
            "  warnings.warn(\n"
          ]
        }
      ],
      "source": [
        "# Sample from the prior for training data\n",
        "model.eval()\n",
        "likelihood.eval()\n",
        "with torch.no_grad():\n",
        "    prior_dist = likelihood(model(train_x))\n",
        "    train_y = prior_dist.sample()  # Synthetic training targets"
      ]
    },
    {
      "cell_type": "code",
      "execution_count": null,
      "metadata": {
        "id": "ZEiMlk4KgVk0"
      },
      "outputs": [],
      "source": [
        "train_x_array = train_x.numpy()\n",
        "train_y_array = train_y.numpy()"
      ]
    },
    {
      "cell_type": "code",
      "execution_count": null,
      "metadata": {
        "id": "mFFcpX1JaAIN"
      },
      "outputs": [],
      "source": [
        "train_init_data, test_data, train_init_labels, test_labels = train_test_split(train_x_array, train_y_array, test_size=0.75)\n"
      ]
    },
    {
      "cell_type": "code",
      "execution_count": null,
      "metadata": {
        "id": "IpB5W1CghVzS"
      },
      "outputs": [],
      "source": [
        "pool_data, test_final_data, pool_labels, test_final_labels = train_test_split(test_data, test_labels, test_size=0.33333333)"
      ]
    },
    {
      "cell_type": "code",
      "execution_count": null,
      "metadata": {
        "id": "3vBnLxORnKrM"
      },
      "outputs": [],
      "source": [
        "import pandas as pd"
      ]
    },
    {
      "cell_type": "code",
      "execution_count": null,
      "metadata": {
        "id": "Ly2ZWTWapL8y"
      },
      "outputs": [],
      "source": [
        "column_names = [f'Column{i}' for i in range(train_init_data.shape[1])]\n"
      ]
    },
    {
      "cell_type": "code",
      "execution_count": null,
      "metadata": {
        "id": "emhZwHuItpI-"
      },
      "outputs": [],
      "source": [
        "df_train_init_data = pd.DataFrame(train_init_data, columns=column_names)\n",
        "df_pool_data = pd.DataFrame(pool_data, columns=column_names)\n",
        "df_test_final_data = pd.DataFrame(test_final_data, columns=column_names)"
      ]
    },
    {
      "cell_type": "code",
      "execution_count": null,
      "metadata": {
        "id": "sCcvSiVatych"
      },
      "outputs": [],
      "source": [
        "train_init_labels_2d = train_init_labels.reshape(-1, 1)\n",
        "pool_labels_2d =  pool_labels.reshape(-1, 1)\n",
        "test_final_labels_2d = test_final_labels.reshape(-1, 1)\n",
        "df_train_init_labels_2d = pd.DataFrame(train_init_labels_2d, columns='EVENT_LABEL')\n",
        "df_pool_labels_2d = pd.DataFrame(pool_labels_2d, columns='EVENT_LABEL')\n",
        "df_test_final_labels_2d = pd.DataFrame(test_final_labels_2d, columns='EVENT_LABEL')"
      ]
    },
    {
      "cell_type": "code",
      "execution_count": null,
      "metadata": {
        "id": "-G0jiGbxspL6"
      },
      "outputs": [],
      "source": [
        "df_appended_train_init_data = pd.concat([df_train_init_data, df_train_init_labels_2d], axis=1)\n",
        "df_appended_pool_data = pd.concat([df_pool_data, df_pool_labels_2d], axis=1)\n",
        "df_appended_test_final_data = pd.concat([df_test_final_data, df_test_final_labels_2d], axis=1)"
      ]
    },
    {
      "cell_type": "code",
      "execution_count": null,
      "metadata": {
        "id": "lTNHbW530v6z"
      },
      "outputs": [],
      "source": [
        "from google.colab import drive\n",
        "drive.mount('/content/drive')"
      ]
    },
    {
      "cell_type": "code",
      "execution_count": null,
      "metadata": {
        "id": "UekLLkwLutVX"
      },
      "outputs": [],
      "source": [
        "directory = '/content/drive/MyDrive/pipeline_datasets/'\n",
        "df_appended_train_init_data.to_csv(directory+'/'+'input_dim_'+str(input_dim)+'/'+'train_init_data_'+'mean_'+str(mean_constant)+'ln_'+str(length_scale)+'sig_'+str(noise_std)+'no.'+str(num_samples)+'.csv', index=False)\n",
        "df_appended_pool_data.to_csv(directory+'/'+'input_dim_'+str(input_dim)+'/'+'pool_data_'+'mean_'+str(mean_constant)+'ln_'+str(length_scale)+'sig_'+str(noise_std)+'no.'+str(num_samples)+'.csv', index=False)\n",
        "df_appended_test_final_data.to_csv(directory+'/'+'input_dim_'+str(input_dim)+'/'+'train_init_data_'+'mean_'+str(mean_constant)+'ln_'+str(length_scale)+'sig_'+str(noise_std)+'no.'+str(num_samples)+'.csv', index=False)\n"
      ]
    }
  ],
  "metadata": {
    "colab": {
      "provenance": []
    },
    "kernelspec": {
      "display_name": "Python 3",
      "name": "python3"
    },
    "language_info": {
      "name": "python"
    }
  },
  "nbformat": 4,
  "nbformat_minor": 0
}