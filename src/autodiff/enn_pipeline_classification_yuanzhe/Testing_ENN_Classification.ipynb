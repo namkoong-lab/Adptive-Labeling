{
  "nbformat": 4,
  "nbformat_minor": 0,
  "metadata": {
    "colab": {
      "provenance": []
    },
    "kernelspec": {
      "name": "python3",
      "display_name": "Python 3"
    },
    "language_info": {
      "name": "python"
    }
  },
  "cells": [
    {
      "cell_type": "code",
      "execution_count": null,
      "metadata": {
        "colab": {
          "base_uri": "https://localhost:8080/"
        },
        "id": "p0CZCVPS1M7w",
        "outputId": "3bc5d8af-8d20-4eed-ad4d-c938cd059b01"
      },
      "outputs": [
        {
          "output_type": "stream",
          "name": "stdout",
          "text": [
            "Collecting gpytorch\n",
            "  Downloading gpytorch-1.11-py3-none-any.whl (266 kB)\n",
            "\u001b[?25l     \u001b[90m━━━━━━━━━━━━━━━━━━━━━━━━━━━━━━━━━━━━━━━━\u001b[0m \u001b[32m0.0/266.1 kB\u001b[0m \u001b[31m?\u001b[0m eta \u001b[36m-:--:--\u001b[0m\r\u001b[2K     \u001b[91m━━━━━━━━━━━━━━━━━━━━━━━━━━━━━━━━━━━━\u001b[0m\u001b[91m╸\u001b[0m\u001b[90m━━━\u001b[0m \u001b[32m245.8/266.1 kB\u001b[0m \u001b[31m7.2 MB/s\u001b[0m eta \u001b[36m0:00:01\u001b[0m\r\u001b[2K     \u001b[90m━━━━━━━━━━━━━━━━━━━━━━━━━━━━━━━━━━━━━━━━\u001b[0m \u001b[32m266.1/266.1 kB\u001b[0m \u001b[31m5.9 MB/s\u001b[0m eta \u001b[36m0:00:00\u001b[0m\n",
            "\u001b[?25hRequirement already satisfied: scikit-learn in /usr/local/lib/python3.10/dist-packages (from gpytorch) (1.2.2)\n",
            "Collecting linear-operator>=0.5.0 (from gpytorch)\n",
            "  Downloading linear_operator-0.5.2-py3-none-any.whl (175 kB)\n",
            "\u001b[2K     \u001b[90m━━━━━━━━━━━━━━━━━━━━━━━━━━━━━━━━━━━━━━━━\u001b[0m \u001b[32m175.6/175.6 kB\u001b[0m \u001b[31m8.5 MB/s\u001b[0m eta \u001b[36m0:00:00\u001b[0m\n",
            "\u001b[?25hRequirement already satisfied: torch>=1.11 in /usr/local/lib/python3.10/dist-packages (from linear-operator>=0.5.0->gpytorch) (2.2.1+cu121)\n",
            "Requirement already satisfied: scipy in /usr/local/lib/python3.10/dist-packages (from linear-operator>=0.5.0->gpytorch) (1.11.4)\n",
            "Collecting jaxtyping>=0.2.9 (from linear-operator>=0.5.0->gpytorch)\n",
            "  Downloading jaxtyping-0.2.28-py3-none-any.whl (40 kB)\n",
            "\u001b[2K     \u001b[90m━━━━━━━━━━━━━━━━━━━━━━━━━━━━━━━━━━━━━━━━\u001b[0m \u001b[32m40.7/40.7 kB\u001b[0m \u001b[31m4.2 MB/s\u001b[0m eta \u001b[36m0:00:00\u001b[0m\n",
            "\u001b[?25hCollecting typeguard~=2.13.3 (from linear-operator>=0.5.0->gpytorch)\n",
            "  Downloading typeguard-2.13.3-py3-none-any.whl (17 kB)\n",
            "Requirement already satisfied: numpy>=1.17.3 in /usr/local/lib/python3.10/dist-packages (from scikit-learn->gpytorch) (1.25.2)\n",
            "Requirement already satisfied: joblib>=1.1.1 in /usr/local/lib/python3.10/dist-packages (from scikit-learn->gpytorch) (1.3.2)\n",
            "Requirement already satisfied: threadpoolctl>=2.0.0 in /usr/local/lib/python3.10/dist-packages (from scikit-learn->gpytorch) (3.4.0)\n",
            "Requirement already satisfied: filelock in /usr/local/lib/python3.10/dist-packages (from torch>=1.11->linear-operator>=0.5.0->gpytorch) (3.13.3)\n",
            "Requirement already satisfied: typing-extensions>=4.8.0 in /usr/local/lib/python3.10/dist-packages (from torch>=1.11->linear-operator>=0.5.0->gpytorch) (4.10.0)\n",
            "Requirement already satisfied: sympy in /usr/local/lib/python3.10/dist-packages (from torch>=1.11->linear-operator>=0.5.0->gpytorch) (1.12)\n",
            "Requirement already satisfied: networkx in /usr/local/lib/python3.10/dist-packages (from torch>=1.11->linear-operator>=0.5.0->gpytorch) (3.2.1)\n",
            "Requirement already satisfied: jinja2 in /usr/local/lib/python3.10/dist-packages (from torch>=1.11->linear-operator>=0.5.0->gpytorch) (3.1.3)\n",
            "Requirement already satisfied: fsspec in /usr/local/lib/python3.10/dist-packages (from torch>=1.11->linear-operator>=0.5.0->gpytorch) (2023.6.0)\n",
            "Collecting nvidia-cuda-nvrtc-cu12==12.1.105 (from torch>=1.11->linear-operator>=0.5.0->gpytorch)\n",
            "  Downloading nvidia_cuda_nvrtc_cu12-12.1.105-py3-none-manylinux1_x86_64.whl (23.7 MB)\n",
            "\u001b[2K     \u001b[90m━━━━━━━━━━━━━━━━━━━━━━━━━━━━━━━━━━━━━━━━\u001b[0m \u001b[32m23.7/23.7 MB\u001b[0m \u001b[31m52.6 MB/s\u001b[0m eta \u001b[36m0:00:00\u001b[0m\n",
            "\u001b[?25hCollecting nvidia-cuda-runtime-cu12==12.1.105 (from torch>=1.11->linear-operator>=0.5.0->gpytorch)\n",
            "  Downloading nvidia_cuda_runtime_cu12-12.1.105-py3-none-manylinux1_x86_64.whl (823 kB)\n",
            "\u001b[2K     \u001b[90m━━━━━━━━━━━━━━━━━━━━━━━━━━━━━━━━━━━━━━━━\u001b[0m \u001b[32m823.6/823.6 kB\u001b[0m \u001b[31m40.5 MB/s\u001b[0m eta \u001b[36m0:00:00\u001b[0m\n",
            "\u001b[?25hCollecting nvidia-cuda-cupti-cu12==12.1.105 (from torch>=1.11->linear-operator>=0.5.0->gpytorch)\n",
            "  Downloading nvidia_cuda_cupti_cu12-12.1.105-py3-none-manylinux1_x86_64.whl (14.1 MB)\n",
            "\u001b[2K     \u001b[90m━━━━━━━━━━━━━━━━━━━━━━━━━━━━━━━━━━━━━━━━\u001b[0m \u001b[32m14.1/14.1 MB\u001b[0m \u001b[31m52.0 MB/s\u001b[0m eta \u001b[36m0:00:00\u001b[0m\n",
            "\u001b[?25hCollecting nvidia-cudnn-cu12==8.9.2.26 (from torch>=1.11->linear-operator>=0.5.0->gpytorch)\n",
            "  Downloading nvidia_cudnn_cu12-8.9.2.26-py3-none-manylinux1_x86_64.whl (731.7 MB)\n",
            "\u001b[2K     \u001b[90m━━━━━━━━━━━━━━━━━━━━━━━━━━━━━━━━━━━━━━━━\u001b[0m \u001b[32m731.7/731.7 MB\u001b[0m \u001b[31m2.0 MB/s\u001b[0m eta \u001b[36m0:00:00\u001b[0m\n",
            "\u001b[?25hCollecting nvidia-cublas-cu12==12.1.3.1 (from torch>=1.11->linear-operator>=0.5.0->gpytorch)\n",
            "  Downloading nvidia_cublas_cu12-12.1.3.1-py3-none-manylinux1_x86_64.whl (410.6 MB)\n",
            "\u001b[2K     \u001b[90m━━━━━━━━━━━━━━━━━━━━━━━━━━━━━━━━━━━━━━━━\u001b[0m \u001b[32m410.6/410.6 MB\u001b[0m \u001b[31m3.4 MB/s\u001b[0m eta \u001b[36m0:00:00\u001b[0m\n",
            "\u001b[?25hCollecting nvidia-cufft-cu12==11.0.2.54 (from torch>=1.11->linear-operator>=0.5.0->gpytorch)\n",
            "  Downloading nvidia_cufft_cu12-11.0.2.54-py3-none-manylinux1_x86_64.whl (121.6 MB)\n",
            "\u001b[2K     \u001b[90m━━━━━━━━━━━━━━━━━━━━━━━━━━━━━━━━━━━━━━━━\u001b[0m \u001b[32m121.6/121.6 MB\u001b[0m \u001b[31m8.5 MB/s\u001b[0m eta \u001b[36m0:00:00\u001b[0m\n",
            "\u001b[?25hCollecting nvidia-curand-cu12==10.3.2.106 (from torch>=1.11->linear-operator>=0.5.0->gpytorch)\n",
            "  Downloading nvidia_curand_cu12-10.3.2.106-py3-none-manylinux1_x86_64.whl (56.5 MB)\n",
            "\u001b[2K     \u001b[90m━━━━━━━━━━━━━━━━━━━━━━━━━━━━━━━━━━━━━━━━\u001b[0m \u001b[32m56.5/56.5 MB\u001b[0m \u001b[31m10.8 MB/s\u001b[0m eta \u001b[36m0:00:00\u001b[0m\n",
            "\u001b[?25hCollecting nvidia-cusolver-cu12==11.4.5.107 (from torch>=1.11->linear-operator>=0.5.0->gpytorch)\n",
            "  Downloading nvidia_cusolver_cu12-11.4.5.107-py3-none-manylinux1_x86_64.whl (124.2 MB)\n",
            "\u001b[2K     \u001b[90m━━━━━━━━━━━━━━━━━━━━━━━━━━━━━━━━━━━━━━━━\u001b[0m \u001b[32m124.2/124.2 MB\u001b[0m \u001b[31m8.3 MB/s\u001b[0m eta \u001b[36m0:00:00\u001b[0m\n",
            "\u001b[?25hCollecting nvidia-cusparse-cu12==12.1.0.106 (from torch>=1.11->linear-operator>=0.5.0->gpytorch)\n",
            "  Downloading nvidia_cusparse_cu12-12.1.0.106-py3-none-manylinux1_x86_64.whl (196.0 MB)\n",
            "\u001b[2K     \u001b[90m━━━━━━━━━━━━━━━━━━━━━━━━━━━━━━━━━━━━━━━━\u001b[0m \u001b[32m196.0/196.0 MB\u001b[0m \u001b[31m2.3 MB/s\u001b[0m eta \u001b[36m0:00:00\u001b[0m\n",
            "\u001b[?25hCollecting nvidia-nccl-cu12==2.19.3 (from torch>=1.11->linear-operator>=0.5.0->gpytorch)\n",
            "  Downloading nvidia_nccl_cu12-2.19.3-py3-none-manylinux1_x86_64.whl (166.0 MB)\n",
            "\u001b[2K     \u001b[90m━━━━━━━━━━━━━━━━━━━━━━━━━━━━━━━━━━━━━━━━\u001b[0m \u001b[32m166.0/166.0 MB\u001b[0m \u001b[31m6.4 MB/s\u001b[0m eta \u001b[36m0:00:00\u001b[0m\n",
            "\u001b[?25hCollecting nvidia-nvtx-cu12==12.1.105 (from torch>=1.11->linear-operator>=0.5.0->gpytorch)\n",
            "  Downloading nvidia_nvtx_cu12-12.1.105-py3-none-manylinux1_x86_64.whl (99 kB)\n",
            "\u001b[2K     \u001b[90m━━━━━━━━━━━━━━━━━━━━━━━━━━━━━━━━━━━━━━━━\u001b[0m \u001b[32m99.1/99.1 kB\u001b[0m \u001b[31m12.3 MB/s\u001b[0m eta \u001b[36m0:00:00\u001b[0m\n",
            "\u001b[?25hRequirement already satisfied: triton==2.2.0 in /usr/local/lib/python3.10/dist-packages (from torch>=1.11->linear-operator>=0.5.0->gpytorch) (2.2.0)\n",
            "Collecting nvidia-nvjitlink-cu12 (from nvidia-cusolver-cu12==11.4.5.107->torch>=1.11->linear-operator>=0.5.0->gpytorch)\n",
            "  Downloading nvidia_nvjitlink_cu12-12.4.127-py3-none-manylinux2014_x86_64.whl (21.1 MB)\n",
            "\u001b[2K     \u001b[90m━━━━━━━━━━━━━━━━━━━━━━━━━━━━━━━━━━━━━━━━\u001b[0m \u001b[32m21.1/21.1 MB\u001b[0m \u001b[31m66.5 MB/s\u001b[0m eta \u001b[36m0:00:00\u001b[0m\n",
            "\u001b[?25hRequirement already satisfied: MarkupSafe>=2.0 in /usr/local/lib/python3.10/dist-packages (from jinja2->torch>=1.11->linear-operator>=0.5.0->gpytorch) (2.1.5)\n",
            "Requirement already satisfied: mpmath>=0.19 in /usr/local/lib/python3.10/dist-packages (from sympy->torch>=1.11->linear-operator>=0.5.0->gpytorch) (1.3.0)\n",
            "Installing collected packages: typeguard, nvidia-nvtx-cu12, nvidia-nvjitlink-cu12, nvidia-nccl-cu12, nvidia-curand-cu12, nvidia-cufft-cu12, nvidia-cuda-runtime-cu12, nvidia-cuda-nvrtc-cu12, nvidia-cuda-cupti-cu12, nvidia-cublas-cu12, nvidia-cusparse-cu12, nvidia-cudnn-cu12, jaxtyping, nvidia-cusolver-cu12, linear-operator, gpytorch\n",
            "Successfully installed gpytorch-1.11 jaxtyping-0.2.28 linear-operator-0.5.2 nvidia-cublas-cu12-12.1.3.1 nvidia-cuda-cupti-cu12-12.1.105 nvidia-cuda-nvrtc-cu12-12.1.105 nvidia-cuda-runtime-cu12-12.1.105 nvidia-cudnn-cu12-8.9.2.26 nvidia-cufft-cu12-11.0.2.54 nvidia-curand-cu12-10.3.2.106 nvidia-cusolver-cu12-11.4.5.107 nvidia-cusparse-cu12-12.1.0.106 nvidia-nccl-cu12-2.19.3 nvidia-nvjitlink-cu12-12.4.127 nvidia-nvtx-cu12-12.1.105 typeguard-2.13.3\n"
          ]
        }
      ],
      "source": [
        "pip install gpytorch"
      ]
    },
    {
      "cell_type": "code",
      "source": [
        "pip install higher"
      ],
      "metadata": {
        "colab": {
          "base_uri": "https://localhost:8080/"
        },
        "id": "zsS-ur9K2NSI",
        "outputId": "3a03be20-6449-4f27-e2e7-2ee8978b41ed"
      },
      "execution_count": null,
      "outputs": [
        {
          "output_type": "stream",
          "name": "stdout",
          "text": [
            "Collecting higher\n",
            "  Downloading higher-0.2.1-py3-none-any.whl (27 kB)\n",
            "Requirement already satisfied: torch in /usr/local/lib/python3.10/dist-packages (from higher) (2.2.1+cu121)\n",
            "Requirement already satisfied: filelock in /usr/local/lib/python3.10/dist-packages (from torch->higher) (3.13.3)\n",
            "Requirement already satisfied: typing-extensions>=4.8.0 in /usr/local/lib/python3.10/dist-packages (from torch->higher) (4.10.0)\n",
            "Requirement already satisfied: sympy in /usr/local/lib/python3.10/dist-packages (from torch->higher) (1.12)\n",
            "Requirement already satisfied: networkx in /usr/local/lib/python3.10/dist-packages (from torch->higher) (3.2.1)\n",
            "Requirement already satisfied: jinja2 in /usr/local/lib/python3.10/dist-packages (from torch->higher) (3.1.3)\n",
            "Requirement already satisfied: fsspec in /usr/local/lib/python3.10/dist-packages (from torch->higher) (2023.6.0)\n",
            "Requirement already satisfied: nvidia-cuda-nvrtc-cu12==12.1.105 in /usr/local/lib/python3.10/dist-packages (from torch->higher) (12.1.105)\n",
            "Requirement already satisfied: nvidia-cuda-runtime-cu12==12.1.105 in /usr/local/lib/python3.10/dist-packages (from torch->higher) (12.1.105)\n",
            "Requirement already satisfied: nvidia-cuda-cupti-cu12==12.1.105 in /usr/local/lib/python3.10/dist-packages (from torch->higher) (12.1.105)\n",
            "Requirement already satisfied: nvidia-cudnn-cu12==8.9.2.26 in /usr/local/lib/python3.10/dist-packages (from torch->higher) (8.9.2.26)\n",
            "Requirement already satisfied: nvidia-cublas-cu12==12.1.3.1 in /usr/local/lib/python3.10/dist-packages (from torch->higher) (12.1.3.1)\n",
            "Requirement already satisfied: nvidia-cufft-cu12==11.0.2.54 in /usr/local/lib/python3.10/dist-packages (from torch->higher) (11.0.2.54)\n",
            "Requirement already satisfied: nvidia-curand-cu12==10.3.2.106 in /usr/local/lib/python3.10/dist-packages (from torch->higher) (10.3.2.106)\n",
            "Requirement already satisfied: nvidia-cusolver-cu12==11.4.5.107 in /usr/local/lib/python3.10/dist-packages (from torch->higher) (11.4.5.107)\n",
            "Requirement already satisfied: nvidia-cusparse-cu12==12.1.0.106 in /usr/local/lib/python3.10/dist-packages (from torch->higher) (12.1.0.106)\n",
            "Requirement already satisfied: nvidia-nccl-cu12==2.19.3 in /usr/local/lib/python3.10/dist-packages (from torch->higher) (2.19.3)\n",
            "Requirement already satisfied: nvidia-nvtx-cu12==12.1.105 in /usr/local/lib/python3.10/dist-packages (from torch->higher) (12.1.105)\n",
            "Requirement already satisfied: triton==2.2.0 in /usr/local/lib/python3.10/dist-packages (from torch->higher) (2.2.0)\n",
            "Requirement already satisfied: nvidia-nvjitlink-cu12 in /usr/local/lib/python3.10/dist-packages (from nvidia-cusolver-cu12==11.4.5.107->torch->higher) (12.4.99)\n",
            "Requirement already satisfied: MarkupSafe>=2.0 in /usr/local/lib/python3.10/dist-packages (from jinja2->torch->higher) (2.1.5)\n",
            "Requirement already satisfied: mpmath>=0.19 in /usr/local/lib/python3.10/dist-packages (from sympy->torch->higher) (1.3.0)\n",
            "Installing collected packages: higher\n",
            "Successfully installed higher-0.2.1\n"
          ]
        }
      ]
    },
    {
      "cell_type": "markdown",
      "source": [
        "# **Creating the dataset**"
      ],
      "metadata": {
        "id": "9PuRx2ZA4Gat"
      }
    },
    {
      "cell_type": "code",
      "source": [
        "#run below code twice\n",
        "#from line_profiler import LineProfiler\n",
        "import torch\n",
        "from torch.utils.data import Dataset, DataLoader\n",
        "\n",
        "import numpy as np\n",
        "import pandas as pd\n",
        "import plotnine as gg\n",
        "import torch\n",
        "import torch.optim as optim\n",
        "\n",
        "import higher\n",
        "\n",
        "from torch import nn\n",
        "# from acme.utils.loggers.terminal import TerminalLogger\n",
        "import dataclasses\n",
        "#import chex\n",
        "#import haiku as hk\n",
        "#import jax\n",
        "#import jax.numpy as jnp\n",
        "#import optax\n",
        "import pandas as pd\n",
        "#import warnings\n",
        "import gpytorch\n",
        "from torch.distributions.bernoulli import Bernoulli\n",
        "#warnings.filterwarnings('ignore')\n",
        "\n",
        "#import pipeline_var_l2_loss\n",
        "import seaborn as sns\n",
        "#from dataloader import TabularDataset\n",
        "#from var_l2_loss_estimator import *\n",
        "#from ENN import basenet_with_learnable_epinet_and_ensemble_prior\n",
        "import matplotlib.pyplot as plt\n",
        "\n",
        "num_init_train_samples = 50\n",
        "num_pool_samples = 5\n",
        "num_test_samples = 50\n",
        "\n",
        "input_dim = 1\n",
        "\n",
        "init_train_x = torch.rand((num_init_train_samples, input_dim))*50.0/500.0-0.225\n",
        "\n",
        "test_x_1 = torch.rand((num_test_samples, input_dim))*50.0/500.0-0.225\n",
        "test_x_2 = 75.0/500.0 + torch.rand((num_test_samples, input_dim))*50.0/500.0-0.225\n",
        "test_x_3 = 175.0/500.0 + torch.rand((num_test_samples, input_dim))*50.0/500.0-0.225\n",
        "\n",
        "test_x = torch.cat([test_x_1,test_x_2,test_x_3])\n",
        "\n",
        "pool_x_1 = 24/500.0 + torch.rand((num_pool_samples, input_dim))*2/500.0-0.225\n",
        "pool_x_2 = 99/500.0 + torch.rand((num_pool_samples, input_dim))*2/500.0-0.225\n",
        "pool_x_3 = 199/500.0 + torch.rand((num_pool_samples, input_dim))*2/500.0-0.225\n",
        "\n",
        "pool_x = torch.cat([pool_x_1,pool_x_2,pool_x_3])\n",
        "\n",
        "x = torch.cat([init_train_x,test_x,pool_x])\n",
        "y = torch.zeros(num_init_train_samples+3*num_pool_samples+3*num_test_samples)\n",
        "\n",
        "init_train_x_numpy = init_train_x.numpy()\n",
        "init_train_y = torch.zeros(init_train_x.size(0))\n",
        "test_x_numpy = test_x.numpy()\n",
        "test_y = torch.ones(test_x.size(0))\n",
        "pool_x_numpy = pool_x.numpy()\n",
        "pool_y = torch.empty(pool_x.size(0)).fill_(0.5)\n",
        "\n",
        "\n",
        "plt.scatter(init_train_x_numpy, init_train_y.numpy(), s=20, label='train')\n",
        "plt.scatter(test_x_numpy, test_y.numpy(), s=20, label='test')\n",
        "plt.scatter(pool_x_numpy, pool_y.numpy(), s=20, label='pool')\n",
        "\n",
        "plt.yticks([])  # Hide y-axis ticks\n",
        "plt.xlabel('X values')\n",
        "plt.legend()\n",
        "plt.title('Distribution of X values along a real line')\n",
        "plt.show()"
      ],
      "metadata": {
        "colab": {
          "base_uri": "https://localhost:8080/",
          "height": 472
        },
        "id": "6qa6lja42PSi",
        "outputId": "bd1d93a0-bf07-41dc-d2b8-db3426247fe3"
      },
      "execution_count": null,
      "outputs": [
        {
          "output_type": "display_data",
          "data": {
            "text/plain": [
              "<Figure size 640x480 with 1 Axes>"
            ],
            "image/png": "[encoded data removed]"
          },
          "metadata": {}
        }
      ]
    },
    {
      "cell_type": "markdown",
      "source": [
        "# **Simpler version of the f(x) from which label is sampled using sigmoid**"
      ],
      "metadata": {
        "id": "tDS7cQpaXuJk"
      }
    },
    {
      "cell_type": "code",
      "source": [
        "#w= torch.randn((1,1))\n",
        "w=2.0\n",
        "temp = 25.0/50.0\n",
        "f_x = w*x\n",
        "\n",
        "\n",
        "# Apply the sigmoid function to get probabilities\n",
        "probabilities = torch.sigmoid(-temp*f_x)\n",
        "\n",
        "# Create a Bernoulli distribution with the given probabilities\n",
        "distribution = Bernoulli(probs=probabilities)\n",
        "\n",
        "# Sample y values from the distribution\n",
        "y_blr_new = distribution.sample()"
      ],
      "metadata": {
        "id": "RxP4YFlLTE69"
      },
      "execution_count": null,
      "outputs": []
    },
    {
      "cell_type": "code",
      "source": [
        "plt.scatter(x,f_x)"
      ],
      "metadata": {
        "colab": {
          "base_uri": "https://localhost:8080/",
          "height": 447
        },
        "id": "naUsLUcLVip8",
        "outputId": "1754b093-809f-48b7-bb30-f832fda2eb49"
      },
      "execution_count": null,
      "outputs": [
        {
          "output_type": "execute_result",
          "data": {
            "text/plain": [
              "<matplotlib.collections.PathCollection at 0x7b05f799e980>"
            ]
          },
          "metadata": {},
          "execution_count": 102
        },
        {
          "output_type": "display_data",
          "data": {
            "text/plain": [
              "<Figure size 640x480 with 1 Axes>"
            ],
            "image/png": "[encoded data removed]"
          },
          "metadata": {}
        }
      ]
    },
    {
      "cell_type": "code",
      "source": [
        "plt.scatter(x,probabilities)"
      ],
      "metadata": {
        "colab": {
          "base_uri": "https://localhost:8080/",
          "height": 447
        },
        "id": "YK0czGW8VzVg",
        "outputId": "d79716c0-befe-4c93-e323-ee3bd7ce6292"
      },
      "execution_count": null,
      "outputs": [
        {
          "output_type": "execute_result",
          "data": {
            "text/plain": [
              "<matplotlib.collections.PathCollection at 0x7b05f5235030>"
            ]
          },
          "metadata": {},
          "execution_count": 150
        },
        {
          "output_type": "display_data",
          "data": {
            "text/plain": [
              "<Figure size 640x480 with 1 Axes>"
            ],
            "image/png": "[encoded data removed]"
          },
          "metadata": {}
        }
      ]
    },
    {
      "cell_type": "code",
      "source": [
        "plt.scatter(x,y_blr_new)"
      ],
      "metadata": {
        "colab": {
          "base_uri": "https://localhost:8080/",
          "height": 447
        },
        "id": "asWi7dCmWFQq",
        "outputId": "81017869-688d-4fe4-fbe2-fb2054c52970"
      },
      "execution_count": null,
      "outputs": [
        {
          "output_type": "execute_result",
          "data": {
            "text/plain": [
              "<matplotlib.collections.PathCollection at 0x7b05f7370eb0>"
            ]
          },
          "metadata": {},
          "execution_count": 151
        },
        {
          "output_type": "display_data",
          "data": {
            "text/plain": [
              "<Figure size 640x480 with 1 Axes>"
            ],
            "image/png": "[encoded data removed]"
          },
          "metadata": {}
        }
      ]
    },
    {
      "cell_type": "code",
      "source": [
        "plt.scatter(x[:num_init_train_samples],y_blr_new[:num_init_train_samples], label='train')\n",
        "plt.scatter(x[num_init_train_samples:num_init_train_samples+3*num_test_samples],y_blr_new[num_init_train_samples:num_init_train_samples+3*num_test_samples], label='test')\n",
        "plt.scatter(x[num_init_train_samples+3*num_test_samples:],y_blr_new[num_init_train_samples+3*num_test_samples:], label='pool')\n",
        "plt.ylim(-1, 2)"
      ],
      "metadata": {
        "colab": {
          "base_uri": "https://localhost:8080/",
          "height": 452
        },
        "id": "5dc43StSU40V",
        "outputId": "50c54ad6-5f5d-43d2-bb1b-ff61cf18db0f"
      },
      "execution_count": null,
      "outputs": [
        {
          "output_type": "execute_result",
          "data": {
            "text/plain": [
              "(-1.0, 2.0)"
            ]
          },
          "metadata": {},
          "execution_count": 152
        },
        {
          "output_type": "display_data",
          "data": {
            "text/plain": [
              "<Figure size 640x480 with 1 Axes>"
            ],
            "image/png": "[encoded data removed]"
          },
          "metadata": {}
        }
      ]
    },
    {
      "cell_type": "markdown",
      "source": [
        "# **GP version of the f(x) from which label is sampled using sigmoid**"
      ],
      "metadata": {
        "id": "2Kef6d75X_zg"
      }
    },
    {
      "cell_type": "code",
      "source": [
        "\n",
        "\n",
        "# Define parameters for the model\n",
        "mean_constant = 0.0  # Mean of the GP\n",
        "length_scale = [[25.0/500.0]]   # Length scale of the RBF kernel\n",
        "output_scale = 5.0\n",
        "noise_std = 0.1      # Standard deviation of the noise\n",
        "\n",
        "\n",
        "\n",
        "mean_module = gpytorch.means.ConstantMean()\n",
        "base_kernel = gpytorch.kernels.ScaleKernel(gpytorch.kernels.RBFKernel(ard_num_dims=input_dim))\n",
        "likelihood = gpytorch.likelihoods.GaussianLikelihood()\n",
        "\n",
        "\n",
        "\n",
        "mean_module.constant = mean_constant\n",
        "base_kernel.base_kernel.lengthscale = length_scale\n",
        "base_kernel.outputscale = output_scale\n",
        "likelihood.noise_covar.noise = noise_std**2"
      ],
      "metadata": {
        "id": "r5KvV_d42RVd"
      },
      "execution_count": null,
      "outputs": []
    },
    {
      "cell_type": "code",
      "source": [
        "class CustomizableGPModel(gpytorch.models.ExactGP):\n",
        "    def __init__(self, train_x, train_y, mean_module, base_kernel, likelihood):\n",
        "        super(CustomizableGPModel, self).__init__(train_x, train_y, likelihood)\n",
        "        self.mean_module = mean_module\n",
        "        self.covar_module = base_kernel\n",
        "        self.likelihood = likelihood\n",
        "\n",
        "    def forward(self, x):\n",
        "        return gpytorch.distributions.MultivariateNormal(self.mean_module(x), self.covar_module(x))\n",
        "\n",
        "\n",
        "\n",
        "model = CustomizableGPModel(x, y, mean_module, base_kernel, likelihood)\n",
        "\n",
        "# Sample from the prior for training data\n",
        "model.eval()\n",
        "likelihood.eval()\n",
        "with torch.no_grad():\n",
        "    prior_dist = model(x)\n",
        "    f_x = prior_dist.sample()\n",
        "\n",
        "\n",
        "\n",
        "temp =1.0\n",
        " # Apply the sigmoid function to get probabilities\n",
        "probabilities = torch.sigmoid(temp*f_x)\n",
        "\n",
        "# Create a Bernoulli distribution with the given probabilities\n",
        "distribution = Bernoulli(probs=probabilities)\n",
        "\n",
        "# Sample y values from the distribution\n",
        "y_gp_new = distribution.sample()"
      ],
      "metadata": {
        "colab": {
          "base_uri": "https://localhost:8080/"
        },
        "id": "W9OKaBSJ2oP3",
        "outputId": "0e776705-0533-4e5d-bb60-de3835146b8d"
      },
      "execution_count": null,
      "outputs": [
        {
          "output_type": "stream",
          "name": "stderr",
          "text": [
            "/usr/local/lib/python3.10/dist-packages/gpytorch/models/exact_gp.py:284: GPInputWarning: The input matches the stored training data. Did you forget to call model.train()?\n",
            "/usr/local/lib/python3.10/dist-packages/linear_operator/utils/cholesky.py:40: NumericalWarning: A not p.d., added jitter of 1.0e-06 to the diagonal\n",
            "/usr/local/lib/python3.10/dist-packages/linear_operator/utils/cholesky.py:40: NumericalWarning: A not p.d., added jitter of 1.0e-05 to the diagonal\n",
            "/usr/local/lib/python3.10/dist-packages/linear_operator/utils/cholesky.py:40: NumericalWarning: A not p.d., added jitter of 1.0e-04 to the diagonal\n"
          ]
        }
      ]
    },
    {
      "cell_type": "code",
      "source": [
        "plt.scatter(x[:num_init_train_samples],y_gp_new[:num_init_train_samples], label='train')\n",
        "plt.scatter(x[num_init_train_samples:num_init_train_samples+3*num_test_samples],y_gp_new[num_init_train_samples:num_init_train_samples+3*num_test_samples], label='test')\n",
        "plt.scatter(x[num_init_train_samples+3*num_test_samples:],y_gp_new[num_init_train_samples+3*num_test_samples:], label='pool')"
      ],
      "metadata": {
        "colab": {
          "base_uri": "https://localhost:8080/",
          "height": 447
        },
        "id": "K6fqgb_CVLM9",
        "outputId": "7028e069-c089-4016-a9f2-642efc363151"
      },
      "execution_count": null,
      "outputs": [
        {
          "output_type": "execute_result",
          "data": {
            "text/plain": [
              "<matplotlib.collections.PathCollection at 0x7b05f749b6a0>"
            ]
          },
          "metadata": {},
          "execution_count": 108
        },
        {
          "output_type": "display_data",
          "data": {
            "text/plain": [
              "<Figure size 640x480 with 1 Axes>"
            ],
            "image/png": "[encoded data removed]"
          },
          "metadata": {}
        }
      ]
    },
    {
      "cell_type": "markdown",
      "source": [
        "# **Defining parameter classes**"
      ],
      "metadata": {
        "id": "qZBJALs44Y36"
      }
    },
    {
      "cell_type": "code",
      "source": [
        "import argparse\n",
        "import typing\n",
        "\n",
        "import torch\n",
        "from torch import nn\n",
        "import torch.nn.functional as F\n",
        "import torch.optim as optim\n",
        "from torch.utils.data import Dataset, DataLoader\n",
        "import torch.distributions as distributions\n",
        "import numpy as np\n",
        "from dataclasses import dataclass\n",
        "import time\n",
        "from datetime import datetime\n",
        "import matplotlib.pyplot as plt"
      ],
      "metadata": {
        "id": "lIJfAIg13EKf"
      },
      "execution_count": null,
      "outputs": []
    },
    {
      "cell_type": "code",
      "source": [
        "@dataclass\n",
        "class DatasetConfig:\n",
        "    csv_file_train: str\n",
        "    csv_file_test: str\n",
        "    csv_file_pool: str\n",
        "    y_column: str  # Assuming same column name across above 3 sets\n",
        "\n",
        "\n",
        "@dataclass\n",
        "class ModelConfig:\n",
        "    batch_size_train: int\n",
        "    batch_size_test: int\n",
        "    batch_size_query: int\n",
        "    temp_k_subset: float\n",
        "    hidden_sizes_weight_NN: list\n",
        "    meta_opt_lr: float\n",
        "    n_classes: int\n",
        "    n_epoch: int\n",
        "    init_train_lr: float\n",
        "    init_train_weight_decay: float\n",
        "    n_train_init: int\n",
        "    meta_opt_weight_decay: float\n",
        "\n",
        "\n",
        "\n",
        "\n",
        "\n",
        "@dataclass\n",
        "class TrainConfig:\n",
        "    n_train_iter: int\n",
        "    n_ENN_iter: int\n",
        "    ENN_opt_lr: float\n",
        "    ENN_opt_weight_decay: float\n",
        "    N_iter_noise: float\n",
        "    z_dim: int\n",
        "    N_iter: int\n",
        "    seed_var_l2: int\n",
        "    sigma_noise: float\n",
        "\n",
        "\n",
        "@dataclass\n",
        "class ENNConfig:\n",
        "    basenet_hidden_sizes: list\n",
        "    exposed_layers: list\n",
        "    z_dim: int\n",
        "    learnable_epinet_hiddens: list\n",
        "    hidden_sizes_prior: list\n",
        "    seed_base: int\n",
        "    seed_learnable_epinet: int\n",
        "    seed_prior_epinet: int\n",
        "    alpha: float\n"
      ],
      "metadata": {
        "id": "d_U_1vU83GYJ"
      },
      "execution_count": null,
      "outputs": []
    },
    {
      "cell_type": "markdown",
      "source": [
        "# **Epistemic Neural Network**"
      ],
      "metadata": {
        "id": "NbjTUK9E4eyN"
      }
    },
    {
      "cell_type": "code",
      "source": [
        "# ENN takes in x of dim [N,D] and z of dim [z_dim]\n",
        "# ENN outputs y of dim [N,n_classes]      (GP in gpytorch takes in inputs(while setting the train data) and outputs y of dim [N])\n",
        "# nn.CrossEntropyLoss()   -  only takes y_targets as [N]\n",
        "# nn.mse_loss() - will take in y_target depending on dimension of output of ENN - as it is [N,1] - therefore y_target should be [N,1]\n",
        "# currently ouputs from the GP is [N] and also the outputs from blr is [N]\n",
        "\n",
        "\n",
        "\n",
        "import torch\n",
        "import torch.nn as nn\n",
        "import torch.optim as optim\n",
        "import torch.nn.init as init\n",
        "\n",
        "\n",
        "\n",
        "\n",
        "class basenet_with_learnable_epinet_and_ensemble_prior(nn.Module):\n",
        "    def __init__(self, input_size, basenet_hidden_sizes, n_classes, exposed_layers, z_dim, learnable_epinet_hiddens, hidden_sizes_prior, seed_base, seed_learnable_epinet, seed_prior_epinet, alpha):\n",
        "        super(basenet_with_learnable_epinet_and_ensemble_prior, self).__init__()\n",
        "\n",
        "\n",
        "        self.z_dim = z_dim\n",
        "        self.n_classes = n_classes\n",
        "        self.num_ensemble = z_dim\n",
        "        self.alpha = alpha\n",
        "\n",
        "\n",
        "        # Create a list of all sizes (input + hidden + output)\n",
        "        basenet_all_sizes = [input_size] + basenet_hidden_sizes + [n_classes]\n",
        "\n",
        "        self.basenet_all_sizes = basenet_all_sizes\n",
        "        exposed_layers = [True]+exposed_layers+[False]     # assuming input is always included and output is never included\n",
        "\n",
        "        self.exposed_layers = exposed_layers\n",
        "\n",
        "        torch.manual_seed(seed_base)\n",
        "        # Dynamically create layers\n",
        "        self.basenet_layers = nn.ModuleList()\n",
        "        for i in range(len(basenet_all_sizes) - 1):\n",
        "            self.basenet_layers.append(nn.Linear(basenet_all_sizes[i], basenet_all_sizes[i + 1]))\n",
        "\n",
        "\n",
        "        sum_input_base_epi = sum(basenet_all_size for basenet_all_size, exposed_layer in zip(basenet_all_sizes, exposed_layers) if exposed_layer)\n",
        "\n",
        "        learnable_epinet_all_sizes = [sum_input_base_epi+z_dim]    + learnable_epinet_hiddens + [n_classes*z_dim]\n",
        "\n",
        "        self.learnable_epinet_all_sizes = learnable_epinet_all_sizes\n",
        "\n",
        "        torch.manual_seed(seed_learnable_epinet)\n",
        "        self.learnable_epinet_layers = nn.ModuleList()\n",
        "        for j in range(len(learnable_epinet_all_sizes) - 1):\n",
        "            self.learnable_epinet_layers.append(nn.Linear(learnable_epinet_all_sizes[j], learnable_epinet_all_sizes[j + 1]))\n",
        "\n",
        "\n",
        "\n",
        "\n",
        "        torch.manual_seed(seed_prior_epinet)\n",
        "        self.ensemble = nn.ModuleList()\n",
        "        for _ in range(self.num_ensemble):\n",
        "            layers = []\n",
        "            all_sizes_prior = [sum_input_base_epi] + hidden_sizes_prior + [n_classes]\n",
        "            for i in range(len(all_sizes_prior) - 1):\n",
        "                layer = nn.Linear(all_sizes_prior[i], all_sizes_prior[i + 1])\n",
        "\n",
        "\n",
        "                # Initialize weights and biases here\n",
        "                init.xavier_uniform_(layer.weight)\n",
        "                init.zeros_(layer.bias)\n",
        "\n",
        "                layers.append(layer)\n",
        "                if i < len(all_sizes_prior) - 2:\n",
        "                    layers.append(nn.ReLU())\n",
        "\n",
        "            mlp = nn.Sequential(*layers)\n",
        "\n",
        "            # Freeze the parameters of this MLP\n",
        "            for param in mlp.parameters():\n",
        "                param.requires_grad = False\n",
        "\n",
        "            self.ensemble.append(mlp)\n",
        "\n",
        "\n",
        "\n",
        "\n",
        "\n",
        "\n",
        "\n",
        "    def forward(self, x, z):\n",
        "        hidden_outputs = []\n",
        "        #concatenate_hidden = x   #assuming x is always input\n",
        "\n",
        "\n",
        "        for i, (basenet_layer, flag) in enumerate(zip(self.basenet_layers, self.exposed_layers)):\n",
        "            if flag:\n",
        "                hidden_outputs.append(x)\n",
        "\n",
        "\n",
        "            x = basenet_layer(x)\n",
        "\n",
        "            if i < len(self.basenet_layers) - 1:  # Apply activation function except for the output layer\n",
        "                x = torch.relu(x)\n",
        "\n",
        "\n",
        "            #if i>0 and flag:\n",
        "                #concatenate_hidden = torch.cat(x,concatenate_hidden, dim=1)\n",
        "\n",
        "        concatenate_hidden = torch.cat(hidden_outputs, dim=1)\n",
        "\n",
        "        detached_concatenate_hidden = concatenate_hidden.detach()                    ###-------NOT SURE IF BACKPROP WILL WORK PROPERLY THROUGH THIS\n",
        "\n",
        "        detached_concatenate_hidden_to_prior = concatenate_hidden.detach()\n",
        "        ###-------NOT SURE IF BACKPROP WILL WORK PROPERLY THROUGH THIS - should we clone and detach\n",
        "\n",
        "\n",
        "        z_repeated = z.unsqueeze(0).repeat(detached_concatenate_hidden.size(0), 1)\n",
        "\n",
        "        combined_output = torch.cat([detached_concatenate_hidden,z_repeated], dim=1)\n",
        "\n",
        "\n",
        "\n",
        "\n",
        "        for j, learnable_epinet_layer in enumerate(self.learnable_epinet_layers):\n",
        "            combined_output = learnable_epinet_layer(combined_output)\n",
        "\n",
        "            if j < len(self.learnable_epinet_layers) - 1:  # Apply activation function except for the output layer\n",
        "                combined_output = torch.relu(combined_output)\n",
        "\n",
        "        #reshaped_output = combined_output_learnable.view(inputs.shape[0], self.num_classes, self.z_dim)\n",
        "        reshaped_epinet_output = torch.reshape(combined_output, (combined_output.shape[0], self.n_classes, self.z_dim))\n",
        "\n",
        "        epinet_output = torch.matmul(reshaped_epinet_output, z)\n",
        "\n",
        "\n",
        "        outputs_prior = [mlp(detached_concatenate_hidden_to_prior) for mlp in self.ensemble]\n",
        "\n",
        "        outputs_prior_tensor = torch.stack(outputs_prior, dim=0)\n",
        "\n",
        "        prior_output = torch.einsum('nbo,n->bo', outputs_prior_tensor, z)\n",
        "\n",
        "        final_output =  x + epinet_output + self.alpha* prior_output\n",
        "\n",
        "\n",
        "\n",
        "\n",
        "        return final_output\n",
        "\n",
        "\n",
        "\n",
        "\n",
        "\n",
        "\n",
        "#optimizer = torch.optim.Adam(model.parameters(), lr=0.001, weight_decay=0.01)\n",
        "\n",
        "# optimizer = torch.optim.SGD(model.parameters(), lr=0.001, momentum=0.9, weight_decay=0.01)"
      ],
      "metadata": {
        "id": "yUV1XsK33HBf"
      },
      "execution_count": null,
      "outputs": []
    },
    {
      "cell_type": "code",
      "source": [
        "Z_dim = 8\n",
        "lr_enn = 0.02\n",
        "wd_enn = 0\n",
        "n_steps = 100\n",
        "Basenet_hidden_sizes = [50,50]\n",
        "Exposed_layers = [False, True]\n",
        "Learnable_epinet_hiddens = [15,15]\n",
        "Hidden_sizes_prior = [5,5]\n",
        "Alpha =5.0\n",
        "n_classes = 2\n",
        "model_config = ModelConfig(batch_size_train = 10000, batch_size_test = 500, batch_size_query = 100, temp_k_subset = 0.1, hidden_sizes_weight_NN = [50,50], meta_opt_lr = 0.01, n_classes = n_classes, n_epoch = 5, init_train_lr = lr_enn, init_train_weight_decay = wd_enn, n_train_init = n_steps, meta_opt_weight_decay = 0.01)\n",
        "train_cfg = TrainConfig(n_train_iter = 500, n_ENN_iter = 1000, ENN_opt_lr = 0.01, N_iter_noise = 10, sigma_noise = 0.5, seed_var_l2 = 123, z_dim = Z_dim, N_iter = 100, ENN_opt_weight_decay = 0.0001) #temp_var_recall is the new variable added here\n",
        "device = torch.device(\"cuda\" if torch.cuda.is_available() else \"cpu\")\n",
        "\n",
        "\n",
        "\n",
        "enn_config = ENNConfig(basenet_hidden_sizes = Basenet_hidden_sizes,  exposed_layers = Exposed_layers, z_dim = Z_dim, learnable_epinet_hiddens = Learnable_epinet_hiddens, hidden_sizes_prior = Hidden_sizes_prior, seed_base = 2, seed_learnable_epinet = 1, seed_prior_epinet = 0, alpha = Alpha)\n"
      ],
      "metadata": {
        "id": "lF4jSq85qGKj"
      },
      "execution_count": null,
      "outputs": []
    },
    {
      "cell_type": "markdown",
      "source": [
        "# **Some basic tests to make the model run and understand ENN**"
      ],
      "metadata": {
        "id": "-fGHK7bVsLso"
      }
    },
    {
      "cell_type": "code",
      "source": [
        "z_dim =8\n",
        "z_pool_train = torch.randn(z_dim)\n",
        "z_pool_train\n",
        "input_feature_size = 4\n",
        "x= torch.rand(2,4)\n",
        "ENN = basenet_with_learnable_epinet_and_ensemble_prior(input_feature_size, enn_config.basenet_hidden_sizes, model_config.n_classes, enn_config.exposed_layers, enn_config.z_dim, enn_config.learnable_epinet_hiddens, enn_config.hidden_sizes_prior, enn_config.seed_base, enn_config.seed_learnable_epinet, enn_config.seed_prior_epinet, enn_config.alpha).to(device)\n",
        "\n",
        "outputs=ENN(x,z_pool_train)\n",
        "outputs"
      ],
      "metadata": {
        "id": "t3Hmy3xpq3VW",
        "colab": {
          "base_uri": "https://localhost:8080/"
        },
        "outputId": "e612702a-97e5-470e-cbe1-4e9499644016"
      },
      "execution_count": null,
      "outputs": [
        {
          "output_type": "execute_result",
          "data": {
            "text/plain": [
              "tensor([[-1.6549,  0.0773],\n",
              "        [ 0.6152,  3.1815]], grad_fn=<AddBackward0>)"
            ]
          },
          "metadata": {},
          "execution_count": 113
        }
      ]
    },
    {
      "cell_type": "code",
      "source": [
        "loss_fn_init = nn.CrossEntropyLoss()\n",
        "labels = torch.tensor([0,0])\n",
        "loss = loss_fn_init(outputs, labels)\n",
        "print(loss)\n",
        "labels2 = torch.tensor([[0],[0]])\n",
        "loss2 = loss_fn_init(outputs, labels2)\n",
        "print(loss2)\n"
      ],
      "metadata": {
        "id": "PuNvhCJgtWiW"
      },
      "execution_count": null,
      "outputs": []
    },
    {
      "cell_type": "markdown",
      "source": [
        "# **Training of ENNs - model within training function**"
      ],
      "metadata": {
        "id": "ZuXuBi8k4pH8"
      }
    },
    {
      "cell_type": "code",
      "source": [
        "class TabularDataset(Dataset):\n",
        "    def __init__(self, x, y):\n",
        "        self.x = x\n",
        "        self.y = y\n",
        "\n",
        "    def __len__(self):\n",
        "        return self.x.shape[0]\n",
        "    def __getitem__(self, idx):\n",
        "\n",
        "        return self.x[idx], self.y[idx]\n",
        "\n",
        "\n",
        "\n",
        "def ENN_training(x_train, y_train, model_config, train_config, enn_config, device, if_print):\n",
        "\n",
        "    dataset_train = TabularDataset(x = x_train, y = y_train)\n",
        "    dataloader_train = DataLoader(dataset_train, batch_size=model_config.batch_size_train, shuffle=False)\n",
        "    sample, label = dataset_train[0]\n",
        "    input_feature_size = sample.shape[0]\n",
        "\n",
        "     # to_device\n",
        "    ENN = basenet_with_learnable_epinet_and_ensemble_prior(input_feature_size, enn_config.basenet_hidden_sizes, model_config.n_classes, enn_config.exposed_layers, enn_config.z_dim, enn_config.learnable_epinet_hiddens, enn_config.hidden_sizes_prior, enn_config.seed_base, enn_config.seed_learnable_epinet, enn_config.seed_prior_epinet, enn_config.alpha).to(device)\n",
        "\n",
        "     ############################################################# change to cross entropy loss\n",
        "    loss_fn_init = nn.CrossEntropyLoss()    # only takes y_targets as [N]\n",
        "    optimizer_init = optim.Adam(ENN.parameters(), lr=model_config.init_train_lr, weight_decay=model_config.init_train_weight_decay)\n",
        "    # ------- seed for this training\n",
        "    # ------- train ENN on initial training data  # save the state - ENN_initial_state  # define a separate optimizer for this # how to sample z's ---- separately for each batch\n",
        "    # ------- they also sampled the data each time and not a dataloader - kind of a bootstrap\n",
        "    #print('ENN model weights',ENN.learnable_epinet_layers[0].weight)\n",
        "    enn_loss_list = []\n",
        "    for i in range(model_config.n_train_init):\n",
        "        ENN.train()\n",
        "        for (inputs, labels) in dataloader_train:\n",
        "          total_loss = 0\n",
        "          for j in range(100):\n",
        "            #inputs, labels =  inputs.to(device), labels.to(device)\n",
        "            z = torch.randn(enn_config.z_dim, device=device)   #set seed for this  #set to_device for this\n",
        "            optimizer_init.zero_grad()\n",
        "            outputs = ENN(inputs,z)\n",
        "            #print(\"outputs:\", outputs)\n",
        "            #print(\"labels:\", labels)\n",
        "\n",
        "            #labels = torch.tensor(labels, dtype=torch.long, device=device)\n",
        "            total_loss += loss_fn_init(outputs, labels.squeeze().long())\n",
        "\n",
        "          #print(\"total_loss:\", total_loss)\n",
        "          total_loss.backward()\n",
        "          optimizer_init.step()\n",
        "\n",
        "        enn_loss_list.append(float(total_loss.detach().to('cpu').numpy()))\n",
        "    if if_print == 0:\n",
        "        plt.plot(list(range(len(enn_loss_list))),enn_loss_list)\n",
        "        plt.title('ENN loss vs training iter')\n",
        "        #plt.ylim(0, 0.1)\n",
        "        plt.show()\n",
        "\n",
        "    return ENN\n",
        "\n",
        "x_train, y_train = x[:num_init_train_samples], y_blr_new[:num_init_train_samples]\n",
        "dataset_train = TabularDataset(x = x_train, y = y_train)\n",
        "dataloader_train = DataLoader(dataset_train, batch_size=500, shuffle=False)\n",
        "ENN_trained = ENN_training(x_train, y_train, model_config, train_cfg, enn_config, device , if_print = 0 )"
      ],
      "metadata": {
        "id": "5OaN9uSt3Kbg",
        "colab": {
          "base_uri": "https://localhost:8080/",
          "height": 452
        },
        "outputId": "5deb8ea2-20ff-409e-9946-9141e260b39a"
      },
      "execution_count": null,
      "outputs": [
        {
          "output_type": "display_data",
          "data": {
            "text/plain": [
              "<Figure size 640x480 with 1 Axes>"
            ],
            "image/png": "[encoded data removed]"
          },
          "metadata": {}
        }
      ]
    },
    {
      "cell_type": "markdown",
      "source": [
        "# **ENN training with model outside training loop**"
      ],
      "metadata": {
        "id": "Lg8rdCv34yKJ"
      }
    },
    {
      "cell_type": "code",
      "source": [
        "x_train, y_train = x[:num_init_train_samples], y_blr_new[:num_init_train_samples]\n",
        "dataset_train = TabularDataset(x = x_train, y = y_train)\n",
        "dataloader_train = DataLoader(dataset_train, batch_size=500, shuffle=False)\n",
        "sample, label = dataset_train[[0,1]]\n",
        "input_feature_size = sample.shape[0]\n",
        "ENN = basenet_with_learnable_epinet_and_ensemble_prior(input_feature_size, enn_config.basenet_hidden_sizes, model_config.n_classes, enn_config.exposed_layers, enn_config.z_dim, enn_config.learnable_epinet_hiddens, enn_config.hidden_sizes_prior, enn_config.seed_base, enn_config.seed_learnable_epinet, enn_config.seed_prior_epinet, enn_config.alpha).to(device)\n"
      ],
      "metadata": {
        "id": "VzQ87hR_3MeV"
      },
      "execution_count": null,
      "outputs": []
    },
    {
      "cell_type": "code",
      "source": [
        "def ENN_training_with_model(ENN, x_train, y_train,model_config, train_config, enn_config, device, if_print):\n",
        "\n",
        "    dataset_train = TabularDataset(x = x_train, y = y_train)\n",
        "    dataloader_train = DataLoader(dataset_train, batch_size=model_config.batch_size_train, shuffle=False)\n",
        "    sample, label = dataset_train[0]\n",
        "    input_feature_size = sample.shape[0]\n",
        "\n",
        "    lloss_fn_init = nn.CrossEntropyLoss()\n",
        "    optimizer_init = optim.Adam(ENN.parameters(), lr=model_config.init_train_lr, weight_decay=model_config.init_train_weight_decay)\n",
        "    # ------- seed for this training\n",
        "    # ------- train ENN on initial training data  # save the state - ENN_initial_state  # define a separate optimizer for this # how to sample z's ---- separately for each batch\n",
        "    # ------- they also sampled the data each time and not a dataloader - kind of a bootstrap\n",
        "    #print('ENN model weights',ENN.learnable_epinet_layers[0].weight)\n",
        "    enn_loss_list = []\n",
        "    for i in range(model_config.n_train_init):\n",
        "        ENN.train()\n",
        "        for (inputs, labels) in dataloader_train:\n",
        "          total_loss = 0\n",
        "          for j in range(10):\n",
        "            #inputs, labels =  inputs.to(device), labels.to(device)\n",
        "            z = torch.randn(enn_config.z_dim, device=device)   #set seed for this  #set to_device for this\n",
        "            optimizer_init.zero_grad()\n",
        "            outputs = ENN(inputs,z)\n",
        "            #print(\"outputs:\", outputs)\n",
        "            #print(\"labels:\", labels)\n",
        "            #labels = torch.tensor(labels, dtype=torch.long, device=device)\n",
        "            total_loss += loss_fn_init(outputs, labels.squeeze().long())\n",
        "\n",
        "          #print(\"total_loss:\", total_loss)\n",
        "          total_loss.backward()\n",
        "          optimizer_init.step()\n",
        "\n",
        "        enn_loss_list.append(float(total_loss.detach().to('cpu').numpy()))\n",
        "    if if_print == 0:\n",
        "        plt.plot(list(range(len(enn_loss_list))),enn_loss_list)\n",
        "        plt.title('ENN loss vs training iter')\n",
        "        #plt.ylim(0, 0.1)\n",
        "        plt.show()\n",
        "\n",
        "    return ENN\n",
        "\n",
        "ENN = basenet_with_learnable_epinet_and_ensemble_prior(input_feature_size, enn_config.basenet_hidden_sizes, model_config.n_classes, enn_config.exposed_layers, enn_config.z_dim, enn_config.learnable_epinet_hiddens, enn_config.hidden_sizes_prior, enn_config.seed_base, enn_config.seed_learnable_epinet, enn_config.seed_prior_epinet, enn_config.alpha).to(device)\n",
        "x_train, y_train = x[:num_init_train_samples], y_gp_new[:num_init_train_samples]\n",
        "ENN_trained = ENN_training_with_model(x_train, y_train, model_config, train_cfg, enn_config, device , if_print = 0 )"
      ],
      "metadata": {
        "id": "vCvkaPqB3PFI"
      },
      "execution_count": null,
      "outputs": []
    },
    {
      "cell_type": "markdown",
      "source": [
        "# **Constant Value network**"
      ],
      "metadata": {
        "id": "tffX2nDY45Jr"
      }
    },
    {
      "cell_type": "code",
      "source": [
        "class ConstantValueNetwork(nn.Module):\n",
        "    def __init__(self, constant_value=1.0, output_size=1):\n",
        "        super(ConstantValueNetwork, self).__init__()\n",
        "        # Define the constant value and output size\n",
        "        self.constant_value = nn.Parameter(torch.tensor([constant_value]*output_size), requires_grad=False)\n",
        "        self.output_size = output_size\n",
        "\n",
        "    def forward(self, x):\n",
        "        # x is your input tensor. Its value is ignored in this model.\n",
        "        # Return a 1-D tensor with the constant value for each item in the batch.\n",
        "        batch_size = x.size(0)  # Get the batch size from the input\n",
        "        return self.constant_value.expand(batch_size, self.output_size)\n",
        "\n",
        "Predictor = ConstantValueNetwork(constant_value=0.7, output_size=1)"
      ],
      "metadata": {
        "id": "nLiq8SD33RLb"
      },
      "execution_count": null,
      "outputs": []
    },
    {
      "cell_type": "markdown",
      "source": [
        "# **Variance Recall**"
      ],
      "metadata": {
        "id": "_bE0ZEL45BCu"
      }
    },
    {
      "cell_type": "code",
      "source": [
        "\n",
        "\n",
        "def approx_ber(logits, tau, seed, device): #h is n-dim; output is an approx Bernoulli vector with mean h\n",
        "    torch.manual_seed(seed)\n",
        "    gumbel_dist = torch.distributions.gumbel.Gumbel(torch.tensor(0.0), torch.tensor(1.0))\n",
        "    gumbels = gumbel_dist.sample(logits.size()).to(logits.device)                   ### Can use torch.clamp(x, min=1, max=3) here - torch.clamp is autodiffable - but we will not face the inf/nan issue as torch.softmax handles it by subtacting maximum value from all the values.\n",
        "    y_soft = torch.softmax((logits + gumbels) / tau, dim=1)\n",
        "    y = y_soft[:,1]\n",
        "    return y\n",
        "\n",
        "def Model_pred(X_loader, model, device):\n",
        "    prediction_list = torch.empty((0, 1), dtype=torch.float32, device=device)\n",
        "    for (x_batch, label_batch) in X_loader:\n",
        "        prediction = model(x_batch)\n",
        "        prediction_list = torch.cat((prediction_list,prediction),0)\n",
        "\n",
        "\n",
        "    predicted_class = torch.argmax(prediction_list)       ## what is need of this??\n",
        "    predicted_class = prediction_list >= 0.5\n",
        "    return predicted_class\n",
        "\n",
        "\n",
        "\n",
        "def Recall(ENN_logits, predicted_class, tau, seed, device):\n",
        "    torch.manual_seed(seed)\n",
        "\n",
        "    Y_vec = approx_ber(ENN_logits, tau, seed, device)\n",
        "\n",
        "    Y_vec = torch.unsqueeze(Y_vec, 1)\n",
        "\n",
        "    x = torch.sum(torch.mul(Y_vec, predicted_class))\n",
        "    y = torch.sum(Y_vec)\n",
        "    return x/y\n",
        "\n",
        "\n",
        "\n",
        "\n",
        "def Recall_True(dataloader_test, model, device):\n",
        "    label_list  = torch.empty((0), dtype=torch.float32, device=device)\n",
        "    prediction_list = torch.empty((0, 1), dtype=torch.float32, device=device)\n",
        "\n",
        "    for (x_batch, label_batch) in dataloader_test:\n",
        "        label_list = torch.cat((label_list,label_batch),0)\n",
        "        prediction = model(x_batch)\n",
        "        prediction_list = torch.cat((prediction_list,prediction),0)\n",
        "\n",
        "    #predicted_class = torch.argmax(prediction_list)                             ### why is this needed??\n",
        "    predicted_class = prediction_list >= 0.5\n",
        "    predicted_class = torch.squeeze(predicted_class, 1)\n",
        "\n",
        "    x = torch.sum(torch.mul(label_list, predicted_class))\n",
        "    y = torch.sum(label_list)\n",
        "\n",
        "    return x/y\n",
        "\n",
        "\n",
        "\n",
        "def var_recall_estimator(fnet, dataloader_test, Predictor, seed, device, para):\n",
        "    #tau = para['tau']\n",
        "    #z_dim = para['z_dim']\n",
        "    #N_iter =  para['N_iter']\n",
        "    #if_print =  para['if_print']\n",
        "    #seed = para['seed_var_recall']\n",
        "    #N_iter_var_recall_est = para['N_iter_var_recall_est']\n",
        "\n",
        "    tau = 0.1\n",
        "    z_dim = 8\n",
        "    N_iter =  10\n",
        "    if_print =  1\n",
        "    seed = 0\n",
        "    N_iter_var_recall_est =10\n",
        "\n",
        "\n",
        "    torch.manual_seed(seed)\n",
        "\n",
        "    predicted_class = Model_pred(dataloader_test, Predictor, device)\n",
        "\n",
        "    res  = torch.empty((0), dtype=torch.float32, device=device)\n",
        "    res_square  = torch.empty((0), dtype=torch.float32, device=device)\n",
        "\n",
        "\n",
        "    for i in range(N_iter):\n",
        "        z_pool = torch.randn(z_dim, device=device)\n",
        "        ENN_logits = torch.empty((0,2), dtype=torch.float32, device=device)\n",
        "        for (x_batch, label_batch) in dataloader_test:\n",
        "            fnet_logits = fnet(x_batch, z_pool)\n",
        "            #fnet_logits_probs = torch.nn.functional.softmax(fnet_logits, dim=1) ---- no need of this as logits can work themselves\n",
        "            ENN_logits = torch.cat((ENN_logits,fnet_logits),dim=0)\n",
        "        #recall est over multiple Gumbel RV\n",
        "        recall_est_list = torch.empty((0), dtype=torch.float32, device=device)\n",
        "        for j in range(N_iter_var_recall_est):\n",
        "            recall_est = Recall(ENN_logits, predicted_class, tau, seed+j, device).view(1) #use diff seeds for Gumbel\n",
        "            recall_est_list = torch.cat((recall_est_list, recall_est),0)\n",
        "        #print(\"recall_est:\", recall_est)\n",
        "        res = torch.cat((res,torch.mean(recall_est_list).view(1)),0) #append mean of recall over multiple Gumbel\n",
        "        #print(\"res:\",res)\n",
        "        res_square = torch.cat((res_square,(recall_est ** 2).view(1)),0)\n",
        "\n",
        "    var = torch.mean(res_square) - (torch.mean(res)) ** 2\n",
        "    if if_print == 1:\n",
        "        print('recall list', res)\n",
        "        print(\"var of recall:\",var)\n",
        "        print(\"mean of recall\",  torch.mean(res))\n",
        "    return var\n",
        "\n"
      ],
      "metadata": {
        "id": "L3425KBVbZvc"
      },
      "execution_count": null,
      "outputs": []
    },
    {
      "cell_type": "markdown",
      "source": [
        "# **ENN UQ trianing, inference - var recall**"
      ],
      "metadata": {
        "id": "rNlUm7Nl5Iw7"
      }
    },
    {
      "cell_type": "code",
      "source": [
        "Z_dim = 8\n",
        "lr_enn = 0.02\n",
        "wd_enn = 0\n",
        "n_steps = 50\n",
        "Basenet_hidden_sizes = [50,50]\n",
        "Exposed_layers = [False, True]\n",
        "Learnable_epinet_hiddens = [15,15]\n",
        "Hidden_sizes_prior = [5,5]\n",
        "Alpha =10000000.0\n",
        "model_cfg = ModelConfig(batch_size_train = 10000, batch_size_test = 500, batch_size_query = 100, temp_k_subset = 0.1, hidden_sizes_weight_NN = [50,50], meta_opt_lr = 0.01, n_classes = 1, n_epoch = 5, init_train_lr = lr_enn, init_train_weight_decay = wd_enn, n_train_init = n_steps, meta_opt_weight_decay = 0.01)\n",
        "train_cfg = TrainConfig(n_train_iter = 500, n_ENN_iter = 1000, ENN_opt_lr = 0.01, N_iter_noise = 10, sigma_noise = 0.5, seed_var_l2 = 123, z_dim = Z_dim, N_iter = 100, ENN_opt_weight_decay = 0.0001) #temp_var_recall is the new variable added here\n",
        "enn_cfg = ENNConfig(basenet_hidden_sizes = Basenet_hidden_sizes,  exposed_layers = Exposed_layers, z_dim = Z_dim, learnable_epinet_hiddens = Learnable_epinet_hiddens, hidden_sizes_prior = Hidden_sizes_prior, seed_base = 2, seed_learnable_epinet = 1, seed_prior_epinet = 0, alpha = Alpha)\n",
        "device = torch.device(\"cuda\" if torch.cuda.is_available() else \"cpu\")\n",
        "\n",
        "x = torch.cat([init_train_x,test_x,pool_x])\n",
        "\n"
      ],
      "metadata": {
        "id": "fSIOEe1j3XQF"
      },
      "execution_count": null,
      "outputs": []
    },
    {
      "cell_type": "code",
      "source": [
        "import torch\n",
        "from torch.distributions import Categorical"
      ],
      "metadata": {
        "id": "VVt6lHRDtmMQ"
      },
      "execution_count": null,
      "outputs": []
    },
    {
      "cell_type": "code",
      "source": [
        "\n",
        "def Inference(UQ_module, Option, if_print, UQ_parameter = []):\n",
        "    #x = torch.cat([init_train_x,test_x,pool_x])\n",
        "    if Option == 0: #only training\n",
        "        #x_train, y_train = x, y_new\n",
        "        x_train, y_train = x[:num_init_train_samples], y_blr_new[:num_init_train_samples]\n",
        "    elif Option == 1: # select 2nd point\n",
        "        x_train = torch.cat([x[:num_init_train_samples],x[-1*num_pool_samples:]])\n",
        "        y_train = torch.cat([y_blr_new[:num_init_train_samples],y_blr_new[-1*num_pool_samples:]])\n",
        "    elif Option == 2:\n",
        "        #x_train = torch.cat([x[:num_init_train_samples],x[num_init_train_samples+num_test_samples*3+num_pool_samples:num_init_train_samples+num_test_samples*3+num_pool_samples*2],x[-1*num_pool_samples:]])\n",
        "        #y_train = torch.cat([y_new[:num_init_train_samples],y[num_init_train_samples+num_test_samples*3+num_pool_samples:num_init_train_samples+num_test_samples*3+num_pool_samples*2],y_new[-1**num_pool_samples:]])\n",
        "        x_train = torch.cat([x[:num_init_train_samples],x[num_init_train_samples+num_test_samples*3+num_pool_samples:]])\n",
        "        y_train = torch.cat([y_blr_new[:num_init_train_samples],y_blr_new[num_init_train_samples+num_test_samples*3+num_pool_samples:]])\n",
        "    elif Option == 3:\n",
        "        x_train = x[-3*num_pool_samples:]\n",
        "        y_train = y_blr_new[-3*num_pool_samples:]\n",
        "    #print(x_train.shape, y_train.shape)\n",
        "    #x = x_train\n",
        "    if UQ_module == 'ENN':\n",
        "        ENN_trained = ENN_training(x_train, y_train.unsqueeze(dim=1), model_config, train_cfg, enn_config, device , if_print )\n",
        "        N_iter = UQ_parameter['N_iter_ENN']\n",
        "        #torch.manual_seed(1)\n",
        "        samples_list = torch.empty((0), dtype=torch.float32, device=device)\n",
        "\n",
        "        for i in range(N_iter):\n",
        "            z_pool = torch.randn(Z_dim, device=device)\n",
        "            prediction = ENN_trained(x, z_pool) #x is all data\n",
        "\n",
        "            #probabilities = torch.nn.functional.softmax(prediction, dim=1)\n",
        "            #probability_a = probabilities[:,0:1]\n",
        "            #prediction_a_list = torch.cat((prediction_list,probability_a),1)\n",
        "            distribution = Categorical(logits=prediction)\n",
        "            #print(prediction)\n",
        "            # Sample one entry from each distribution in the batch\n",
        "            samples = distribution.sample((1,))\n",
        "            #.unsqueeze(dim=1)\n",
        "            #print(\"samples_size:\", samples.shape)\n",
        "            samples_list = torch.cat((samples_list,samples),0)\n",
        "\n",
        "            #print(prediction_list)\n",
        "        #print(\"samples_list_size:\", samples_list.shape)\n",
        "        #print(\"prediction_list:\", prediction_list)\n",
        "        posterior_mean = torch.mean(samples_list, dim=0)\n",
        "        #print(\"posterior_mean:\", posterior_mean)\n",
        "        #print(x)\n",
        "        #print(\"posterior_mean_size:\", posterior_mean.shape)\n",
        "        posterior_std = torch.std(samples_list, dim=0)\n",
        "        print(\"posterior_std:\", posterior_std)\n",
        "        #print(\"posterior_std_size:\", posterior_std.shape)\n",
        "        #print(posterior_std)\n",
        "    elif UQ_module == 'simple_nn':\n",
        "        ENN_trained = SimpleNN_training(x_train, y_train, model_cfg, train_cfg, enn_cfg, device , if_print )\n",
        "        N_iter = UQ_parameter['N_iter_ENN']\n",
        "        #torch.manual_seed(1)\n",
        "        prediction_list = torch.empty((0), dtype=torch.float32, device=device)\n",
        "\n",
        "        for i in range(N_iter):\n",
        "            prediction = ENN_trained(x) #x is all data\n",
        "            prediction_list = torch.cat((prediction_list,prediction),1)\n",
        "            #print(prediction_list)\n",
        "        #print(\"prediction_list:\", prediction_list)\n",
        "        posterior_mean = torch.mean(prediction_list)\n",
        "        #print(\"posterior_mean:\", posterior_mean)\n",
        "        #print(posterior_mean)\n",
        "        posterior_std = torch.std(prediction_list)\n",
        "        #print(\"posterior_std:\", posterior_std)\n",
        "        #print(posterior_std)\n",
        "\n",
        "    plt.scatter(x,posterior_mean.detach().numpy())\n",
        "    plt.scatter(x.squeeze(),posterior_mean.detach().numpy()-2*posterior_std.detach().numpy(),alpha=0.2)\n",
        "    plt.scatter(x.squeeze(),posterior_mean.detach().numpy()+2*posterior_std.detach().numpy(),alpha=0.2)\n",
        "    #plt.ylim(-1, 1)\n",
        "    plt.title(UQ_module + '_Inference with ' + str(Option) +' points selected')\n",
        "    plt.show()\n",
        "    #l2_loss(test_x, test_y, Predictor, device)\n",
        "    dataset_final = TabularDataset(x = test_x, y = y_gp_new[num_init_train_samples:num_init_train_samples+num_test_samples*3])\n",
        "    dataloader_final = DataLoader(dataset_final, batch_size=model_config.batch_size_train, shuffle=False)\n",
        "    var_recall_estimator(ENN_trained, dataloader_final, Predictor, 0, device, None)\n",
        "\n",
        "UQ_parameter = {'N_iter_ENN':100}\n",
        "for Option in range(4):\n",
        "    for UQ_module in ['ENN']:\n",
        "\n",
        "        Inference(UQ_module, Option, UQ_parameter = UQ_parameter, if_print = 0)"
      ],
      "metadata": {
        "id": "eE-5DRar3ZR6",
        "colab": {
          "base_uri": "https://localhost:8080/",
          "height": 1000
        },
        "outputId": "33bd2b44-cf9a-49c5-c3ad-d1e83f73eca3"
      },
      "execution_count": null,
      "outputs": [
        {
          "output_type": "display_data",
          "data": {
            "text/plain": [
              "<Figure size 640x480 with 1 Axes>"
            ],
            "image/png": "[encoded data removed]"
          },
          "metadata": {}
        },
        {
          "output_type": "stream",
          "name": "stdout",
          "text": [
            "samples_size: torch.Size([1, 215])\n",
            "samples_size: torch.Size([1, 215])\n",
            "samples_size: torch.Size([1, 215])\n",
            "samples_size: torch.Size([1, 215])\n",
            "samples_size: torch.Size([1, 215])\n",
            "samples_size: torch.Size([1, 215])\n",
            "samples_size: torch.Size([1, 215])\n",
            "samples_size: torch.Size([1, 215])\n",
            "samples_size: torch.Size([1, 215])\n",
            "samples_size: torch.Size([1, 215])\n",
            "samples_size: torch.Size([1, 215])\n",
            "samples_size: torch.Size([1, 215])\n",
            "samples_size: torch.Size([1, 215])\n",
            "samples_size: torch.Size([1, 215])\n",
            "samples_size: torch.Size([1, 215])\n",
            "samples_size: torch.Size([1, 215])\n",
            "samples_size: torch.Size([1, 215])\n",
            "samples_size: torch.Size([1, 215])\n",
            "samples_size: torch.Size([1, 215])\n",
            "samples_size: torch.Size([1, 215])\n",
            "samples_size: torch.Size([1, 215])\n",
            "samples_size: torch.Size([1, 215])\n",
            "samples_size: torch.Size([1, 215])\n",
            "samples_size: torch.Size([1, 215])\n",
            "samples_size: torch.Size([1, 215])\n",
            "samples_size: torch.Size([1, 215])\n",
            "samples_size: torch.Size([1, 215])\n",
            "samples_size: torch.Size([1, 215])\n",
            "samples_size: torch.Size([1, 215])\n",
            "samples_size: torch.Size([1, 215])\n",
            "samples_size: torch.Size([1, 215])\n",
            "samples_size: torch.Size([1, 215])\n",
            "samples_size: torch.Size([1, 215])\n",
            "samples_size: torch.Size([1, 215])\n",
            "samples_size: torch.Size([1, 215])\n",
            "samples_size: torch.Size([1, 215])\n",
            "samples_size: torch.Size([1, 215])\n",
            "samples_size: torch.Size([1, 215])\n",
            "samples_size: torch.Size([1, 215])\n",
            "samples_size: torch.Size([1, 215])\n",
            "samples_size: torch.Size([1, 215])\n",
            "samples_size: torch.Size([1, 215])\n",
            "samples_size: torch.Size([1, 215])\n",
            "samples_size: torch.Size([1, 215])\n",
            "samples_size: torch.Size([1, 215])\n",
            "samples_size: torch.Size([1, 215])\n",
            "samples_size: torch.Size([1, 215])\n",
            "samples_size: torch.Size([1, 215])\n",
            "samples_size: torch.Size([1, 215])\n",
            "samples_size: torch.Size([1, 215])\n",
            "samples_size: torch.Size([1, 215])\n",
            "samples_size: torch.Size([1, 215])\n",
            "samples_size: torch.Size([1, 215])\n",
            "samples_size: torch.Size([1, 215])\n",
            "samples_size: torch.Size([1, 215])\n",
            "samples_size: torch.Size([1, 215])\n",
            "samples_size: torch.Size([1, 215])\n",
            "samples_size: torch.Size([1, 215])\n",
            "samples_size: torch.Size([1, 215])\n",
            "samples_size: torch.Size([1, 215])\n",
            "samples_size: torch.Size([1, 215])\n",
            "samples_size: torch.Size([1, 215])\n",
            "samples_size: torch.Size([1, 215])\n",
            "samples_size: torch.Size([1, 215])\n",
            "samples_size: torch.Size([1, 215])\n",
            "samples_size: torch.Size([1, 215])\n",
            "samples_size: torch.Size([1, 215])\n",
            "samples_size: torch.Size([1, 215])\n",
            "samples_size: torch.Size([1, 215])\n",
            "samples_size: torch.Size([1, 215])\n",
            "samples_size: torch.Size([1, 215])\n",
            "samples_size: torch.Size([1, 215])\n",
            "samples_size: torch.Size([1, 215])\n",
            "samples_size: torch.Size([1, 215])\n",
            "samples_size: torch.Size([1, 215])\n",
            "samples_size: torch.Size([1, 215])\n",
            "samples_size: torch.Size([1, 215])\n",
            "samples_size: torch.Size([1, 215])\n",
            "samples_size: torch.Size([1, 215])\n",
            "samples_size: torch.Size([1, 215])\n",
            "samples_size: torch.Size([1, 215])\n",
            "samples_size: torch.Size([1, 215])\n",
            "samples_size: torch.Size([1, 215])\n",
            "samples_size: torch.Size([1, 215])\n",
            "samples_size: torch.Size([1, 215])\n",
            "samples_size: torch.Size([1, 215])\n",
            "samples_size: torch.Size([1, 215])\n",
            "samples_size: torch.Size([1, 215])\n",
            "samples_size: torch.Size([1, 215])\n",
            "samples_size: torch.Size([1, 215])\n",
            "samples_size: torch.Size([1, 215])\n",
            "samples_size: torch.Size([1, 215])\n",
            "samples_size: torch.Size([1, 215])\n",
            "samples_size: torch.Size([1, 215])\n",
            "samples_size: torch.Size([1, 215])\n",
            "samples_size: torch.Size([1, 215])\n",
            "samples_size: torch.Size([1, 215])\n",
            "samples_size: torch.Size([1, 215])\n",
            "samples_size: torch.Size([1, 215])\n",
            "samples_size: torch.Size([1, 215])\n",
            "samples_list_size: torch.Size([100, 215])\n",
            "posterior_mean_size: torch.Size([215])\n",
            "posterior_std: tensor([0., 0., 0., 0., 0., 0., 0., 0., 0., 0., 0., 0., 0., 0., 0., 0., 0., 0., 0., 0., 0., 0., 0., 0.,\n",
            "        0., 0., 0., 0., 0., 0., 0., 0., 0., 0., 0., 0., 0., 0., 0., 0., 0., 0., 0., 0., 0., 0., 0., 0.,\n",
            "        0., 0., 0., 0., 0., 0., 0., 0., 0., 0., 0., 0., 0., 0., 0., 0., 0., 0., 0., 0., 0., 0., 0., 0.,\n",
            "        0., 0., 0., 0., 0., 0., 0., 0., 0., 0., 0., 0., 0., 0., 0., 0., 0., 0., 0., 0., 0., 0., 0., 0.,\n",
            "        0., 0., 0., 0., 0., 0., 0., 0., 0., 0., 0., 0., 0., 0., 0., 0., 0., 0., 0., 0., 0., 0., 0., 0.,\n",
            "        0., 0., 0., 0., 0., 0., 0., 0., 0., 0., 0., 0., 0., 0., 0., 0., 0., 0., 0., 0., 0., 0., 0., 0.,\n",
            "        0., 0., 0., 0., 0., 0., 0., 0., 0., 0., 0., 0., 0., 0., 0., 0., 0., 0., 0., 0., 0., 0., 0., 0.,\n",
            "        0., 0., 0., 0., 0., 0., 0., 0., 0., 0., 0., 0., 0., 0., 0., 0., 0., 0., 0., 0., 0., 0., 0., 0.,\n",
            "        0., 0., 0., 0., 0., 0., 0., 0., 0., 0., 0., 0., 0., 0., 0., 0., 0., 0., 0., 0., 0., 0., 0.])\n",
            "posterior_std_size: torch.Size([215])\n"
          ]
        },
        {
          "output_type": "display_data",
          "data": {
            "text/plain": [
              "<Figure size 640x480 with 1 Axes>"
            ],
            "image/png": "[encoded data removed]"
          },
          "metadata": {}
        },
        {
          "output_type": "stream",
          "name": "stdout",
          "text": [
            "recall list tensor([1., 1., 1., 1., 1., 1., 1., 1., 1., 1.], grad_fn=<CatBackward0>)\n",
            "var of recall: tensor(0., grad_fn=<SubBackward0>)\n",
            "mean of recall tensor(1., grad_fn=<MeanBackward0>)\n"
          ]
        },
        {
          "output_type": "display_data",
          "data": {
            "text/plain": [
              "<Figure size 640x480 with 1 Axes>"
            ],
            "image/png": "[encoded data removed]"
          },
          "metadata": {}
        },
        {
          "output_type": "stream",
          "name": "stdout",
          "text": [
            "samples_size: torch.Size([1, 215])\n",
            "samples_size: torch.Size([1, 215])\n",
            "samples_size: torch.Size([1, 215])\n",
            "samples_size: torch.Size([1, 215])\n",
            "samples_size: torch.Size([1, 215])\n",
            "samples_size: torch.Size([1, 215])\n",
            "samples_size: torch.Size([1, 215])\n",
            "samples_size: torch.Size([1, 215])\n",
            "samples_size: torch.Size([1, 215])\n",
            "samples_size: torch.Size([1, 215])\n",
            "samples_size: torch.Size([1, 215])\n",
            "samples_size: torch.Size([1, 215])\n",
            "samples_size: torch.Size([1, 215])\n",
            "samples_size: torch.Size([1, 215])\n",
            "samples_size: torch.Size([1, 215])\n",
            "samples_size: torch.Size([1, 215])\n",
            "samples_size: torch.Size([1, 215])\n",
            "samples_size: torch.Size([1, 215])\n",
            "samples_size: torch.Size([1, 215])\n",
            "samples_size: torch.Size([1, 215])\n",
            "samples_size: torch.Size([1, 215])\n",
            "samples_size: torch.Size([1, 215])\n",
            "samples_size: torch.Size([1, 215])\n",
            "samples_size: torch.Size([1, 215])\n",
            "samples_size: torch.Size([1, 215])\n",
            "samples_size: torch.Size([1, 215])\n",
            "samples_size: torch.Size([1, 215])\n",
            "samples_size: torch.Size([1, 215])\n",
            "samples_size: torch.Size([1, 215])\n",
            "samples_size: torch.Size([1, 215])\n",
            "samples_size: torch.Size([1, 215])\n",
            "samples_size: torch.Size([1, 215])\n",
            "samples_size: torch.Size([1, 215])\n",
            "samples_size: torch.Size([1, 215])\n",
            "samples_size: torch.Size([1, 215])\n",
            "samples_size: torch.Size([1, 215])\n",
            "samples_size: torch.Size([1, 215])\n",
            "samples_size: torch.Size([1, 215])\n",
            "samples_size: torch.Size([1, 215])\n",
            "samples_size: torch.Size([1, 215])\n",
            "samples_size: torch.Size([1, 215])\n",
            "samples_size: torch.Size([1, 215])\n",
            "samples_size: torch.Size([1, 215])\n",
            "samples_size: torch.Size([1, 215])\n",
            "samples_size: torch.Size([1, 215])\n",
            "samples_size: torch.Size([1, 215])\n",
            "samples_size: torch.Size([1, 215])\n",
            "samples_size: torch.Size([1, 215])\n",
            "samples_size: torch.Size([1, 215])\n",
            "samples_size: torch.Size([1, 215])\n",
            "samples_size: torch.Size([1, 215])\n",
            "samples_size: torch.Size([1, 215])\n",
            "samples_size: torch.Size([1, 215])\n",
            "samples_size: torch.Size([1, 215])\n",
            "samples_size: torch.Size([1, 215])\n",
            "samples_size: torch.Size([1, 215])\n",
            "samples_size: torch.Size([1, 215])\n",
            "samples_size: torch.Size([1, 215])\n",
            "samples_size: torch.Size([1, 215])\n",
            "samples_size: torch.Size([1, 215])\n",
            "samples_size: torch.Size([1, 215])\n",
            "samples_size: torch.Size([1, 215])\n",
            "samples_size: torch.Size([1, 215])\n",
            "samples_size: torch.Size([1, 215])\n",
            "samples_size: torch.Size([1, 215])\n",
            "samples_size: torch.Size([1, 215])\n",
            "samples_size: torch.Size([1, 215])\n",
            "samples_size: torch.Size([1, 215])\n",
            "samples_size: torch.Size([1, 215])\n",
            "samples_size: torch.Size([1, 215])\n",
            "samples_size: torch.Size([1, 215])\n",
            "samples_size: torch.Size([1, 215])\n",
            "samples_size: torch.Size([1, 215])\n",
            "samples_size: torch.Size([1, 215])\n",
            "samples_size: torch.Size([1, 215])\n",
            "samples_size: torch.Size([1, 215])\n",
            "samples_size: torch.Size([1, 215])\n",
            "samples_size: torch.Size([1, 215])\n",
            "samples_size: torch.Size([1, 215])\n",
            "samples_size: torch.Size([1, 215])\n",
            "samples_size: torch.Size([1, 215])\n",
            "samples_size: torch.Size([1, 215])\n",
            "samples_size: torch.Size([1, 215])\n",
            "samples_size: torch.Size([1, 215])\n",
            "samples_size: torch.Size([1, 215])\n",
            "samples_size: torch.Size([1, 215])\n",
            "samples_size: torch.Size([1, 215])\n",
            "samples_size: torch.Size([1, 215])\n",
            "samples_size: torch.Size([1, 215])\n",
            "samples_size: torch.Size([1, 215])\n",
            "samples_size: torch.Size([1, 215])\n",
            "samples_size: torch.Size([1, 215])\n",
            "samples_size: torch.Size([1, 215])\n",
            "samples_size: torch.Size([1, 215])\n",
            "samples_size: torch.Size([1, 215])\n",
            "samples_size: torch.Size([1, 215])\n",
            "samples_size: torch.Size([1, 215])\n",
            "samples_size: torch.Size([1, 215])\n",
            "samples_size: torch.Size([1, 215])\n",
            "samples_size: torch.Size([1, 215])\n",
            "samples_list_size: torch.Size([100, 215])\n",
            "posterior_mean_size: torch.Size([215])\n",
            "posterior_std: tensor([0.0000, 0.0000, 0.0000, 0.0000, 0.0000, 0.0000, 0.0000, 0.0000, 0.0000,\n",
            "        0.0000, 0.0000, 0.0000, 0.0000, 0.0000, 0.0000, 0.0000, 0.0000, 0.0000,\n",
            "        0.0000, 0.0000, 0.0000, 0.0000, 0.0000, 0.0000, 0.0000, 0.0000, 0.0000,\n",
            "        0.0000, 0.0000, 0.0000, 0.0000, 0.0000, 0.0000, 0.0000, 0.0000, 0.0000,\n",
            "        0.0000, 0.0000, 0.0000, 0.0000, 0.0000, 0.0000, 0.0000, 0.0000, 0.0000,\n",
            "        0.0000, 0.0000, 0.0000, 0.0000, 0.0000, 0.0000, 0.0000, 0.0000, 0.0000,\n",
            "        0.0000, 0.0000, 0.0000, 0.0000, 0.0000, 0.0000, 0.0000, 0.0000, 0.0000,\n",
            "        0.0000, 0.0000, 0.0000, 0.0000, 0.0000, 0.0000, 0.0000, 0.0000, 0.0000,\n",
            "        0.0000, 0.0000, 0.0000, 0.0000, 0.0000, 0.0000, 0.0000, 0.0000, 0.0000,\n",
            "        0.0000, 0.0000, 0.0000, 0.0000, 0.0000, 0.0000, 0.0000, 0.0000, 0.0000,\n",
            "        0.0000, 0.0000, 0.0000, 0.0000, 0.0000, 0.0000, 0.0000, 0.0000, 0.0000,\n",
            "        0.0000, 0.1407, 0.1000, 0.3266, 0.0000, 0.4352, 0.0000, 0.2190, 0.1000,\n",
            "        0.1969, 0.0000, 0.0000, 0.0000, 0.1407, 0.1407, 0.1407, 0.0000, 0.4230,\n",
            "        0.4852, 0.2727, 0.4292, 0.0000, 0.0000, 0.1714, 0.3589, 0.0000, 0.0000,\n",
            "        0.1407, 0.1000, 0.0000, 0.3861, 0.1000, 0.0000, 0.0000, 0.4824, 0.3943,\n",
            "        0.0000, 0.1407, 0.0000, 0.2190, 0.0000, 0.1000, 0.1969, 0.2727, 0.1000,\n",
            "        0.0000, 0.0000, 0.2564, 0.4606, 0.0000, 0.0000, 0.0000, 0.0000, 0.0000,\n",
            "        0.0000, 0.0000, 0.0000, 0.0000, 0.0000, 0.0000, 0.0000, 0.0000, 0.0000,\n",
            "        0.0000, 0.0000, 0.0000, 0.0000, 0.0000, 0.0000, 0.0000, 0.0000, 0.0000,\n",
            "        0.0000, 0.0000, 0.0000, 0.0000, 0.0000, 0.0000, 0.0000, 0.0000, 0.0000,\n",
            "        0.0000, 0.0000, 0.0000, 0.0000, 0.0000, 0.0000, 0.0000, 0.0000, 0.0000,\n",
            "        0.0000, 0.0000, 0.0000, 0.0000, 0.0000, 0.0000, 0.0000, 0.0000, 0.0000,\n",
            "        0.0000, 0.0000, 0.0000, 0.0000, 0.0000, 0.0000, 0.0000, 0.0000, 0.1714,\n",
            "        0.1407, 0.1407, 0.1407, 0.0000, 0.0000, 0.0000, 0.0000, 0.0000])\n",
            "posterior_std_size: torch.Size([215])\n"
          ]
        },
        {
          "output_type": "display_data",
          "data": {
            "text/plain": [
              "<Figure size 640x480 with 1 Axes>"
            ],
            "image/png": "[encoded data removed]"
          },
          "metadata": {}
        },
        {
          "output_type": "stream",
          "name": "stdout",
          "text": [
            "recall list tensor([1., 1., 1., 1., 1., 1., 1., 1., 1., 1.], grad_fn=<CatBackward0>)\n",
            "var of recall: tensor(0., grad_fn=<SubBackward0>)\n",
            "mean of recall tensor(1., grad_fn=<MeanBackward0>)\n"
          ]
        },
        {
          "output_type": "error",
          "ename": "KeyboardInterrupt",
          "evalue": "",
          "traceback": [
            "\u001b[0;31m---------------------------------------------------------------------------\u001b[0m",
            "\u001b[0;31mKeyboardInterrupt\u001b[0m                         Traceback (most recent call last)",
            "\u001b[0;32m<ipython-input-163-47a53791847f>\u001b[0m in \u001b[0;36m<cell line: 81>\u001b[0;34m()\u001b[0m\n\u001b[1;32m     82\u001b[0m     \u001b[0;32mfor\u001b[0m \u001b[0mUQ_module\u001b[0m \u001b[0;32min\u001b[0m \u001b[0;34m[\u001b[0m\u001b[0;34m'ENN'\u001b[0m\u001b[0;34m]\u001b[0m\u001b[0;34m:\u001b[0m\u001b[0;34m\u001b[0m\u001b[0;34m\u001b[0m\u001b[0m\n\u001b[1;32m     83\u001b[0m \u001b[0;34m\u001b[0m\u001b[0m\n\u001b[0;32m---> 84\u001b[0;31m         \u001b[0mInference\u001b[0m\u001b[0;34m(\u001b[0m\u001b[0mUQ_module\u001b[0m\u001b[0;34m,\u001b[0m \u001b[0mOption\u001b[0m\u001b[0;34m,\u001b[0m \u001b[0mUQ_parameter\u001b[0m \u001b[0;34m=\u001b[0m \u001b[0mUQ_parameter\u001b[0m\u001b[0;34m,\u001b[0m \u001b[0mif_print\u001b[0m \u001b[0;34m=\u001b[0m \u001b[0;36m0\u001b[0m\u001b[0;34m)\u001b[0m\u001b[0;34m\u001b[0m\u001b[0;34m\u001b[0m\u001b[0m\n\u001b[0m",
            "\u001b[0;32m<ipython-input-163-47a53791847f>\u001b[0m in \u001b[0;36mInference\u001b[0;34m(UQ_module, Option, if_print, UQ_parameter)\u001b[0m\n\u001b[1;32m     18\u001b[0m     \u001b[0;31m#x = x_train\u001b[0m\u001b[0;34m\u001b[0m\u001b[0;34m\u001b[0m\u001b[0m\n\u001b[1;32m     19\u001b[0m     \u001b[0;32mif\u001b[0m \u001b[0mUQ_module\u001b[0m \u001b[0;34m==\u001b[0m \u001b[0;34m'ENN'\u001b[0m\u001b[0;34m:\u001b[0m\u001b[0;34m\u001b[0m\u001b[0;34m\u001b[0m\u001b[0m\n\u001b[0;32m---> 20\u001b[0;31m         \u001b[0mENN_trained\u001b[0m \u001b[0;34m=\u001b[0m \u001b[0mENN_training\u001b[0m\u001b[0;34m(\u001b[0m\u001b[0mx_train\u001b[0m\u001b[0;34m,\u001b[0m \u001b[0my_train\u001b[0m\u001b[0;34m.\u001b[0m\u001b[0munsqueeze\u001b[0m\u001b[0;34m(\u001b[0m\u001b[0mdim\u001b[0m\u001b[0;34m=\u001b[0m\u001b[0;36m1\u001b[0m\u001b[0;34m)\u001b[0m\u001b[0;34m,\u001b[0m \u001b[0mmodel_config\u001b[0m\u001b[0;34m,\u001b[0m \u001b[0mtrain_cfg\u001b[0m\u001b[0;34m,\u001b[0m \u001b[0menn_config\u001b[0m\u001b[0;34m,\u001b[0m \u001b[0mdevice\u001b[0m \u001b[0;34m,\u001b[0m \u001b[0mif_print\u001b[0m \u001b[0;34m)\u001b[0m\u001b[0;34m\u001b[0m\u001b[0;34m\u001b[0m\u001b[0m\n\u001b[0m\u001b[1;32m     21\u001b[0m         \u001b[0mN_iter\u001b[0m \u001b[0;34m=\u001b[0m \u001b[0mUQ_parameter\u001b[0m\u001b[0;34m[\u001b[0m\u001b[0;34m'N_iter_ENN'\u001b[0m\u001b[0;34m]\u001b[0m\u001b[0;34m\u001b[0m\u001b[0;34m\u001b[0m\u001b[0m\n\u001b[1;32m     22\u001b[0m         \u001b[0;31m#torch.manual_seed(1)\u001b[0m\u001b[0;34m\u001b[0m\u001b[0;34m\u001b[0m\u001b[0m\n",
            "\u001b[0;32m<ipython-input-155-07488d24aafb>\u001b[0m in \u001b[0;36mENN_training\u001b[0;34m(x_train, y_train, model_config, train_config, enn_config, device, if_print)\u001b[0m\n\u001b[1;32m     38\u001b[0m             \u001b[0mz\u001b[0m \u001b[0;34m=\u001b[0m \u001b[0mtorch\u001b[0m\u001b[0;34m.\u001b[0m\u001b[0mrandn\u001b[0m\u001b[0;34m(\u001b[0m\u001b[0menn_config\u001b[0m\u001b[0;34m.\u001b[0m\u001b[0mz_dim\u001b[0m\u001b[0;34m,\u001b[0m \u001b[0mdevice\u001b[0m\u001b[0;34m=\u001b[0m\u001b[0mdevice\u001b[0m\u001b[0;34m)\u001b[0m   \u001b[0;31m#set seed for this  #set to_device for this\u001b[0m\u001b[0;34m\u001b[0m\u001b[0;34m\u001b[0m\u001b[0m\n\u001b[1;32m     39\u001b[0m             \u001b[0moptimizer_init\u001b[0m\u001b[0;34m.\u001b[0m\u001b[0mzero_grad\u001b[0m\u001b[0;34m(\u001b[0m\u001b[0;34m)\u001b[0m\u001b[0;34m\u001b[0m\u001b[0;34m\u001b[0m\u001b[0m\n\u001b[0;32m---> 40\u001b[0;31m             \u001b[0moutputs\u001b[0m \u001b[0;34m=\u001b[0m \u001b[0mENN\u001b[0m\u001b[0;34m(\u001b[0m\u001b[0minputs\u001b[0m\u001b[0;34m,\u001b[0m\u001b[0mz\u001b[0m\u001b[0;34m)\u001b[0m\u001b[0;34m\u001b[0m\u001b[0;34m\u001b[0m\u001b[0m\n\u001b[0m\u001b[1;32m     41\u001b[0m             \u001b[0;31m#print(\"outputs:\", outputs)\u001b[0m\u001b[0;34m\u001b[0m\u001b[0;34m\u001b[0m\u001b[0m\n\u001b[1;32m     42\u001b[0m             \u001b[0;31m#print(\"labels:\", labels)\u001b[0m\u001b[0;34m\u001b[0m\u001b[0;34m\u001b[0m\u001b[0m\n",
            "\u001b[0;32m/usr/local/lib/python3.10/dist-packages/torch/nn/modules/module.py\u001b[0m in \u001b[0;36m_wrapped_call_impl\u001b[0;34m(self, *args, **kwargs)\u001b[0m\n\u001b[1;32m   1509\u001b[0m             \u001b[0;32mreturn\u001b[0m \u001b[0mself\u001b[0m\u001b[0;34m.\u001b[0m\u001b[0m_compiled_call_impl\u001b[0m\u001b[0;34m(\u001b[0m\u001b[0;34m*\u001b[0m\u001b[0margs\u001b[0m\u001b[0;34m,\u001b[0m \u001b[0;34m**\u001b[0m\u001b[0mkwargs\u001b[0m\u001b[0;34m)\u001b[0m  \u001b[0;31m# type: ignore[misc]\u001b[0m\u001b[0;34m\u001b[0m\u001b[0;34m\u001b[0m\u001b[0m\n\u001b[1;32m   1510\u001b[0m         \u001b[0;32melse\u001b[0m\u001b[0;34m:\u001b[0m\u001b[0;34m\u001b[0m\u001b[0;34m\u001b[0m\u001b[0m\n\u001b[0;32m-> 1511\u001b[0;31m             \u001b[0;32mreturn\u001b[0m \u001b[0mself\u001b[0m\u001b[0;34m.\u001b[0m\u001b[0m_call_impl\u001b[0m\u001b[0;34m(\u001b[0m\u001b[0;34m*\u001b[0m\u001b[0margs\u001b[0m\u001b[0;34m,\u001b[0m \u001b[0;34m**\u001b[0m\u001b[0mkwargs\u001b[0m\u001b[0;34m)\u001b[0m\u001b[0;34m\u001b[0m\u001b[0;34m\u001b[0m\u001b[0m\n\u001b[0m\u001b[1;32m   1512\u001b[0m \u001b[0;34m\u001b[0m\u001b[0m\n\u001b[1;32m   1513\u001b[0m     \u001b[0;32mdef\u001b[0m \u001b[0m_call_impl\u001b[0m\u001b[0;34m(\u001b[0m\u001b[0mself\u001b[0m\u001b[0;34m,\u001b[0m \u001b[0;34m*\u001b[0m\u001b[0margs\u001b[0m\u001b[0;34m,\u001b[0m \u001b[0;34m**\u001b[0m\u001b[0mkwargs\u001b[0m\u001b[0;34m)\u001b[0m\u001b[0;34m:\u001b[0m\u001b[0;34m\u001b[0m\u001b[0;34m\u001b[0m\u001b[0m\n",
            "\u001b[0;32m/usr/local/lib/python3.10/dist-packages/torch/nn/modules/module.py\u001b[0m in \u001b[0;36m_call_impl\u001b[0;34m(self, *args, **kwargs)\u001b[0m\n\u001b[1;32m   1518\u001b[0m                 \u001b[0;32mor\u001b[0m \u001b[0m_global_backward_pre_hooks\u001b[0m \u001b[0;32mor\u001b[0m \u001b[0m_global_backward_hooks\u001b[0m\u001b[0;34m\u001b[0m\u001b[0;34m\u001b[0m\u001b[0m\n\u001b[1;32m   1519\u001b[0m                 or _global_forward_hooks or _global_forward_pre_hooks):\n\u001b[0;32m-> 1520\u001b[0;31m             \u001b[0;32mreturn\u001b[0m \u001b[0mforward_call\u001b[0m\u001b[0;34m(\u001b[0m\u001b[0;34m*\u001b[0m\u001b[0margs\u001b[0m\u001b[0;34m,\u001b[0m \u001b[0;34m**\u001b[0m\u001b[0mkwargs\u001b[0m\u001b[0;34m)\u001b[0m\u001b[0;34m\u001b[0m\u001b[0;34m\u001b[0m\u001b[0m\n\u001b[0m\u001b[1;32m   1521\u001b[0m \u001b[0;34m\u001b[0m\u001b[0m\n\u001b[1;32m   1522\u001b[0m         \u001b[0;32mtry\u001b[0m\u001b[0;34m:\u001b[0m\u001b[0;34m\u001b[0m\u001b[0;34m\u001b[0m\u001b[0m\n",
            "\u001b[0;32m<ipython-input-121-38d5e9c61503>\u001b[0m in \u001b[0;36mforward\u001b[0;34m(self, x, z)\u001b[0m\n\u001b[1;32m    121\u001b[0m \u001b[0;34m\u001b[0m\u001b[0m\n\u001b[1;32m    122\u001b[0m         \u001b[0;32mfor\u001b[0m \u001b[0mj\u001b[0m\u001b[0;34m,\u001b[0m \u001b[0mlearnable_epinet_layer\u001b[0m \u001b[0;32min\u001b[0m \u001b[0menumerate\u001b[0m\u001b[0;34m(\u001b[0m\u001b[0mself\u001b[0m\u001b[0;34m.\u001b[0m\u001b[0mlearnable_epinet_layers\u001b[0m\u001b[0;34m)\u001b[0m\u001b[0;34m:\u001b[0m\u001b[0;34m\u001b[0m\u001b[0;34m\u001b[0m\u001b[0m\n\u001b[0;32m--> 123\u001b[0;31m             \u001b[0mcombined_output\u001b[0m \u001b[0;34m=\u001b[0m \u001b[0mlearnable_epinet_layer\u001b[0m\u001b[0;34m(\u001b[0m\u001b[0mcombined_output\u001b[0m\u001b[0;34m)\u001b[0m\u001b[0;34m\u001b[0m\u001b[0;34m\u001b[0m\u001b[0m\n\u001b[0m\u001b[1;32m    124\u001b[0m \u001b[0;34m\u001b[0m\u001b[0m\n\u001b[1;32m    125\u001b[0m             \u001b[0;32mif\u001b[0m \u001b[0mj\u001b[0m \u001b[0;34m<\u001b[0m \u001b[0mlen\u001b[0m\u001b[0;34m(\u001b[0m\u001b[0mself\u001b[0m\u001b[0;34m.\u001b[0m\u001b[0mlearnable_epinet_layers\u001b[0m\u001b[0;34m)\u001b[0m \u001b[0;34m-\u001b[0m \u001b[0;36m1\u001b[0m\u001b[0;34m:\u001b[0m  \u001b[0;31m# Apply activation function except for the output layer\u001b[0m\u001b[0;34m\u001b[0m\u001b[0;34m\u001b[0m\u001b[0m\n",
            "\u001b[0;32m/usr/local/lib/python3.10/dist-packages/torch/nn/modules/module.py\u001b[0m in \u001b[0;36m_wrapped_call_impl\u001b[0;34m(self, *args, **kwargs)\u001b[0m\n\u001b[1;32m   1509\u001b[0m             \u001b[0;32mreturn\u001b[0m \u001b[0mself\u001b[0m\u001b[0;34m.\u001b[0m\u001b[0m_compiled_call_impl\u001b[0m\u001b[0;34m(\u001b[0m\u001b[0;34m*\u001b[0m\u001b[0margs\u001b[0m\u001b[0;34m,\u001b[0m \u001b[0;34m**\u001b[0m\u001b[0mkwargs\u001b[0m\u001b[0;34m)\u001b[0m  \u001b[0;31m# type: ignore[misc]\u001b[0m\u001b[0;34m\u001b[0m\u001b[0;34m\u001b[0m\u001b[0m\n\u001b[1;32m   1510\u001b[0m         \u001b[0;32melse\u001b[0m\u001b[0;34m:\u001b[0m\u001b[0;34m\u001b[0m\u001b[0;34m\u001b[0m\u001b[0m\n\u001b[0;32m-> 1511\u001b[0;31m             \u001b[0;32mreturn\u001b[0m \u001b[0mself\u001b[0m\u001b[0;34m.\u001b[0m\u001b[0m_call_impl\u001b[0m\u001b[0;34m(\u001b[0m\u001b[0;34m*\u001b[0m\u001b[0margs\u001b[0m\u001b[0;34m,\u001b[0m \u001b[0;34m**\u001b[0m\u001b[0mkwargs\u001b[0m\u001b[0;34m)\u001b[0m\u001b[0;34m\u001b[0m\u001b[0;34m\u001b[0m\u001b[0m\n\u001b[0m\u001b[1;32m   1512\u001b[0m \u001b[0;34m\u001b[0m\u001b[0m\n\u001b[1;32m   1513\u001b[0m     \u001b[0;32mdef\u001b[0m \u001b[0m_call_impl\u001b[0m\u001b[0;34m(\u001b[0m\u001b[0mself\u001b[0m\u001b[0;34m,\u001b[0m \u001b[0;34m*\u001b[0m\u001b[0margs\u001b[0m\u001b[0;34m,\u001b[0m \u001b[0;34m**\u001b[0m\u001b[0mkwargs\u001b[0m\u001b[0;34m)\u001b[0m\u001b[0;34m:\u001b[0m\u001b[0;34m\u001b[0m\u001b[0;34m\u001b[0m\u001b[0m\n",
            "\u001b[0;32m/usr/local/lib/python3.10/dist-packages/torch/nn/modules/module.py\u001b[0m in \u001b[0;36m_call_impl\u001b[0;34m(self, *args, **kwargs)\u001b[0m\n\u001b[1;32m   1518\u001b[0m                 \u001b[0;32mor\u001b[0m \u001b[0m_global_backward_pre_hooks\u001b[0m \u001b[0;32mor\u001b[0m \u001b[0m_global_backward_hooks\u001b[0m\u001b[0;34m\u001b[0m\u001b[0;34m\u001b[0m\u001b[0m\n\u001b[1;32m   1519\u001b[0m                 or _global_forward_hooks or _global_forward_pre_hooks):\n\u001b[0;32m-> 1520\u001b[0;31m             \u001b[0;32mreturn\u001b[0m \u001b[0mforward_call\u001b[0m\u001b[0;34m(\u001b[0m\u001b[0;34m*\u001b[0m\u001b[0margs\u001b[0m\u001b[0;34m,\u001b[0m \u001b[0;34m**\u001b[0m\u001b[0mkwargs\u001b[0m\u001b[0;34m)\u001b[0m\u001b[0;34m\u001b[0m\u001b[0;34m\u001b[0m\u001b[0m\n\u001b[0m\u001b[1;32m   1521\u001b[0m \u001b[0;34m\u001b[0m\u001b[0m\n\u001b[1;32m   1522\u001b[0m         \u001b[0;32mtry\u001b[0m\u001b[0;34m:\u001b[0m\u001b[0;34m\u001b[0m\u001b[0;34m\u001b[0m\u001b[0m\n",
            "\u001b[0;32m/usr/local/lib/python3.10/dist-packages/torch/nn/modules/linear.py\u001b[0m in \u001b[0;36mforward\u001b[0;34m(self, input)\u001b[0m\n\u001b[1;32m    114\u001b[0m \u001b[0;34m\u001b[0m\u001b[0m\n\u001b[1;32m    115\u001b[0m     \u001b[0;32mdef\u001b[0m \u001b[0mforward\u001b[0m\u001b[0;34m(\u001b[0m\u001b[0mself\u001b[0m\u001b[0;34m,\u001b[0m \u001b[0minput\u001b[0m\u001b[0;34m:\u001b[0m \u001b[0mTensor\u001b[0m\u001b[0;34m)\u001b[0m \u001b[0;34m->\u001b[0m \u001b[0mTensor\u001b[0m\u001b[0;34m:\u001b[0m\u001b[0;34m\u001b[0m\u001b[0;34m\u001b[0m\u001b[0m\n\u001b[0;32m--> 116\u001b[0;31m         \u001b[0;32mreturn\u001b[0m \u001b[0mF\u001b[0m\u001b[0;34m.\u001b[0m\u001b[0mlinear\u001b[0m\u001b[0;34m(\u001b[0m\u001b[0minput\u001b[0m\u001b[0;34m,\u001b[0m \u001b[0mself\u001b[0m\u001b[0;34m.\u001b[0m\u001b[0mweight\u001b[0m\u001b[0;34m,\u001b[0m \u001b[0mself\u001b[0m\u001b[0;34m.\u001b[0m\u001b[0mbias\u001b[0m\u001b[0;34m)\u001b[0m\u001b[0;34m\u001b[0m\u001b[0;34m\u001b[0m\u001b[0m\n\u001b[0m\u001b[1;32m    117\u001b[0m \u001b[0;34m\u001b[0m\u001b[0m\n\u001b[1;32m    118\u001b[0m     \u001b[0;32mdef\u001b[0m \u001b[0mextra_repr\u001b[0m\u001b[0;34m(\u001b[0m\u001b[0mself\u001b[0m\u001b[0;34m)\u001b[0m \u001b[0;34m->\u001b[0m \u001b[0mstr\u001b[0m\u001b[0;34m:\u001b[0m\u001b[0;34m\u001b[0m\u001b[0;34m\u001b[0m\u001b[0m\n",
            "\u001b[0;32m/usr/local/lib/python3.10/dist-packages/torch/nn/modules/module.py\u001b[0m in \u001b[0;36m__getattr__\u001b[0;34m(self, name)\u001b[0m\n\u001b[1;32m   1673\u001b[0m     \u001b[0;31m# See full discussion on the problems with returning `Union` here\u001b[0m\u001b[0;34m\u001b[0m\u001b[0;34m\u001b[0m\u001b[0m\n\u001b[1;32m   1674\u001b[0m     \u001b[0;31m# https://github.com/microsoft/pyright/issues/4213\u001b[0m\u001b[0;34m\u001b[0m\u001b[0;34m\u001b[0m\u001b[0m\n\u001b[0;32m-> 1675\u001b[0;31m     \u001b[0;32mdef\u001b[0m \u001b[0m__getattr__\u001b[0m\u001b[0;34m(\u001b[0m\u001b[0mself\u001b[0m\u001b[0;34m,\u001b[0m \u001b[0mname\u001b[0m\u001b[0;34m:\u001b[0m \u001b[0mstr\u001b[0m\u001b[0;34m)\u001b[0m \u001b[0;34m->\u001b[0m \u001b[0mAny\u001b[0m\u001b[0;34m:\u001b[0m\u001b[0;34m\u001b[0m\u001b[0;34m\u001b[0m\u001b[0m\n\u001b[0m\u001b[1;32m   1676\u001b[0m         \u001b[0;32mif\u001b[0m \u001b[0;34m'_parameters'\u001b[0m \u001b[0;32min\u001b[0m \u001b[0mself\u001b[0m\u001b[0;34m.\u001b[0m\u001b[0m__dict__\u001b[0m\u001b[0;34m:\u001b[0m\u001b[0;34m\u001b[0m\u001b[0;34m\u001b[0m\u001b[0m\n\u001b[1;32m   1677\u001b[0m             \u001b[0m_parameters\u001b[0m \u001b[0;34m=\u001b[0m \u001b[0mself\u001b[0m\u001b[0;34m.\u001b[0m\u001b[0m__dict__\u001b[0m\u001b[0;34m[\u001b[0m\u001b[0;34m'_parameters'\u001b[0m\u001b[0;34m]\u001b[0m\u001b[0;34m\u001b[0m\u001b[0;34m\u001b[0m\u001b[0m\n",
            "\u001b[0;31mKeyboardInterrupt\u001b[0m: "
          ]
        }
      ]
    },
    {
      "cell_type": "markdown",
      "source": [
        "#**Creating the dataset for the pipeline testing**"
      ],
      "metadata": {
        "id": "-MG7NUqo5XNG"
      }
    },
    {
      "cell_type": "code",
      "source": [
        "num_init_train_samples = 20\n",
        "num_pool_samples = 5\n",
        "num_test_samples = 20\n",
        "\n",
        "input_dim = 1"
      ],
      "metadata": {
        "id": "UihfgsDy3blg"
      },
      "execution_count": null,
      "outputs": []
    },
    {
      "cell_type": "code",
      "source": [
        "init_train_x = torch.rand((num_init_train_samples, input_dim))*50.0/500.0-0.225\n",
        "\n",
        "test_x_1 = torch.rand((num_test_samples, input_dim))*50.0/500.0-0.225\n",
        "test_x_2 = 75.0/500.0 + torch.rand((num_test_samples, input_dim))*50.0/500.0-0.225\n",
        "test_x_3 = 175.0/500.0 + torch.rand((num_test_samples, input_dim))*50.0/500.0-0.225\n",
        "\n",
        "test_x = torch.cat([test_x_1,test_x_2,test_x_3])\n",
        "\n",
        "pool_x_1 = 24/500.0 + torch.rand((num_pool_samples, input_dim))*2/500.0-0.225\n",
        "pool_x_2 = 99/500.0 + torch.rand((num_pool_samples, input_dim))*2/500.0-0.225\n",
        "pool_x_3 = 199/500.0 + torch.rand((num_pool_samples, input_dim))*2/500.0-0.225\n",
        "\n",
        "pool_x = torch.cat([pool_x_1,pool_x_2,pool_x_3])\n",
        "\n",
        "x = torch.cat([init_train_x,test_x,pool_x])\n",
        "y = torch.zeros(num_init_train_samples+3*num_pool_samples+3*num_test_samples)\n",
        "\n",
        "init_train_x_numpy = init_train_x.numpy()\n",
        "init_train_y = torch.zeros(init_train_x.size(0))\n",
        "test_x_numpy = test_x.numpy()\n",
        "test_y = torch.ones(test_x.size(0))\n",
        "pool_x_numpy = pool_x.numpy()\n",
        "pool_y = torch.empty(pool_x.size(0)).fill_(0.5)\n",
        "\n",
        "\n",
        "plt.scatter(init_train_x_numpy, init_train_y.numpy(), s=20, label='train')\n",
        "plt.scatter(test_x_numpy, test_y.numpy(), s=20, label='test')\n",
        "plt.scatter(pool_x_numpy, pool_y.numpy(), s=20, label='pool')\n",
        "\n",
        "plt.yticks([])  # Hide y-axis ticks\n",
        "plt.xlabel('X values')\n",
        "plt.legend()\n",
        "plt.title('Distribution of X values along a real line')\n",
        "plt.show()"
      ],
      "metadata": {
        "id": "eLVHpT5f3deN"
      },
      "execution_count": null,
      "outputs": []
    },
    {
      "cell_type": "code",
      "source": [
        "# Define parameters for the model\n",
        "mean_constant = 0.0  # Mean of the GP\n",
        "length_scale = 25.0/500.0   # Length scale of the RBF kernel\n",
        "noise_std = 0.1    # Standard deviation of the noise\n",
        "output_scale = 5.0\n",
        "\n",
        "\n",
        "mean_module = gpytorch.means.ConstantMean()\n",
        "base_kernel = gpytorch.kernels.ScaleKernel(gpytorch.kernels.RBFKernel())\n",
        "likelihood = gpytorch.likelihoods.GaussianLikelihood()\n",
        "\n",
        "\n",
        "mean_module.constant = mean_constant\n",
        "base_kernel.base_kernel.lengthscale = length_scale\n",
        "base_kernel.base_kernel.output_scale = output_scale\n",
        "likelihood.noise_covar.noise = noise_std**2\n",
        "\n",
        "class CustomizableGPModel(gpytorch.models.ExactGP):\n",
        "    def __init__(self, train_x, train_y, mean_module, base_kernel, likelihood):\n",
        "        super(CustomizableGPModel, self).__init__(train_x, train_y, likelihood)\n",
        "        self.mean_module = mean_module\n",
        "        self.covar_module = base_kernel\n",
        "        self.likelihood = likelihood\n",
        "\n",
        "    def forward(self, x):\n",
        "        return gpytorch.distributions.MultivariateNormal(self.mean_module(x), self.covar_module(x))\n",
        "\n",
        "\n",
        "model = CustomizableGPModel(x, y, mean_module, base_kernel, likelihood)\n",
        "\n",
        "torch.manual_seed(1)\n",
        "# Sample from the prior for training data\n",
        "model.eval()\n",
        "likelihood.eval()\n",
        "with torch.no_grad():\n",
        "    prior_dist = likelihood(model(x))\n",
        "    y_new = 5*prior_dist.sample()"
      ],
      "metadata": {
        "id": "Mio4Kgib3gbp"
      },
      "execution_count": null,
      "outputs": []
    },
    {
      "cell_type": "code",
      "source": [
        "y_new = x.squeeze()"
      ],
      "metadata": {
        "id": "46917no63ihw"
      },
      "execution_count": null,
      "outputs": []
    },
    {
      "cell_type": "code",
      "source": [
        "Z_dim = 8\n",
        "lr_enn = 0.02\n",
        "wd_enn = 0\n",
        "n_steps = 200\n",
        "Basenet_hidden_sizes = [50,50]\n",
        "Exposed_layers = [False, True]\n",
        "Learnable_epinet_hiddens = [15,15]\n",
        "Hidden_sizes_prior = [5,5]\n",
        "Alpha =5.0\n",
        "model_cfg = ModelConfig(batch_size_train = 10000, batch_size_test = 500, batch_size_query = 100, temp_k_subset = 0.1, hidden_sizes_weight_NN = [50,50], meta_opt_lr = 0.01, n_classes = 1, n_epoch = 5, init_train_lr = lr_enn, init_train_weight_decay = wd_enn, n_train_init = n_steps, meta_opt_weight_decay = 0.01)\n",
        "train_cfg = TrainConfig(n_train_iter = 500, n_ENN_iter = 1000, ENN_opt_lr = 0.01, N_iter_noise = 10, sigma_noise = 0.5, seed_var_l2 = 123, z_dim = Z_dim, N_iter = 100, ENN_opt_weight_decay = 0.0001) #temp_var_recall is the new variable added here\n",
        "enn_cfg = ENNConfig(basenet_hidden_sizes = Basenet_hidden_sizes,  exposed_layers = Exposed_layers, z_dim = Z_dim, learnable_epinet_hiddens = Learnable_epinet_hiddens, hidden_sizes_prior = Hidden_sizes_prior, seed_base = 2, seed_learnable_epinet = 1, seed_prior_epinet = 0, alpha = Alpha)\n",
        "device = torch.device(\"cuda\" if torch.cuda.is_available() else \"cpu\")\n",
        "\n",
        "x = torch.cat([init_train_x,test_x,pool_x])"
      ],
      "metadata": {
        "id": "QXq5g8_G3lCt"
      },
      "execution_count": null,
      "outputs": []
    },
    {
      "cell_type": "code",
      "source": [
        "\n",
        "def Inference(UQ_module, Option, if_print, UQ_parameter = []):\n",
        "    #x = torch.cat([init_train_x,test_x,pool_x])\n",
        "    if Option == 0: #only training\n",
        "        #x_train, y_train = x, y_new\n",
        "        x_train, y_train = x[:num_init_train_samples], y_new[:num_init_train_samples]\n",
        "    elif Option == 1: # select 2nd point\n",
        "        x_train = torch.cat([x[:num_init_train_samples],x[num_init_train_samples+num_test_samples*3+num_pool_samples*3-2:]])\n",
        "        y_train = torch.cat([y_new[:num_init_train_samples],y_new[num_init_train_samples+num_test_samples*3+num_pool_samples*3-2:]])\n",
        "    elif Option == 2:\n",
        "        #x_train = torch.cat([x[:num_init_train_samples],x[num_init_train_samples+num_test_samples*3+num_pool_samples:num_init_train_samples+num_test_samples*3+num_pool_samples*2],x[-1*num_pool_samples:]])\n",
        "        #y_train = torch.cat([y_new[:num_init_train_samples],y[num_init_train_samples+num_test_samples*3+num_pool_samples:num_init_train_samples+num_test_samples*3+num_pool_samples*2],y_new[-1**num_pool_samples:]])\n",
        "        x_train = torch.cat([x[:num_init_train_samples],x[num_init_train_samples+num_test_samples*3+num_pool_samples+1:num_init_train_samples+num_test_samples*3+num_pool_samples*2+2],x[num_init_train_samples+num_test_samples*3+num_pool_samples*3-1:]])\n",
        "        y_train = torch.cat([y_new[:num_init_train_samples],y_new[num_init_train_samples+num_test_samples*3+num_pool_samples+1:num_init_train_samples+num_test_samples*3+num_pool_samples*2+2],y_new[num_init_train_samples+num_test_samples*3+num_pool_samples*3-1:]])\n",
        "    elif Option == 3:\n",
        "        x_train = x[-3*num_pool_samples:]\n",
        "        y_train = y_new[-3*num_pool_samples:]\n",
        "    #print(x_train.shape, y_train.shape)\n",
        "    #x = x_train\n",
        "    if UQ_module == 'Gaussian_Process':\n",
        "        print(\"x_train:\", x_train.shape)\n",
        "        print(\"y_train:\", y_train.shape)\n",
        "        model.set_train_data(inputs = x_train, targets = y_train, strict=False)       ####### CAN ALSO USE TRAINING OVER NLL HERE########\n",
        "\n",
        "        ### IMP LINK - https://github.com/cornellius-gp/gpytorch/issues/1409\n",
        "        ### IMP LINK - https://docs.gpytorch.ai/en/latest/examples/01_Exact_GPs/Simple_GP_Regression.html\n",
        "        posterior = likelihood(model(x))\n",
        "        posterior_mean = posterior.mean\n",
        "        posterior_std = torch.sqrt(posterior.variance)\n",
        "    elif UQ_module == 'ENN':\n",
        "        ENN_trained = ENN_training(x_train, y_train.unsqueeze(dim=1), model_cfg, train_cfg, enn_cfg, device , if_print )\n",
        "        N_iter = UQ_parameter['N_iter_ENN']\n",
        "        #torch.manual_seed(1)\n",
        "        prediction_list = torch.empty((0), dtype=torch.float32, device=device)\n",
        "\n",
        "        for i in range(N_iter):\n",
        "            z_pool = torch.randn(Z_dim, device=device)\n",
        "            prediction = ENN_trained(x, z_pool) #x is all data\n",
        "            prediction_list = torch.cat((prediction_list,prediction),1)\n",
        "            #print(prediction_list)\n",
        "\n",
        "        #print(\"prediction_list:\", prediction_list)\n",
        "        posterior_mean = torch.mean(prediction_list, axis = 1)\n",
        "        #print(\"posterior_mean:\", posterior_mean)\n",
        "        #print(posterior_mean)\n",
        "        posterior_std = torch.std(prediction_list, axis = 1)\n",
        "        #print(\"posterior_std:\", posterior_std)\n",
        "        #print(posterior_std)\n",
        "    elif UQ_module == 'simple_nn':\n",
        "        ENN_trained = SimpleNN_training(x_train, y_train, model_cfg, train_cfg, enn_cfg, device , if_print )\n",
        "        N_iter = UQ_parameter['N_iter_ENN']\n",
        "        #torch.manual_seed(1)\n",
        "        prediction_list = torch.empty((0), dtype=torch.float32, device=device)\n",
        "\n",
        "        for i in range(N_iter):\n",
        "            prediction = ENN_trained(x) #x is all data\n",
        "            prediction_list = torch.cat((prediction_list,prediction),1)\n",
        "            #print(prediction_list)\n",
        "        #print(\"prediction_list:\", prediction_list)\n",
        "        posterior_mean = torch.mean(prediction_list, axis = 1)\n",
        "        #print(\"posterior_mean:\", posterior_mean)\n",
        "        #print(posterior_mean)\n",
        "        posterior_std = torch.std(prediction_list, axis = 1)\n",
        "        #print(\"posterior_std:\", posterior_std)\n",
        "        #print(posterior_std)\n",
        "\n",
        "    plt.scatter(x,posterior_mean.detach().numpy())\n",
        "    plt.scatter(x.squeeze(),posterior_mean.detach().numpy()-2*posterior_std.detach().numpy(),alpha=0.2)\n",
        "    plt.scatter(x.squeeze(),posterior_mean.detach().numpy()+2*posterior_std.detach().numpy(),alpha=0.2)\n",
        "    plt.ylim(-1, 1)\n",
        "    plt.title(UQ_module + '_Inference with ' + str(Option) +' points selected')\n",
        "    plt.show()\n",
        "    #l2_loss(test_x, test_y, Predictor, device)\n",
        "    var_l2_loss_estimator(ENN_trained, test_x, Predictor, device, None)\n",
        "\n",
        "UQ_parameter = {'N_iter_ENN':100}\n",
        "for Option in range(4):\n",
        "    for UQ_module in ['ENN']:\n",
        "\n",
        "        Inference(UQ_module, Option, UQ_parameter = UQ_parameter, if_print = 0)"
      ],
      "metadata": {
        "id": "SPjl-btz3nPA"
      },
      "execution_count": null,
      "outputs": []
    },
    {
      "cell_type": "markdown",
      "source": [
        "#**ENN training pipeline**"
      ],
      "metadata": {
        "id": "h_XNLmQK5dJc"
      }
    },
    {
      "cell_type": "code",
      "source": [
        "device = torch.device('cuda' if torch.cuda.is_available() else 'cpu')"
      ],
      "metadata": {
        "id": "2X0AZPb63q-P"
      },
      "execution_count": null,
      "outputs": []
    },
    {
      "cell_type": "code",
      "source": [
        "import torch\n",
        "from torch import Tensor\n",
        "import numpy as np\n",
        "\n",
        "EPSILON = np.finfo(np.float32).tiny\n",
        "\n",
        "class SubsetOperator(torch.nn.Module):\n",
        "    def __init__(self, k, device, tau=1.0, hard=False):            # k is the number of samples we want, tau is the temperature parameter, hard:denotes if we want hard or soft samples\n",
        "        super(SubsetOperator, self).__init__()\n",
        "        self.k = k\n",
        "        self.hard = hard\n",
        "        self.tau = tau\n",
        "        self.device=device\n",
        "\n",
        "    def forward(self, scores):                                # scores take in weights of each sample      # scores: Typical shape: [batch_size,n] or [batch_size,n,1]\n",
        "        m = torch.distributions.gumbel.Gumbel(torch.zeros_like(scores), torch.ones_like(scores))\n",
        "        g = m.sample()\n",
        "        scores = scores + g\n",
        "        print(\"g:\", g)\n",
        "\n",
        "        # continuous top k  (we can later modify this to also output S_WRS, we will just need each onehot_approx to be stored seperately - then it will give k soft vectors)\n",
        "        khot = torch.zeros_like(scores)\n",
        "        onehot_approx = torch.zeros_like(scores)\n",
        "        for i in range(self.k):\n",
        "            khot_mask = torch.max(1.0 - onehot_approx, torch.tensor([EPSILON], device=self.device))            # we can autodiff through this, there is no issue .\n",
        "            # khot_mask = torch.max(1.0 - onehot_approx, torch.tensor([EPSILON]).cuda())      #CHECK MIGHT NEED TO PUT DEVICE HERE,\n",
        "            scores = scores + torch.log(khot_mask)\n",
        "            onehot_approx = torch.nn.functional.softmax(scores / self.tau, dim=1)\n",
        "            khot = khot + onehot_approx\n",
        "\n",
        "        if self.hard:\n",
        "            # will do straight through estimation if training\n",
        "            khot_hard = torch.zeros_like(khot)\n",
        "            val, ind = torch.topk(khot, self.k, dim=1)\n",
        "            khot_hard = khot_hard.scatter_(1, ind, 1)\n",
        "            res = khot_hard - khot.detach() + khot\n",
        "        else:\n",
        "            res = khot\n",
        "\n",
        "        return res"
      ],
      "metadata": {
        "id": "CCo3Yx9P3tAX"
      },
      "execution_count": null,
      "outputs": []
    },
    {
      "cell_type": "code",
      "source": [
        "def weighted_l2_loss(prediction, targets, weights):\n",
        "    #print(\"targets:\", targets)\n",
        "    #print(\"prediction:\", prediction)\n",
        "    l2_loss = torch.square(torch.subtract(targets, prediction))\n",
        "    #print(\"l2_loss:\", l2_loss)\n",
        "    weighted_loss = l2_loss.squeeze() * weights\n",
        "    #print(\"weighted_loss:\", weighted_loss)\n",
        "    return weighted_loss.sum()"
      ],
      "metadata": {
        "id": "vyc39XaX3uz1"
      },
      "execution_count": null,
      "outputs": []
    },
    {
      "cell_type": "code",
      "source": [
        "init_train_y_new = y_new[:num_init_train_samples]\n",
        "\n",
        "test_y_new = y_new[num_init_train_samples:num_init_train_samples+num_test_samples*3]\n",
        "\n",
        "pool_y_new = y_new[num_init_train_samples+num_test_samples*3:]"
      ],
      "metadata": {
        "id": "70YyWh8e3weh"
      },
      "execution_count": null,
      "outputs": []
    },
    {
      "cell_type": "code",
      "source": [
        "import math"
      ],
      "metadata": {
        "id": "vnOSlbIQ3yTq"
      },
      "execution_count": null,
      "outputs": []
    },
    {
      "cell_type": "code",
      "source": [
        "def train(ENN, init_train_x, init_train_y, pool_x, pool_y, test_x, test_y, device, train_config, enn_config, NN_weights, meta_opt, SubsetOperator, Predictor, seed, if_print = True):\n",
        "  meta_loss_list = []\n",
        "  ENN.train()\n",
        "\n",
        "\n",
        "  for i in range(train_config.n_train_iter):    # Should we do this multiple times or not\n",
        "    start_time = time.time()\n",
        "\n",
        "    meta_opt.zero_grad()\n",
        "\n",
        "    #pool_weights = NN_weights(pool_x)   #pool_weights has shape [pool_size,1]\n",
        "    #pool_weights_t = pool_weights.t()  #convert pool_weights to shape [1, pool_size]\n",
        "\n",
        "    #set seed\n",
        "\n",
        "    NN_weights_unsqueezed = NN_weights.unsqueeze(0)\n",
        "    soft_k_vector = SubsetOperator(NN_weights_unsqueezed)\n",
        "    soft_k_vector_squeeze = soft_k_vector.squeeze()\n",
        "    clipped_soft_k_vector_squeeze = torch.clamp(soft_k_vector_squeeze, min=-float('inf'), max=1.0)\n",
        "    print(clipped_soft_k_vector_squeeze)\n",
        "\n",
        "\n",
        "    input_feature_size = init_train_x.size(1)\n",
        "    init_train_batch_size = init_train_x.size(0)\n",
        "\n",
        "\n",
        "    y_gp = (torch.cat([init_train_y,pool_y], dim=0)).unsqueeze(dim=1)      ####################################### very important  #################################################\n",
        "    x_gp = torch.cat([init_train_x,pool_x], dim=0)\n",
        "    w_train = torch.ones(init_train_batch_size, requires_grad = True)\n",
        "    w_gp = torch.cat([w_train,clipped_soft_k_vector_squeeze])\n",
        "\n",
        "    ENN_opt = torch.optim.Adam(ENN.parameters(), lr=train_config.ENN_opt_lr, weight_decay=train_config.ENN_opt_weight_decay)\n",
        "    enn_loss_list = []\n",
        "    with higher.innerloop_ctx(ENN, ENN_opt, copy_initial_weights=False) as (fnet, diffopt):\n",
        "      for i in range(train_config.n_ENN_iter):\n",
        "          total_loss = 0\n",
        "          for j in range(100):\n",
        "              z = torch.randn(enn_config.z_dim, device=device)\n",
        "              outputs = fnet(x_gp,z)\n",
        "\n",
        "            #labels = torch.tensor(labels, dtype=torch.long, device=device)\n",
        "              total_loss += weighted_l2_loss(outputs, y_gp, w_gp)\n",
        "          diffopt.step(total_loss)\n",
        "          enn_loss_list.append(float(total_loss.detach().to('cpu').numpy()))\n",
        "\n",
        "      plt.plot(list(range(len(enn_loss_list))),enn_loss_list)\n",
        "      plt.title('ENN loss vs training iter')\n",
        "      plt.show()\n",
        "\n",
        "      var_square_loss = var_l2_loss_estimator(fnet, test_x, Predictor, device, None)\n",
        "      var_square_loss.backward()\n",
        "      meta_opt.step()\n",
        "      print(\"NN_weights:\", NN_weights)\n",
        "      l_2_loss_actual = l2_loss(test_x, test_y, Predictor, device)\n",
        "\n"
      ],
      "metadata": {
        "id": "YNjijDAH30O_"
      },
      "execution_count": null,
      "outputs": []
    },
    {
      "cell_type": "code",
      "source": [
        "Z_dim = 8\n",
        "lr_enn = 0.02\n",
        "wd_enn = 0\n",
        "n_steps = 200\n",
        "Basenet_hidden_sizes = [50,50]\n",
        "Exposed_layers = [False, True]\n",
        "Learnable_epinet_hiddens = [15,15]\n",
        "Hidden_sizes_prior = [5,5]\n",
        "Alpha =5.0\n",
        "model_cfg = ModelConfig(batch_size_train = 10000, batch_size_test = 500, batch_size_query = 2, temp_k_subset = 0.1, hidden_sizes_weight_NN = [50,50], meta_opt_lr = 0.2, n_classes = 1, n_epoch = 5, init_train_lr = lr_enn, init_train_weight_decay = wd_enn, n_train_init = n_steps, meta_opt_weight_decay = 0.000)\n",
        "train_cfg = TrainConfig(n_train_iter = 1000, n_ENN_iter = n_steps, ENN_opt_lr = lr_enn, N_iter_noise = 10, sigma_noise = 0.5, seed_var_l2 = 123, z_dim = Z_dim, N_iter = 100, ENN_opt_weight_decay = wd_enn) #temp_var_recall is the new variable added here\n",
        "enn_cfg = ENNConfig(basenet_hidden_sizes = Basenet_hidden_sizes,  exposed_layers = Exposed_layers, z_dim = Z_dim, learnable_epinet_hiddens = Learnable_epinet_hiddens, hidden_sizes_prior = Hidden_sizes_prior, seed_base = 2, seed_learnable_epinet = 1, seed_prior_epinet = 0, alpha = Alpha)\n",
        "device = torch.device(\"cuda\" if torch.cuda.is_available() else \"cpu\")\n",
        "\n",
        "x = torch.cat([init_train_x,test_x,pool_x])\n",
        "\n",
        "ENN = basenet_with_learnable_epinet_and_ensemble_prior(1, enn_cfg.basenet_hidden_sizes, model_cfg.n_classes, enn_cfg.exposed_layers, enn_cfg.z_dim, enn_cfg.learnable_epinet_hiddens, enn_cfg.hidden_sizes_prior, enn_cfg.seed_base, enn_cfg.seed_learnable_epinet, enn_cfg.seed_prior_epinet, enn_cfg.alpha).to(device)\n",
        "\n"
      ],
      "metadata": {
        "id": "6WS7oXgA32CV"
      },
      "execution_count": null,
      "outputs": []
    },
    {
      "cell_type": "code",
      "source": [
        "input_feature_size = init_train_x.size(1)\n",
        "#NN_weights = NN_feature_weights(input_feature_size, model_config.hidden_sizes_weight_NN, 1).to(device)\n",
        "tensor_size = pool_x.size(0) #  This could be tensor.shape[0] for the first dimension size, for example\n",
        "SubsetOperatorthis = SubsetOperator(model_cfg.batch_size_query, device, model_cfg.temp_k_subset, False).to(device)\n",
        "reciprocal_size_value =  math.log(1.0 / tensor_size)"
      ],
      "metadata": {
        "id": "Y7kohl7H3328"
      },
      "execution_count": null,
      "outputs": []
    },
    {
      "cell_type": "code",
      "source": [
        "# Now compute the logarithm of the reciprocal\n",
        "NN_weights = torch.full([tensor_size], reciprocal_size_value, requires_grad=True)\n",
        "meta_opt = optim.Adam([NN_weights], lr=model_cfg.meta_opt_lr, weight_decay=model_cfg.meta_opt_weight_decay)       # meta_opt is optimizer for parameters of NN_weights    #seed for this\n",
        "seed = 0\n",
        "train(ENN,init_train_x, init_train_y_new, pool_x, pool_y_new, test_x, test_y_new, device, train_cfg, enn_cfg, NN_weights, meta_opt, SubsetOperatorthis, Predictor, seed, if_print = True)\n",
        "NN_weights_new = NN_weights"
      ],
      "metadata": {
        "id": "d5YnTDwt35fF"
      },
      "execution_count": null,
      "outputs": []
    }
  ]
}