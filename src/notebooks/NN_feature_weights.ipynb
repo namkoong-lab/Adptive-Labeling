{
  "nbformat": 4,
  "nbformat_minor": 0,
  "metadata": {
    "colab": {
      "provenance": []
    },
    "kernelspec": {
      "name": "python3",
      "display_name": "Python 3"
    },
    "language_info": {
      "name": "python"
    }
  },
  "cells": [
    {
      "cell_type": "code",
      "execution_count": 1,
      "metadata": {
        "id": "O3az4fbf85nO"
      },
      "outputs": [],
      "source": [
        "import torch.nn as nn"
      ]
    },
    {
      "cell_type": "code",
      "source": [
        "class NN_feature_weights(nn.Module):\n",
        "    def __init__(self, input_size, hidden_sizes, output_size):\n",
        "        super(NN_feature_weights, self).__init__()\n",
        "        layers = []\n",
        "\n",
        "        # Input layer\n",
        "        layers.append(nn.Linear(input_size, hidden_sizes[0]))\n",
        "        layers.append(nn.ReLU())\n",
        "\n",
        "        # Hidden layers\n",
        "        for i in range(len(hidden_sizes) - 1):\n",
        "            layers.append(nn.Linear(hidden_sizes[i], hidden_sizes[i + 1]))\n",
        "            layers.append(nn.ReLU())\n",
        "\n",
        "        # Output layer\n",
        "        layers.append(nn.Linear(hidden_sizes[-1], output_size))\n",
        "\n",
        "        # Combine all layers\n",
        "        self.layers = nn.Sequential(*layers)\n",
        "\n",
        "    def forward(self, x):\n",
        "        return self.layers(x)\n",
        "\n",
        "\n",
        "\n",
        "# EXAMPLE\n",
        "# input_size = 2\n",
        "# net = NN_feature_weights(input_size,[5,5], 1)"
      ],
      "metadata": {
        "id": "8GuY5vL-iZHd"
      },
      "execution_count": 2,
      "outputs": []
    }
  ]
}