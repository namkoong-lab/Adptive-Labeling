{
  "nbformat": 4,
  "nbformat_minor": 0,
  "metadata": {
    "colab": {
      "provenance": []
    },
    "kernelspec": {
      "name": "python3",
      "display_name": "Python 3"
    },
    "language_info": {
      "name": "python"
    }
  },
  "cells": [
    {
      "cell_type": "code",
      "execution_count": null,
      "metadata": {
        "id": "uBat-aIHJY-0"
      },
      "outputs": [],
      "source": [
        "import torch\n",
        "from torch.utils.data import Dataset, DataLoader\n",
        "import pandas as pd"
      ]
    },
    {
      "cell_type": "code",
      "source": [
        "# Returns features with shape [Batch_size, features], Labels with shape [Batch_size,1]\n",
        "\n",
        "class TabularDataset(Dataset):\n",
        "    def __init__(self, csv_file, y_column):\n",
        "        \"\"\"\n",
        "        Args:\n",
        "            csv_file (string): Path to the csv file with data.\n",
        "            y_column (string): Name of the column to be used as the target variable.\n",
        "        \"\"\"\n",
        "        self.data_frame = pd.read_csv(csv_file)\n",
        "        self.y_column = y_column\n",
        "\n",
        "    def __len__(self):\n",
        "        return len(self.data_frame)\n",
        "\n",
        "    def __getitem__(self, idx):\n",
        "        if torch.is_tensor(idx):\n",
        "            idx = idx.tolist()\n",
        "\n",
        "        # Split data into features and target\n",
        "        x = self.data_frame.drop(self.y_column, axis=1).iloc[idx]\n",
        "        y = self.data_frame[self.y_column].iloc[idx]\n",
        "\n",
        "        # If idx is a list or slice, y will be DataFrames and we can use .values\n",
        "        # If idx is a single value, y will be scalars, and we should not use .values\n",
        "        if isinstance(idx, int):\n",
        "            # Convert y to 1D arrays with a single value each\n",
        "            y = np.array([y])\n",
        "        else:\n",
        "            # Convert DataFrame to numpy array\n",
        "            y = y.values\n",
        "\n",
        "        # Convert to tensor\n",
        "        x = torch.tensor(x, dtype=torch.float32)\n",
        "        y = torch.tensor(y, dtype=torch.float32)\n",
        "\n",
        "        return x, y\n"
      ],
      "metadata": {
        "id": "ctcTEbpDJd0V"
      },
      "execution_count": null,
      "outputs": []
    },
    {
      "cell_type": "code",
      "source": [
        "# Returns features with shape [Batch_size, features], Labels with shope [Batch_size,1], Indices with shape [Batch_size] --- required for extracting weights of a given batch of pool\n",
        "\n",
        "class TabularDatasetPool(Dataset):\n",
        "    def __init__(self, csv_file, y_column):\n",
        "        \"\"\"\n",
        "        Args:\n",
        "            csv_file (string): Path to the csv file with data.\n",
        "            y_column (string): Name of the column to be used as the target variable.\n",
        "        \"\"\"\n",
        "        self.data_frame = pd.read_csv(csv_file)\n",
        "        self.y_column = y_column\n",
        "\n",
        "    def __len__(self):\n",
        "        return len(self.data_frame)\n",
        "\n",
        "    def __getitem__(self, idx):\n",
        "        if torch.is_tensor(idx):\n",
        "            idx = idx.tolist()\n",
        "\n",
        "        # Split data into features and target\n",
        "        x = self.data_frame.drop(self.y_column, axis=1).iloc[idx].values\n",
        "        y = self.data_frame[self.y_column].iloc[idx]\n",
        "\n",
        "        # If idx is a list or slice, y will be DataFrames and we can use .values\n",
        "        # If idx is a single value, y will be scalars, and we should not use .values\n",
        "        if isinstance(idx, int):\n",
        "            # y to 1D arrays with a single value each\n",
        "            y = np.array([y])\n",
        "        else:\n",
        "            # Convert DataFrame to numpy array\n",
        "            y = y.values\n",
        "\n",
        "        # Convert to tensor\n",
        "        x = torch.tensor(x, dtype=torch.float32)\n",
        "        y = torch.tensor(y, dtype=torch.float32)\n",
        "\n",
        "        return idx, x, y\n"
      ],
      "metadata": {
        "id": "LuQJaiaqJmKm"
      },
      "execution_count": null,
      "outputs": []
    }
  ]
}