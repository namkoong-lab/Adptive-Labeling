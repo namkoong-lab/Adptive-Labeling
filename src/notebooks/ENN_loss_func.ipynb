{
  "nbformat": 4,
  "nbformat_minor": 0,
  "metadata": {
    "colab": {
      "provenance": []
    },
    "kernelspec": {
      "name": "python3",
      "display_name": "Python 3"
    },
    "language_info": {
      "name": "python"
    }
  },
  "cells": [
    {
      "cell_type": "code",
      "execution_count": null,
      "metadata": {
        "id": "jG5-5xHC-zP1"
      },
      "outputs": [],
      "source": [
        "import torch\n",
        "import torch.nn.functional as F"
      ]
    },
    {
      "cell_type": "code",
      "source": [
        "def weighted_nll_loss(log_probs, targets, weights):\n",
        "    \"\"\"\n",
        "    Custom weighted Negative Log Likelihood Loss\n",
        "    :param log_probs: Log probabilities (output of log-softmax) from the model.   #[N, C] - dim\n",
        "    :param targets: Target labels.   #[N] - dim\n",
        "    :param weights: Weights for each sample in the batch.    #[N] - dim\n",
        "    :return: Weighted NLL loss\n",
        "    \"\"\"\n",
        "    # NLL loss for each sample\n",
        "    nll_loss = F.nll_loss(log_probs, targets, reduction='none')\n",
        "\n",
        "    # Apply weights\n",
        "    weighted_loss = nll_loss * weights\n",
        "\n",
        "    # Average the weighted losses\n",
        "    return weighted_loss.mean()"
      ],
      "metadata": {
        "id": "e4Sg-UFbN7Jd"
      },
      "execution_count": null,
      "outputs": []
    },
    {
      "cell_type": "code",
      "source": [
        "#MIGHT BE USEFUL FOR ABOVE FUNCTION\n",
        "# class CustomLoss(nn.Module):\n",
        "#     def __init__(self):\n",
        "#         super(CustomLoss, self).__init__()\n",
        "#         # Initialize any parameters or layers\n",
        "\n",
        "#     def forward(self, output, target):\n",
        "#         # Define your custom loss computation\n",
        "#         loss = torch.mean((output - target) ** 2)  # Example: Mean Squared Error\n",
        "#         return loss\n",
        "\n",
        "# # Usage example\n",
        "# criterion = CustomLoss()\n",
        "# output = model(input)\n",
        "# target = ...  # Your target tensor\n",
        "# loss = criterion(output, target)\n",
        "# loss.backward()"
      ],
      "metadata": {
        "id": "xQHn7i6r-5D0"
      },
      "execution_count": null,
      "outputs": []
    }
  ]
}