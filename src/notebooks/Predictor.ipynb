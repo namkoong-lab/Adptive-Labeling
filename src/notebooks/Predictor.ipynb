{
  "nbformat": 4,
  "nbformat_minor": 0,
  "metadata": {
    "colab": {
      "provenance": []
    },
    "kernelspec": {
      "name": "python3",
      "display_name": "Python 3"
    },
    "language_info": {
      "name": "python"
    }
  },
  "cells": [
    {
      "cell_type": "code",
      "execution_count": null,
      "metadata": {
        "id": "se5lN_w247iO"
      },
      "outputs": [],
      "source": [
        "import torch\n",
        "import torch.nn as nn\n",
        "import torch.optim as optim\n",
        "\n",
        "# Define the model class\n",
        "class LinearRegressor(nn.Module):\n",
        "    def __init__(self, input_size, output_size):\n",
        "        super(LinearRegressor, self).__init__()\n",
        "        self.linear = nn.Linear(input_size, output_size)\n",
        "\n",
        "    def forward(self, x):\n",
        "        return self.linear(x)\n",
        "\n"
      ]
    },
    {
      "cell_type": "code",
      "source": [
        "# Example Data (Replace with your actual data)\n",
        "# X_train: tensor of shape [n_samples, n_features]\n",
        "# y_train: tensor of shape [n_samples, 1]\n",
        "\n",
        "# Convert data to PyTorch tensors if they aren't already\n",
        "X_train = torch.tensor(X_train, dtype=torch.float32)\n",
        "y_train = torch.tensor(y_train, dtype=torch.float32)\n",
        "\n",
        "# Hyperparameters\n",
        "epochs = 100  # Number of training iterations\n",
        "learning_rate = 0.01\n",
        "\n",
        "# Model, Loss and Optimizer\n",
        "model = LinearRegressor(input_size=X_train.shape[1], output_size=1)\n",
        "criterion = nn.MSELoss()\n",
        "optimizer = optim.SGD(model.parameters(), lr=learning_rate)\n",
        "\n",
        "# Training loop\n",
        "for epoch in range(epochs):\n",
        "    # Forward pass: Compute predicted y by passing X to the model\n",
        "    y_pred = model(X_train)\n",
        "\n",
        "    # Compute and print loss\n",
        "    loss = criterion(y_pred, y_train)\n",
        "    if epoch % 10 == 0:  # Print every 10th epoch\n",
        "        print(f'Epoch {epoch}, Loss: {loss.item()}')\n",
        "\n",
        "    # Zero gradients, perform a backward pass, and update the weights.\n",
        "    optimizer.zero_grad()\n",
        "    loss.backward()\n",
        "    optimizer.step()\n",
        "\n"
      ],
      "metadata": {
        "id": "hbSkUySu5M86"
      },
      "execution_count": null,
      "outputs": []
    }
  ]
}